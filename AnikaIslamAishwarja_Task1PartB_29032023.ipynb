{
  "cells": [
    {
      "cell_type": "markdown",
      "metadata": {
        "id": "view-in-github",
        "colab_type": "text"
      },
      "source": [
        "<a href=\"https://colab.research.google.com/github/AnikaAishwarja/AnikaAishwarja/blob/main/AnikaIslamAishwarja_Task1PartB_29032023.ipynb\" target=\"_parent\"><img src=\"https://colab.research.google.com/assets/colab-badge.svg\" alt=\"Open In Colab\"/></a>"
      ]
    },
    {
      "cell_type": "markdown",
      "source": [
        "# **1. Introduction**\n",
        "\n",
        "The COVID-19 pandemic has had a profound impact on global health and economies, affecting millions of lives worldwide. Widespread vaccination has been identified as a critical strategy for controlling the spread of the virus and reducing the burden on healthcare systems. However, vaccine hesitancy remains a significant barrier to achieving herd immunity. In response to this challenge, the Vaccine Information Resource Assistant (VIRA) was developed to provide accurate information about COVID-19 vaccines and address vaccine hesitancy (Gretz et al., 2022).\n",
        "\n",
        "The VIRA Conversation Corpus, released by IBM research, includes two annotated datasets that provide insights into user queries and levels of trust in VIRA.  \n",
        "\n",
        "1.   The Intent dataset contains diverse queries mapped to people's intents concerning COVID-19 vaccines and can be used to detect common user intents when conversing in a task-oriented dialogue setting.\n",
        "2.   The Trust Classification dataset contains annotations of high trust, low institutional trust, and low agent trust in user inputs to VIRA and can be used to detect user trust.\n",
        "\n",
        "This report aims to explore, analyze, manipulate, visualize, and interpret the VIRA Conversation Corpus using Python and following CRISP-DM method. The objective is to derive insights from the datasets and craft a clear, engaging, and informative narrative. Specifically, the aim is to identify common user intents in conversing about COVID-19 vaccines and detect levels of user trust in the VIRA chatbot. The insights derived from this analysis will inform health organizations, policymakers, and stakeholders about vaccine hesitancy and strategies to address it.\n",
        "\n",
        "The remainder of this report is structured as follows. Firstly, an overview of the datasets and their characteristics will be provided. The methodology used to analyze the datasets will be described, including data preprocessing, exploratory data analysis, and visualization techniques. Next, the results of the analysis will be presented.\n",
        "\n"
      ],
      "metadata": {
        "id": "0VKHaMS2o0Fp"
      }
    },
    {
      "cell_type": "markdown",
      "source": [
        "# **2. Business Understanding**\n",
        "\n",
        "The COVID-19 pandemic has created a significant demand for accurate information about vaccines. However, vaccine hesitancy remains a significant challenge, particularly among certain demographics and communities. The VIRA chatbot was developed to provide accurate information about COVID-19 vaccines and address vaccine hesitancy. Understanding the user intents in VIRA can help to identify ways to improve the effectiveness of the chatbot in providing information about vaccines and addressing vaccine hesitancy.\n",
        "\n",
        "The Intent dataset contains diverse queries related to people's intents concerning COVID-19 vaccines, and as such, it can be a valuable resource for detecting common user intents when conversing in a task-oriented dialogue setting.\n",
        "\n",
        "Given the ongoing global crisis caused by the COVID-19 pandemic, it is critical to understand the public's concerns, questions, and intentions regarding vaccines, which are a key tool in combatting the spread of the virus. The Intent dataset provides a large and varied set of queries that can help researchers and practitioners gain insights into the most common user intents related to COVID-19 vaccines.\n",
        "\n",
        "By analyzing this dataset, researchers and practitioners can better understand the concerns and questions that people have about the COVID-19 vaccine, and design effective strategies for addressing these concerns and providing accurate information to the public. This can help increase trust in the vaccine and ultimately lead to higher rates of vaccination, which is crucial in ending the pandemic and restoring public health and wellbeing.\n",
        "\n",
        "The stakeholders of the Intent dataset include healthcare professionals, public health officials, researchers, policy makers, and vaccine manufacturers. These stakeholders can use the dataset to gain insights into the public's concerns, questions, and intentions related to COVID-19 vaccines, and design effective strategies for addressing these concerns and providing accurate information to the public.\n",
        "\n",
        "Business questions:\n",
        "- what are the most frequent words?\n",
        "- what are the topic that people fear most about covid vaccine?\n",
        "- what are the overall sentiment on the covid vaccine?\n",
        "\n"
      ],
      "metadata": {
        "id": "X7BLy_XoyUMo"
      }
    },
    {
      "cell_type": "markdown",
      "source": [
        "# **3. Data Understanding**\n",
        "\n",
        "In this section, the provided datasets will be explored to gain a better understanding of the data and its characteristics. \n"
      ],
      "metadata": {
        "id": "HtUEVfstruES"
      }
    },
    {
      "cell_type": "markdown",
      "source": [
        "## **i. Data Collection:**\n",
        "The datasets were obtained from the Vaccine Information Resource Assistant (VIRA) Conversation Corpus released by IBM research. The dataset contains two sets of annotated csv files, namely the Intent dataset and the Trust Classification dataset. For this analysis, the Intent dataset will be focused, which contains diverse queries mapped to people's intents concerning COVID-19 vaccines, such as their effectiveness, side effects, and availability.\n",
        "\\\n",
        "\\\n",
        "Here is python code for data import and reading:"
      ],
      "metadata": {
        "id": "bvYmzFY7BJp0"
      }
    },
    {
      "cell_type": "markdown",
      "metadata": {
        "id": "qSQZxLPi1XBt"
      },
      "source": [
        "### **a) Importing Required Libraries**\n",
        "\n",
        "Firstly, it was needed to import libaries as it allows the code to access pre-written functions and tools that can save time and effort in development."
      ]
    },
    {
      "cell_type": "code",
      "execution_count": null,
      "metadata": {
        "id": "qrlpNTt86ePy",
        "colab": {
          "base_uri": "https://localhost:8080/"
        },
        "outputId": "9d5b3901-dfe9-4474-e457-19bbf1b2ea0d"
      },
      "outputs": [
        {
          "output_type": "stream",
          "name": "stderr",
          "text": [
            "[nltk_data] Downloading package stopwords to /root/nltk_data...\n",
            "[nltk_data]   Package stopwords is already up-to-date!\n",
            "[nltk_data] Downloading package punkt to /root/nltk_data...\n",
            "[nltk_data]   Package punkt is already up-to-date!\n",
            "[nltk_data] Downloading package wordnet to /root/nltk_data...\n",
            "[nltk_data]   Package wordnet is already up-to-date!\n",
            "[nltk_data] Downloading package vader_lexicon to /root/nltk_data...\n",
            "[nltk_data]   Package vader_lexicon is already up-to-date!\n"
          ]
        },
        {
          "output_type": "stream",
          "name": "stdout",
          "text": [
            "Looking in indexes: https://pypi.org/simple, https://us-python.pkg.dev/colab-wheels/public/simple/\n",
            "Requirement already satisfied: mlxtend in /usr/local/lib/python3.9/dist-packages (0.14.0)\n",
            "Requirement already satisfied: matplotlib>=1.5.1 in /usr/local/lib/python3.9/dist-packages (from mlxtend) (3.7.1)\n",
            "Requirement already satisfied: setuptools in /usr/local/lib/python3.9/dist-packages (from mlxtend) (67.6.0)\n",
            "Requirement already satisfied: scipy>=0.17 in /usr/local/lib/python3.9/dist-packages (from mlxtend) (1.10.1)\n",
            "Requirement already satisfied: scikit-learn>=0.18 in /usr/local/lib/python3.9/dist-packages (from mlxtend) (1.2.2)\n",
            "Requirement already satisfied: pandas>=0.17.1 in /usr/local/lib/python3.9/dist-packages (from mlxtend) (1.4.4)\n",
            "Requirement already satisfied: numpy>=1.10.4 in /usr/local/lib/python3.9/dist-packages (from mlxtend) (1.22.4)\n",
            "Requirement already satisfied: packaging>=20.0 in /usr/local/lib/python3.9/dist-packages (from matplotlib>=1.5.1->mlxtend) (23.0)\n",
            "Requirement already satisfied: kiwisolver>=1.0.1 in /usr/local/lib/python3.9/dist-packages (from matplotlib>=1.5.1->mlxtend) (1.4.4)\n",
            "Requirement already satisfied: importlib-resources>=3.2.0 in /usr/local/lib/python3.9/dist-packages (from matplotlib>=1.5.1->mlxtend) (5.12.0)\n",
            "Requirement already satisfied: fonttools>=4.22.0 in /usr/local/lib/python3.9/dist-packages (from matplotlib>=1.5.1->mlxtend) (4.39.2)\n",
            "Requirement already satisfied: pyparsing>=2.3.1 in /usr/local/lib/python3.9/dist-packages (from matplotlib>=1.5.1->mlxtend) (3.0.9)\n",
            "Requirement already satisfied: pillow>=6.2.0 in /usr/local/lib/python3.9/dist-packages (from matplotlib>=1.5.1->mlxtend) (8.4.0)\n",
            "Requirement already satisfied: cycler>=0.10 in /usr/local/lib/python3.9/dist-packages (from matplotlib>=1.5.1->mlxtend) (0.11.0)\n",
            "Requirement already satisfied: python-dateutil>=2.7 in /usr/local/lib/python3.9/dist-packages (from matplotlib>=1.5.1->mlxtend) (2.8.2)\n",
            "Requirement already satisfied: contourpy>=1.0.1 in /usr/local/lib/python3.9/dist-packages (from matplotlib>=1.5.1->mlxtend) (1.0.7)\n",
            "Requirement already satisfied: pytz>=2020.1 in /usr/local/lib/python3.9/dist-packages (from pandas>=0.17.1->mlxtend) (2022.7.1)\n",
            "Requirement already satisfied: threadpoolctl>=2.0.0 in /usr/local/lib/python3.9/dist-packages (from scikit-learn>=0.18->mlxtend) (3.1.0)\n",
            "Requirement already satisfied: joblib>=1.1.1 in /usr/local/lib/python3.9/dist-packages (from scikit-learn>=0.18->mlxtend) (1.1.1)\n",
            "Requirement already satisfied: zipp>=3.1.0 in /usr/local/lib/python3.9/dist-packages (from importlib-resources>=3.2.0->matplotlib>=1.5.1->mlxtend) (3.15.0)\n",
            "Requirement already satisfied: six>=1.5 in /usr/local/lib/python3.9/dist-packages (from python-dateutil>=2.7->matplotlib>=1.5.1->mlxtend) (1.16.0)\n"
          ]
        }
      ],
      "source": [
        "# downloading necessary corpus from libraries\n",
        "\n",
        "import nltk # for natural language processing\n",
        "nltk.download('stopwords')\n",
        "nltk.download('punkt')\n",
        "nltk.download('wordnet')\n",
        "nltk.download('vader_lexicon')\n",
        "!pip install mlxtend"
      ]
    },
    {
      "cell_type": "code",
      "execution_count": null,
      "metadata": {
        "id": "U2u88pxk1PrW"
      },
      "outputs": [],
      "source": [
        "# importing libraries\n",
        "\n",
        "import pandas as pd # for data handling and manipulation\n",
        "import matplotlib.pyplot as plt # for data visualization\n",
        "import seaborn as sns # for advanced data visualization\n",
        "from google.colab import drive # for mounting the Google Drive to access the data\n",
        "from wordcloud import WordCloud # for creating wordclouds\n",
        "\n",
        "from nltk.corpus import stopwords # for removing stopwords\n",
        "from nltk.tokenize import word_tokenize # for word tokenizing\n",
        "from nltk.corpus import wordnet # for lemmatizing the words\n",
        "from nltk.stem import WordNetLemmatizer # for lemmatizing the words\n",
        "import string # for removing punctuation, 'string' is needed\n",
        "from gensim.utils import simple_preprocess # for text preprocessing\n",
        "from gensim.models import Phrases # to detect phrases\n",
        "from gensim.models.phrases import Phraser # to detect phrases and convert them to bigrams\n",
        "from nltk.sentiment.vader import SentimentIntensityAnalyzer #for sentiment analysis\n"
      ]
    },
    {
      "cell_type": "markdown",
      "metadata": {
        "id": "9HAYTep91jnd"
      },
      "source": [
        "### **b) Mounting Google Drive for Data Access**"
      ]
    },
    {
      "cell_type": "code",
      "execution_count": null,
      "metadata": {
        "colab": {
          "base_uri": "https://localhost:8080/"
        },
        "id": "yNCC8mIe1ksZ",
        "outputId": "e8c1dd18-ab25-4646-d49f-2d46fffbdef1"
      },
      "outputs": [
        {
          "output_type": "stream",
          "name": "stdout",
          "text": [
            "Drive already mounted at /content/gdrive; to attempt to forcibly remount, call drive.mount(\"/content/gdrive\", force_remount=True).\n"
          ]
        }
      ],
      "source": [
        "# Mount the Google Drive to access the data\n",
        "drive.mount('/content/gdrive')"
      ]
    },
    {
      "cell_type": "markdown",
      "metadata": {
        "id": "z9wv2GhH10Tv"
      },
      "source": [
        "### **c) Changing the current directory to a dataset folder**"
      ]
    },
    {
      "cell_type": "code",
      "execution_count": null,
      "metadata": {
        "colab": {
          "base_uri": "https://localhost:8080/"
        },
        "id": "J3GP_ajn12Av",
        "outputId": "b396f76e-dc7a-4d61-9de9-df2d466eb5a6"
      },
      "outputs": [
        {
          "output_type": "stream",
          "name": "stdout",
          "text": [
            "/content/gdrive/MyDrive/Colab/ANLP/AT1_PartB/dataset\n",
            "/content/gdrive/MyDrive/Colab/ANLP/AT1_PartB/dataset\n"
          ]
        }
      ],
      "source": [
        "%cd /content/gdrive/MyDrive/Colab/ANLP/AT1_PartB/dataset\n",
        "!pwd\n",
        "#!unzip dataset.zip"
      ]
    },
    {
      "cell_type": "markdown",
      "source": [
        "The following code is for fixing an issue related to UTF-8 locale."
      ],
      "metadata": {
        "id": "5rHF8rXq_vNU"
      }
    },
    {
      "cell_type": "code",
      "source": [
        "# for fixing an issue related to UTF-8 locale; ref: https://stackoverflow.com/questions/56081324/why-are-google-colab-shell-commands-not-working\n",
        "import locale\n",
        "print(locale.getpreferredencoding())\n",
        "\n",
        "import locale\n",
        "def getpreferredencoding(do_setlocale = True):\n",
        "    return \"UTF-8\"\n",
        "locale.getpreferredencoding = getpreferredencoding"
      ],
      "metadata": {
        "colab": {
          "base_uri": "https://localhost:8080/"
        },
        "id": "I6hP_C7zCoMB",
        "outputId": "4b51c56c-0a5f-4af6-c03d-504f3774ae37"
      },
      "execution_count": null,
      "outputs": [
        {
          "output_type": "stream",
          "name": "stdout",
          "text": [
            "UTF-8\n"
          ]
        }
      ]
    },
    {
      "cell_type": "markdown",
      "source": [
        "For getting the lists of files or subfolders in the directory"
      ],
      "metadata": {
        "id": "EFzkyFWK7UjD"
      }
    },
    {
      "cell_type": "code",
      "execution_count": null,
      "metadata": {
        "colab": {
          "base_uri": "https://localhost:8080/"
        },
        "id": "LBbAtq552xWA",
        "outputId": "4851a6ba-cd28-4265-f6c8-a2b1ee0ba739"
      },
      "outputs": [
        {
          "output_type": "stream",
          "name": "stdout",
          "text": [
            " dataset.zip                           \u001b[0m\u001b[01;34m'IBM_Debater_(R)_trust_data'\u001b[0m/\n",
            "\u001b[01;34m'IBM_Debater_(R)_Intent_expressions'\u001b[0m/   \u001b[01;34m__MACOSX\u001b[0m/\n"
          ]
        }
      ],
      "source": [
        "ls"
      ]
    },
    {
      "cell_type": "code",
      "execution_count": null,
      "metadata": {
        "colab": {
          "base_uri": "https://localhost:8080/"
        },
        "id": "_x6iPL_72zul",
        "outputId": "4e789cd8-8265-4db8-db1a-282b0a15be76"
      },
      "outputs": [
        {
          "output_type": "stream",
          "name": "stdout",
          "text": [
            "/content/gdrive/MyDrive/Colab/ANLP/AT1_PartB/dataset/IBM_Debater_(R)_Intent_expressions\n"
          ]
        }
      ],
      "source": [
        "# changing directory to the intent dataset\n",
        "%cd /content/gdrive/MyDrive/Colab/ANLP/AT1_PartB/dataset/IBM_Debater_(R)_Intent_expressions"
      ]
    },
    {
      "cell_type": "code",
      "source": [
        "ls"
      ],
      "metadata": {
        "colab": {
          "base_uri": "https://localhost:8080/"
        },
        "id": "J5QvZNOX66jh",
        "outputId": "81d080ae-3811-4b53-c6e4-1731a6835a5c"
      },
      "execution_count": null,
      "outputs": [
        {
          "output_type": "stream",
          "name": "stdout",
          "text": [
            "dev_23.csv  README.txt  test_23.csv  train_23.csv\n"
          ]
        }
      ]
    },
    {
      "cell_type": "markdown",
      "source": [
        "## **ii. Data Description:**\n",
        "The dataset consists of three subsets: train, dev, and test. Now, the files (CSV version) will be read using pandas library:\n",
        "\n"
      ],
      "metadata": {
        "id": "frxffvrj0rcH"
      }
    },
    {
      "cell_type": "code",
      "execution_count": null,
      "metadata": {
        "id": "APd1RN6t1WbI"
      },
      "outputs": [],
      "source": [
        "intent_train_df = pd.read_csv('train_23.csv') # training dataset\n",
        "intent_dev_df = pd.read_csv('dev_23.csv') # dev dataset\n",
        "intent_test_df = pd.read_csv('test_23.csv') # test dataset"
      ]
    },
    {
      "cell_type": "code",
      "execution_count": null,
      "metadata": {
        "colab": {
          "base_uri": "https://localhost:8080/",
          "height": 863
        },
        "id": "mIF6LXQf4GMH",
        "outputId": "0e01c2f9-957c-49af-b5e3-3d6ccb4c52ae"
      },
      "outputs": [
        {
          "output_type": "execute_result",
          "data": {
            "text/plain": [
              "                                            sentence  \\\n",
              "0  Do booster shots have side effects worsen than...   \n",
              "1                      the vaccine has side effects?   \n",
              "2  booster vaccine leaves worse side effects than...   \n",
              "3                           are reinforcements safe?   \n",
              "4  because the second dose of the covid-19 vaccin...   \n",
              "\n",
              "                                               label  label_idx  \n",
              "0  Are booster shot side effects worse than those...        175  \n",
              "1  Are booster shot side effects worse than those...        175  \n",
              "2  Are booster shot side effects worse than those...        175  \n",
              "3  Are booster shot side effects worse than those...        175  \n",
              "4  Are booster shot side effects worse than those...        175  "
            ],
            "text/html": [
              "\n",
              "  <div id=\"df-32fc185f-da86-4804-8ea2-debcd5569e28\">\n",
              "    <div class=\"colab-df-container\">\n",
              "      <div>\n",
              "<style scoped>\n",
              "    .dataframe tbody tr th:only-of-type {\n",
              "        vertical-align: middle;\n",
              "    }\n",
              "\n",
              "    .dataframe tbody tr th {\n",
              "        vertical-align: top;\n",
              "    }\n",
              "\n",
              "    .dataframe thead th {\n",
              "        text-align: right;\n",
              "    }\n",
              "</style>\n",
              "<table border=\"1\" class=\"dataframe\">\n",
              "  <thead>\n",
              "    <tr style=\"text-align: right;\">\n",
              "      <th></th>\n",
              "      <th>sentence</th>\n",
              "      <th>label</th>\n",
              "      <th>label_idx</th>\n",
              "    </tr>\n",
              "  </thead>\n",
              "  <tbody>\n",
              "    <tr>\n",
              "      <th>0</th>\n",
              "      <td>Do booster shots have side effects worsen than...</td>\n",
              "      <td>Are booster shot side effects worse than those...</td>\n",
              "      <td>175</td>\n",
              "    </tr>\n",
              "    <tr>\n",
              "      <th>1</th>\n",
              "      <td>the vaccine has side effects?</td>\n",
              "      <td>Are booster shot side effects worse than those...</td>\n",
              "      <td>175</td>\n",
              "    </tr>\n",
              "    <tr>\n",
              "      <th>2</th>\n",
              "      <td>booster vaccine leaves worse side effects than...</td>\n",
              "      <td>Are booster shot side effects worse than those...</td>\n",
              "      <td>175</td>\n",
              "    </tr>\n",
              "    <tr>\n",
              "      <th>3</th>\n",
              "      <td>are reinforcements safe?</td>\n",
              "      <td>Are booster shot side effects worse than those...</td>\n",
              "      <td>175</td>\n",
              "    </tr>\n",
              "    <tr>\n",
              "      <th>4</th>\n",
              "      <td>because the second dose of the covid-19 vaccin...</td>\n",
              "      <td>Are booster shot side effects worse than those...</td>\n",
              "      <td>175</td>\n",
              "    </tr>\n",
              "  </tbody>\n",
              "</table>\n",
              "</div>\n",
              "      <button class=\"colab-df-convert\" onclick=\"convertToInteractive('df-32fc185f-da86-4804-8ea2-debcd5569e28')\"\n",
              "              title=\"Convert this dataframe to an interactive table.\"\n",
              "              style=\"display:none;\">\n",
              "        \n",
              "  <svg xmlns=\"http://www.w3.org/2000/svg\" height=\"24px\"viewBox=\"0 0 24 24\"\n",
              "       width=\"24px\">\n",
              "    <path d=\"M0 0h24v24H0V0z\" fill=\"none\"/>\n",
              "    <path d=\"M18.56 5.44l.94 2.06.94-2.06 2.06-.94-2.06-.94-.94-2.06-.94 2.06-2.06.94zm-11 1L8.5 8.5l.94-2.06 2.06-.94-2.06-.94L8.5 2.5l-.94 2.06-2.06.94zm10 10l.94 2.06.94-2.06 2.06-.94-2.06-.94-.94-2.06-.94 2.06-2.06.94z\"/><path d=\"M17.41 7.96l-1.37-1.37c-.4-.4-.92-.59-1.43-.59-.52 0-1.04.2-1.43.59L10.3 9.45l-7.72 7.72c-.78.78-.78 2.05 0 2.83L4 21.41c.39.39.9.59 1.41.59.51 0 1.02-.2 1.41-.59l7.78-7.78 2.81-2.81c.8-.78.8-2.07 0-2.86zM5.41 20L4 18.59l7.72-7.72 1.47 1.35L5.41 20z\"/>\n",
              "  </svg>\n",
              "      </button>\n",
              "      \n",
              "  <style>\n",
              "    .colab-df-container {\n",
              "      display:flex;\n",
              "      flex-wrap:wrap;\n",
              "      gap: 12px;\n",
              "    }\n",
              "\n",
              "    .colab-df-convert {\n",
              "      background-color: #E8F0FE;\n",
              "      border: none;\n",
              "      border-radius: 50%;\n",
              "      cursor: pointer;\n",
              "      display: none;\n",
              "      fill: #1967D2;\n",
              "      height: 32px;\n",
              "      padding: 0 0 0 0;\n",
              "      width: 32px;\n",
              "    }\n",
              "\n",
              "    .colab-df-convert:hover {\n",
              "      background-color: #E2EBFA;\n",
              "      box-shadow: 0px 1px 2px rgba(60, 64, 67, 0.3), 0px 1px 3px 1px rgba(60, 64, 67, 0.15);\n",
              "      fill: #174EA6;\n",
              "    }\n",
              "\n",
              "    [theme=dark] .colab-df-convert {\n",
              "      background-color: #3B4455;\n",
              "      fill: #D2E3FC;\n",
              "    }\n",
              "\n",
              "    [theme=dark] .colab-df-convert:hover {\n",
              "      background-color: #434B5C;\n",
              "      box-shadow: 0px 1px 3px 1px rgba(0, 0, 0, 0.15);\n",
              "      filter: drop-shadow(0px 1px 2px rgba(0, 0, 0, 0.3));\n",
              "      fill: #FFFFFF;\n",
              "    }\n",
              "  </style>\n",
              "\n",
              "      <script>\n",
              "        const buttonEl =\n",
              "          document.querySelector('#df-32fc185f-da86-4804-8ea2-debcd5569e28 button.colab-df-convert');\n",
              "        buttonEl.style.display =\n",
              "          google.colab.kernel.accessAllowed ? 'block' : 'none';\n",
              "\n",
              "        async function convertToInteractive(key) {\n",
              "          const element = document.querySelector('#df-32fc185f-da86-4804-8ea2-debcd5569e28');\n",
              "          const dataTable =\n",
              "            await google.colab.kernel.invokeFunction('convertToInteractive',\n",
              "                                                     [key], {});\n",
              "          if (!dataTable) return;\n",
              "\n",
              "          const docLinkHtml = 'Like what you see? Visit the ' +\n",
              "            '<a target=\"_blank\" href=https://colab.research.google.com/notebooks/data_table.ipynb>data table notebook</a>'\n",
              "            + ' to learn more about interactive tables.';\n",
              "          element.innerHTML = '';\n",
              "          dataTable['output_type'] = 'display_data';\n",
              "          await google.colab.output.renderOutput(dataTable, element);\n",
              "          const docLink = document.createElement('div');\n",
              "          docLink.innerHTML = docLinkHtml;\n",
              "          element.appendChild(docLink);\n",
              "        }\n",
              "      </script>\n",
              "    </div>\n",
              "  </div>\n",
              "  "
            ]
          },
          "metadata": {},
          "execution_count": 117
        }
      ],
      "source": [
        "intent_train_df.head(5)"
      ]
    },
    {
      "cell_type": "code",
      "execution_count": null,
      "metadata": {
        "colab": {
          "base_uri": "https://localhost:8080/",
          "height": 778
        },
        "id": "KlHxB5lw38J1",
        "outputId": "bf309c85-4dd7-40f8-8893-3bd949beb990"
      },
      "outputs": [
        {
          "output_type": "execute_result",
          "data": {
            "text/plain": [
              "                                            sentence  \\\n",
              "0  If I apply the third dose, will I have stronge...   \n",
              "1         What effects do these reinforcements have?   \n",
              "2  i dont think the vaccine is neccessary the bas...   \n",
              "3  If I comply with the security measures, will I...   \n",
              "4    This is like the flu, being cautious is enough.   \n",
              "\n",
              "                                               label  label_idx  \n",
              "0  Are booster shot side effects worse than those...        175  \n",
              "1  Are booster shot side effects worse than those...        175  \n",
              "2  Are regular safety measures enough to stay hea...         20  \n",
              "3  Are regular safety measures enough to stay hea...         20  \n",
              "4  Are regular safety measures enough to stay hea...         20  "
            ],
            "text/html": [
              "\n",
              "  <div id=\"df-088a56ab-6b2f-4cf5-9a1e-c04c31956a60\">\n",
              "    <div class=\"colab-df-container\">\n",
              "      <div>\n",
              "<style scoped>\n",
              "    .dataframe tbody tr th:only-of-type {\n",
              "        vertical-align: middle;\n",
              "    }\n",
              "\n",
              "    .dataframe tbody tr th {\n",
              "        vertical-align: top;\n",
              "    }\n",
              "\n",
              "    .dataframe thead th {\n",
              "        text-align: right;\n",
              "    }\n",
              "</style>\n",
              "<table border=\"1\" class=\"dataframe\">\n",
              "  <thead>\n",
              "    <tr style=\"text-align: right;\">\n",
              "      <th></th>\n",
              "      <th>sentence</th>\n",
              "      <th>label</th>\n",
              "      <th>label_idx</th>\n",
              "    </tr>\n",
              "  </thead>\n",
              "  <tbody>\n",
              "    <tr>\n",
              "      <th>0</th>\n",
              "      <td>If I apply the third dose, will I have stronge...</td>\n",
              "      <td>Are booster shot side effects worse than those...</td>\n",
              "      <td>175</td>\n",
              "    </tr>\n",
              "    <tr>\n",
              "      <th>1</th>\n",
              "      <td>What effects do these reinforcements have?</td>\n",
              "      <td>Are booster shot side effects worse than those...</td>\n",
              "      <td>175</td>\n",
              "    </tr>\n",
              "    <tr>\n",
              "      <th>2</th>\n",
              "      <td>i dont think the vaccine is neccessary the bas...</td>\n",
              "      <td>Are regular safety measures enough to stay hea...</td>\n",
              "      <td>20</td>\n",
              "    </tr>\n",
              "    <tr>\n",
              "      <th>3</th>\n",
              "      <td>If I comply with the security measures, will I...</td>\n",
              "      <td>Are regular safety measures enough to stay hea...</td>\n",
              "      <td>20</td>\n",
              "    </tr>\n",
              "    <tr>\n",
              "      <th>4</th>\n",
              "      <td>This is like the flu, being cautious is enough.</td>\n",
              "      <td>Are regular safety measures enough to stay hea...</td>\n",
              "      <td>20</td>\n",
              "    </tr>\n",
              "  </tbody>\n",
              "</table>\n",
              "</div>\n",
              "      <button class=\"colab-df-convert\" onclick=\"convertToInteractive('df-088a56ab-6b2f-4cf5-9a1e-c04c31956a60')\"\n",
              "              title=\"Convert this dataframe to an interactive table.\"\n",
              "              style=\"display:none;\">\n",
              "        \n",
              "  <svg xmlns=\"http://www.w3.org/2000/svg\" height=\"24px\"viewBox=\"0 0 24 24\"\n",
              "       width=\"24px\">\n",
              "    <path d=\"M0 0h24v24H0V0z\" fill=\"none\"/>\n",
              "    <path d=\"M18.56 5.44l.94 2.06.94-2.06 2.06-.94-2.06-.94-.94-2.06-.94 2.06-2.06.94zm-11 1L8.5 8.5l.94-2.06 2.06-.94-2.06-.94L8.5 2.5l-.94 2.06-2.06.94zm10 10l.94 2.06.94-2.06 2.06-.94-2.06-.94-.94-2.06-.94 2.06-2.06.94z\"/><path d=\"M17.41 7.96l-1.37-1.37c-.4-.4-.92-.59-1.43-.59-.52 0-1.04.2-1.43.59L10.3 9.45l-7.72 7.72c-.78.78-.78 2.05 0 2.83L4 21.41c.39.39.9.59 1.41.59.51 0 1.02-.2 1.41-.59l7.78-7.78 2.81-2.81c.8-.78.8-2.07 0-2.86zM5.41 20L4 18.59l7.72-7.72 1.47 1.35L5.41 20z\"/>\n",
              "  </svg>\n",
              "      </button>\n",
              "      \n",
              "  <style>\n",
              "    .colab-df-container {\n",
              "      display:flex;\n",
              "      flex-wrap:wrap;\n",
              "      gap: 12px;\n",
              "    }\n",
              "\n",
              "    .colab-df-convert {\n",
              "      background-color: #E8F0FE;\n",
              "      border: none;\n",
              "      border-radius: 50%;\n",
              "      cursor: pointer;\n",
              "      display: none;\n",
              "      fill: #1967D2;\n",
              "      height: 32px;\n",
              "      padding: 0 0 0 0;\n",
              "      width: 32px;\n",
              "    }\n",
              "\n",
              "    .colab-df-convert:hover {\n",
              "      background-color: #E2EBFA;\n",
              "      box-shadow: 0px 1px 2px rgba(60, 64, 67, 0.3), 0px 1px 3px 1px rgba(60, 64, 67, 0.15);\n",
              "      fill: #174EA6;\n",
              "    }\n",
              "\n",
              "    [theme=dark] .colab-df-convert {\n",
              "      background-color: #3B4455;\n",
              "      fill: #D2E3FC;\n",
              "    }\n",
              "\n",
              "    [theme=dark] .colab-df-convert:hover {\n",
              "      background-color: #434B5C;\n",
              "      box-shadow: 0px 1px 3px 1px rgba(0, 0, 0, 0.15);\n",
              "      filter: drop-shadow(0px 1px 2px rgba(0, 0, 0, 0.3));\n",
              "      fill: #FFFFFF;\n",
              "    }\n",
              "  </style>\n",
              "\n",
              "      <script>\n",
              "        const buttonEl =\n",
              "          document.querySelector('#df-088a56ab-6b2f-4cf5-9a1e-c04c31956a60 button.colab-df-convert');\n",
              "        buttonEl.style.display =\n",
              "          google.colab.kernel.accessAllowed ? 'block' : 'none';\n",
              "\n",
              "        async function convertToInteractive(key) {\n",
              "          const element = document.querySelector('#df-088a56ab-6b2f-4cf5-9a1e-c04c31956a60');\n",
              "          const dataTable =\n",
              "            await google.colab.kernel.invokeFunction('convertToInteractive',\n",
              "                                                     [key], {});\n",
              "          if (!dataTable) return;\n",
              "\n",
              "          const docLinkHtml = 'Like what you see? Visit the ' +\n",
              "            '<a target=\"_blank\" href=https://colab.research.google.com/notebooks/data_table.ipynb>data table notebook</a>'\n",
              "            + ' to learn more about interactive tables.';\n",
              "          element.innerHTML = '';\n",
              "          dataTable['output_type'] = 'display_data';\n",
              "          await google.colab.output.renderOutput(dataTable, element);\n",
              "          const docLink = document.createElement('div');\n",
              "          docLink.innerHTML = docLinkHtml;\n",
              "          element.appendChild(docLink);\n",
              "        }\n",
              "      </script>\n",
              "    </div>\n",
              "  </div>\n",
              "  "
            ]
          },
          "metadata": {},
          "execution_count": 118
        }
      ],
      "source": [
        "intent_dev_df.head(5)"
      ]
    },
    {
      "cell_type": "code",
      "execution_count": null,
      "metadata": {
        "colab": {
          "base_uri": "https://localhost:8080/",
          "height": 693
        },
        "id": "0P0iarQW4FBV",
        "outputId": "c4f4f532-7218-4837-c558-af3b63934ee9"
      },
      "outputs": [
        {
          "output_type": "execute_result",
          "data": {
            "text/plain": [
              "                                            sentence  \\\n",
              "0  Should I wear a mask even if I get the covid v...   \n",
              "1  Will I be able to meet with friends and family...   \n",
              "2              STILL VACCINATED SHOULD I USE A MASK?   \n",
              "3  will i still need to wear masks and the other ...   \n",
              "4  Do safety measures still apply to those who ha...   \n",
              "\n",
              "                                               label  label_idx  \n",
              "0  Do I need to continue safety measures after ge...          1  \n",
              "1  Do I need to continue safety measures after ge...          1  \n",
              "2  Do I need to continue safety measures after ge...          1  \n",
              "3  Do I need to continue safety measures after ge...          1  \n",
              "4  Do I need to continue safety measures after ge...          1  "
            ],
            "text/html": [
              "\n",
              "  <div id=\"df-5e26f1a8-2a80-49d7-a457-8db15737fc74\">\n",
              "    <div class=\"colab-df-container\">\n",
              "      <div>\n",
              "<style scoped>\n",
              "    .dataframe tbody tr th:only-of-type {\n",
              "        vertical-align: middle;\n",
              "    }\n",
              "\n",
              "    .dataframe tbody tr th {\n",
              "        vertical-align: top;\n",
              "    }\n",
              "\n",
              "    .dataframe thead th {\n",
              "        text-align: right;\n",
              "    }\n",
              "</style>\n",
              "<table border=\"1\" class=\"dataframe\">\n",
              "  <thead>\n",
              "    <tr style=\"text-align: right;\">\n",
              "      <th></th>\n",
              "      <th>sentence</th>\n",
              "      <th>label</th>\n",
              "      <th>label_idx</th>\n",
              "    </tr>\n",
              "  </thead>\n",
              "  <tbody>\n",
              "    <tr>\n",
              "      <th>0</th>\n",
              "      <td>Should I wear a mask even if I get the covid v...</td>\n",
              "      <td>Do I need to continue safety measures after ge...</td>\n",
              "      <td>1</td>\n",
              "    </tr>\n",
              "    <tr>\n",
              "      <th>1</th>\n",
              "      <td>Will I be able to meet with friends and family...</td>\n",
              "      <td>Do I need to continue safety measures after ge...</td>\n",
              "      <td>1</td>\n",
              "    </tr>\n",
              "    <tr>\n",
              "      <th>2</th>\n",
              "      <td>STILL VACCINATED SHOULD I USE A MASK?</td>\n",
              "      <td>Do I need to continue safety measures after ge...</td>\n",
              "      <td>1</td>\n",
              "    </tr>\n",
              "    <tr>\n",
              "      <th>3</th>\n",
              "      <td>will i still need to wear masks and the other ...</td>\n",
              "      <td>Do I need to continue safety measures after ge...</td>\n",
              "      <td>1</td>\n",
              "    </tr>\n",
              "    <tr>\n",
              "      <th>4</th>\n",
              "      <td>Do safety measures still apply to those who ha...</td>\n",
              "      <td>Do I need to continue safety measures after ge...</td>\n",
              "      <td>1</td>\n",
              "    </tr>\n",
              "  </tbody>\n",
              "</table>\n",
              "</div>\n",
              "      <button class=\"colab-df-convert\" onclick=\"convertToInteractive('df-5e26f1a8-2a80-49d7-a457-8db15737fc74')\"\n",
              "              title=\"Convert this dataframe to an interactive table.\"\n",
              "              style=\"display:none;\">\n",
              "        \n",
              "  <svg xmlns=\"http://www.w3.org/2000/svg\" height=\"24px\"viewBox=\"0 0 24 24\"\n",
              "       width=\"24px\">\n",
              "    <path d=\"M0 0h24v24H0V0z\" fill=\"none\"/>\n",
              "    <path d=\"M18.56 5.44l.94 2.06.94-2.06 2.06-.94-2.06-.94-.94-2.06-.94 2.06-2.06.94zm-11 1L8.5 8.5l.94-2.06 2.06-.94-2.06-.94L8.5 2.5l-.94 2.06-2.06.94zm10 10l.94 2.06.94-2.06 2.06-.94-2.06-.94-.94-2.06-.94 2.06-2.06.94z\"/><path d=\"M17.41 7.96l-1.37-1.37c-.4-.4-.92-.59-1.43-.59-.52 0-1.04.2-1.43.59L10.3 9.45l-7.72 7.72c-.78.78-.78 2.05 0 2.83L4 21.41c.39.39.9.59 1.41.59.51 0 1.02-.2 1.41-.59l7.78-7.78 2.81-2.81c.8-.78.8-2.07 0-2.86zM5.41 20L4 18.59l7.72-7.72 1.47 1.35L5.41 20z\"/>\n",
              "  </svg>\n",
              "      </button>\n",
              "      \n",
              "  <style>\n",
              "    .colab-df-container {\n",
              "      display:flex;\n",
              "      flex-wrap:wrap;\n",
              "      gap: 12px;\n",
              "    }\n",
              "\n",
              "    .colab-df-convert {\n",
              "      background-color: #E8F0FE;\n",
              "      border: none;\n",
              "      border-radius: 50%;\n",
              "      cursor: pointer;\n",
              "      display: none;\n",
              "      fill: #1967D2;\n",
              "      height: 32px;\n",
              "      padding: 0 0 0 0;\n",
              "      width: 32px;\n",
              "    }\n",
              "\n",
              "    .colab-df-convert:hover {\n",
              "      background-color: #E2EBFA;\n",
              "      box-shadow: 0px 1px 2px rgba(60, 64, 67, 0.3), 0px 1px 3px 1px rgba(60, 64, 67, 0.15);\n",
              "      fill: #174EA6;\n",
              "    }\n",
              "\n",
              "    [theme=dark] .colab-df-convert {\n",
              "      background-color: #3B4455;\n",
              "      fill: #D2E3FC;\n",
              "    }\n",
              "\n",
              "    [theme=dark] .colab-df-convert:hover {\n",
              "      background-color: #434B5C;\n",
              "      box-shadow: 0px 1px 3px 1px rgba(0, 0, 0, 0.15);\n",
              "      filter: drop-shadow(0px 1px 2px rgba(0, 0, 0, 0.3));\n",
              "      fill: #FFFFFF;\n",
              "    }\n",
              "  </style>\n",
              "\n",
              "      <script>\n",
              "        const buttonEl =\n",
              "          document.querySelector('#df-5e26f1a8-2a80-49d7-a457-8db15737fc74 button.colab-df-convert');\n",
              "        buttonEl.style.display =\n",
              "          google.colab.kernel.accessAllowed ? 'block' : 'none';\n",
              "\n",
              "        async function convertToInteractive(key) {\n",
              "          const element = document.querySelector('#df-5e26f1a8-2a80-49d7-a457-8db15737fc74');\n",
              "          const dataTable =\n",
              "            await google.colab.kernel.invokeFunction('convertToInteractive',\n",
              "                                                     [key], {});\n",
              "          if (!dataTable) return;\n",
              "\n",
              "          const docLinkHtml = 'Like what you see? Visit the ' +\n",
              "            '<a target=\"_blank\" href=https://colab.research.google.com/notebooks/data_table.ipynb>data table notebook</a>'\n",
              "            + ' to learn more about interactive tables.';\n",
              "          element.innerHTML = '';\n",
              "          dataTable['output_type'] = 'display_data';\n",
              "          await google.colab.output.renderOutput(dataTable, element);\n",
              "          const docLink = document.createElement('div');\n",
              "          docLink.innerHTML = docLinkHtml;\n",
              "          element.appendChild(docLink);\n",
              "        }\n",
              "      </script>\n",
              "    </div>\n",
              "  </div>\n",
              "  "
            ]
          },
          "metadata": {},
          "execution_count": 119
        }
      ],
      "source": [
        "intent_test_df.head(5)"
      ]
    },
    {
      "cell_type": "code",
      "execution_count": null,
      "metadata": {
        "colab": {
          "base_uri": "https://localhost:8080/"
        },
        "id": "ZYgMf7rEeHzr",
        "outputId": "6d58b142-73e8-4333-ffbc-7b7c157d6abf"
      },
      "outputs": [
        {
          "output_type": "stream",
          "name": "stdout",
          "text": [
            "<class 'pandas.core.frame.DataFrame'>\n",
            "RangeIndex: 5169 entries, 0 to 5168\n",
            "Data columns (total 3 columns):\n",
            " #   Column     Non-Null Count  Dtype \n",
            "---  ------     --------------  ----- \n",
            " 0   sentence   5169 non-null   object\n",
            " 1   label      5169 non-null   object\n",
            " 2   label_idx  5169 non-null   int64 \n",
            "dtypes: int64(1), object(2)\n",
            "memory usage: 121.3+ KB\n"
          ]
        }
      ],
      "source": [
        "# checking the number of rows, number of columns, column names, and data types\n",
        "intent_train_df.info()"
      ]
    },
    {
      "cell_type": "code",
      "execution_count": null,
      "metadata": {
        "colab": {
          "base_uri": "https://localhost:8080/"
        },
        "id": "q0d6pClvfLx9",
        "outputId": "ef4a0e47-41ab-4f07-d725-304a0ff1a850"
      },
      "outputs": [
        {
          "output_type": "stream",
          "name": "stdout",
          "text": [
            "<class 'pandas.core.frame.DataFrame'>\n",
            "RangeIndex: 664 entries, 0 to 663\n",
            "Data columns (total 3 columns):\n",
            " #   Column     Non-Null Count  Dtype \n",
            "---  ------     --------------  ----- \n",
            " 0   sentence   664 non-null    object\n",
            " 1   label      664 non-null    object\n",
            " 2   label_idx  664 non-null    int64 \n",
            "dtypes: int64(1), object(2)\n",
            "memory usage: 15.7+ KB\n"
          ]
        }
      ],
      "source": [
        "# checking the number of rows, number of columns, column names, and data types\n",
        "intent_dev_df.info()"
      ]
    },
    {
      "cell_type": "code",
      "execution_count": null,
      "metadata": {
        "colab": {
          "base_uri": "https://localhost:8080/"
        },
        "id": "NWVCakBifMeZ",
        "outputId": "3c8900bc-5bea-4a7b-89d8-a49d6648ca90"
      },
      "outputs": [
        {
          "output_type": "stream",
          "name": "stdout",
          "text": [
            "<class 'pandas.core.frame.DataFrame'>\n",
            "RangeIndex: 2139 entries, 0 to 2138\n",
            "Data columns (total 3 columns):\n",
            " #   Column     Non-Null Count  Dtype \n",
            "---  ------     --------------  ----- \n",
            " 0   sentence   2139 non-null   object\n",
            " 1   label      2139 non-null   object\n",
            " 2   label_idx  2139 non-null   int64 \n",
            "dtypes: int64(1), object(2)\n",
            "memory usage: 50.3+ KB\n"
          ]
        }
      ],
      "source": [
        "# checking the number of rows, number of columns, column names, and data types\n",
        "intent_test_df.info()"
      ]
    },
    {
      "cell_type": "markdown",
      "source": [
        "The training dataset has 5169 entries, the dev dataset has 664 entries, and the test dataset has 2139 entries. All datasets have three columns: \"sentence\", \"label\", and \"label_idx\".\n",
        "\\\n",
        "\\\n",
        "The \"sentence\" column contains the user input text, and the \"label\" column contains the intent category that the text belongs to. The \"label_idx\" column contains the numerical index assigned to each intent category. The intent categories are mapped to people's intents concerning COVID-19 vaccines, and they can be used to detect common user intents when conversing in a task-oriented dialogue setting.\n",
        "\\\n",
        "\\\n",
        "All the datasets were annotated by human evaluators. The queries are labeled according to the user's intent, which may include getting information, expressing vaccine hesitancy, or seeking reassurance."
      ],
      "metadata": {
        "id": "hMaRNpFp7rQ0"
      }
    },
    {
      "cell_type": "markdown",
      "source": [
        "## **iii. Data Exploration:**\n"
      ],
      "metadata": {
        "id": "W8kjEpAj0rZM"
      }
    },
    {
      "cell_type": "code",
      "execution_count": null,
      "metadata": {
        "colab": {
          "base_uri": "https://localhost:8080/",
          "height": 361
        },
        "id": "XDLEsRNBgPXa",
        "outputId": "f4f09756-b84b-4705-b885-5cf6e64ba3c8"
      },
      "outputs": [
        {
          "output_type": "execute_result",
          "data": {
            "text/plain": [
              "         label_idx\n",
              "count  5169.000000\n",
              "mean     78.345521\n",
              "std      54.090741\n",
              "min       0.000000\n",
              "25%      29.000000\n",
              "50%      74.000000\n",
              "75%     121.000000\n",
              "max     180.000000"
            ],
            "text/html": [
              "\n",
              "  <div id=\"df-f14d9211-f5d8-4662-ac6f-28a4b980b584\">\n",
              "    <div class=\"colab-df-container\">\n",
              "      <div>\n",
              "<style scoped>\n",
              "    .dataframe tbody tr th:only-of-type {\n",
              "        vertical-align: middle;\n",
              "    }\n",
              "\n",
              "    .dataframe tbody tr th {\n",
              "        vertical-align: top;\n",
              "    }\n",
              "\n",
              "    .dataframe thead th {\n",
              "        text-align: right;\n",
              "    }\n",
              "</style>\n",
              "<table border=\"1\" class=\"dataframe\">\n",
              "  <thead>\n",
              "    <tr style=\"text-align: right;\">\n",
              "      <th></th>\n",
              "      <th>label_idx</th>\n",
              "    </tr>\n",
              "  </thead>\n",
              "  <tbody>\n",
              "    <tr>\n",
              "      <th>count</th>\n",
              "      <td>5169.000000</td>\n",
              "    </tr>\n",
              "    <tr>\n",
              "      <th>mean</th>\n",
              "      <td>78.345521</td>\n",
              "    </tr>\n",
              "    <tr>\n",
              "      <th>std</th>\n",
              "      <td>54.090741</td>\n",
              "    </tr>\n",
              "    <tr>\n",
              "      <th>min</th>\n",
              "      <td>0.000000</td>\n",
              "    </tr>\n",
              "    <tr>\n",
              "      <th>25%</th>\n",
              "      <td>29.000000</td>\n",
              "    </tr>\n",
              "    <tr>\n",
              "      <th>50%</th>\n",
              "      <td>74.000000</td>\n",
              "    </tr>\n",
              "    <tr>\n",
              "      <th>75%</th>\n",
              "      <td>121.000000</td>\n",
              "    </tr>\n",
              "    <tr>\n",
              "      <th>max</th>\n",
              "      <td>180.000000</td>\n",
              "    </tr>\n",
              "  </tbody>\n",
              "</table>\n",
              "</div>\n",
              "      <button class=\"colab-df-convert\" onclick=\"convertToInteractive('df-f14d9211-f5d8-4662-ac6f-28a4b980b584')\"\n",
              "              title=\"Convert this dataframe to an interactive table.\"\n",
              "              style=\"display:none;\">\n",
              "        \n",
              "  <svg xmlns=\"http://www.w3.org/2000/svg\" height=\"24px\"viewBox=\"0 0 24 24\"\n",
              "       width=\"24px\">\n",
              "    <path d=\"M0 0h24v24H0V0z\" fill=\"none\"/>\n",
              "    <path d=\"M18.56 5.44l.94 2.06.94-2.06 2.06-.94-2.06-.94-.94-2.06-.94 2.06-2.06.94zm-11 1L8.5 8.5l.94-2.06 2.06-.94-2.06-.94L8.5 2.5l-.94 2.06-2.06.94zm10 10l.94 2.06.94-2.06 2.06-.94-2.06-.94-.94-2.06-.94 2.06-2.06.94z\"/><path d=\"M17.41 7.96l-1.37-1.37c-.4-.4-.92-.59-1.43-.59-.52 0-1.04.2-1.43.59L10.3 9.45l-7.72 7.72c-.78.78-.78 2.05 0 2.83L4 21.41c.39.39.9.59 1.41.59.51 0 1.02-.2 1.41-.59l7.78-7.78 2.81-2.81c.8-.78.8-2.07 0-2.86zM5.41 20L4 18.59l7.72-7.72 1.47 1.35L5.41 20z\"/>\n",
              "  </svg>\n",
              "      </button>\n",
              "      \n",
              "  <style>\n",
              "    .colab-df-container {\n",
              "      display:flex;\n",
              "      flex-wrap:wrap;\n",
              "      gap: 12px;\n",
              "    }\n",
              "\n",
              "    .colab-df-convert {\n",
              "      background-color: #E8F0FE;\n",
              "      border: none;\n",
              "      border-radius: 50%;\n",
              "      cursor: pointer;\n",
              "      display: none;\n",
              "      fill: #1967D2;\n",
              "      height: 32px;\n",
              "      padding: 0 0 0 0;\n",
              "      width: 32px;\n",
              "    }\n",
              "\n",
              "    .colab-df-convert:hover {\n",
              "      background-color: #E2EBFA;\n",
              "      box-shadow: 0px 1px 2px rgba(60, 64, 67, 0.3), 0px 1px 3px 1px rgba(60, 64, 67, 0.15);\n",
              "      fill: #174EA6;\n",
              "    }\n",
              "\n",
              "    [theme=dark] .colab-df-convert {\n",
              "      background-color: #3B4455;\n",
              "      fill: #D2E3FC;\n",
              "    }\n",
              "\n",
              "    [theme=dark] .colab-df-convert:hover {\n",
              "      background-color: #434B5C;\n",
              "      box-shadow: 0px 1px 3px 1px rgba(0, 0, 0, 0.15);\n",
              "      filter: drop-shadow(0px 1px 2px rgba(0, 0, 0, 0.3));\n",
              "      fill: #FFFFFF;\n",
              "    }\n",
              "  </style>\n",
              "\n",
              "      <script>\n",
              "        const buttonEl =\n",
              "          document.querySelector('#df-f14d9211-f5d8-4662-ac6f-28a4b980b584 button.colab-df-convert');\n",
              "        buttonEl.style.display =\n",
              "          google.colab.kernel.accessAllowed ? 'block' : 'none';\n",
              "\n",
              "        async function convertToInteractive(key) {\n",
              "          const element = document.querySelector('#df-f14d9211-f5d8-4662-ac6f-28a4b980b584');\n",
              "          const dataTable =\n",
              "            await google.colab.kernel.invokeFunction('convertToInteractive',\n",
              "                                                     [key], {});\n",
              "          if (!dataTable) return;\n",
              "\n",
              "          const docLinkHtml = 'Like what you see? Visit the ' +\n",
              "            '<a target=\"_blank\" href=https://colab.research.google.com/notebooks/data_table.ipynb>data table notebook</a>'\n",
              "            + ' to learn more about interactive tables.';\n",
              "          element.innerHTML = '';\n",
              "          dataTable['output_type'] = 'display_data';\n",
              "          await google.colab.output.renderOutput(dataTable, element);\n",
              "          const docLink = document.createElement('div');\n",
              "          docLink.innerHTML = docLinkHtml;\n",
              "          element.appendChild(docLink);\n",
              "        }\n",
              "      </script>\n",
              "    </div>\n",
              "  </div>\n",
              "  "
            ]
          },
          "metadata": {},
          "execution_count": 123
        }
      ],
      "source": [
        "intent_train_df.describe()"
      ]
    },
    {
      "cell_type": "code",
      "execution_count": null,
      "metadata": {
        "colab": {
          "base_uri": "https://localhost:8080/",
          "height": 361
        },
        "id": "h_DFD97zgZph",
        "outputId": "e31d69fd-ea8b-46d9-d124-02b3c9928148"
      },
      "outputs": [
        {
          "output_type": "execute_result",
          "data": {
            "text/plain": [
              "        label_idx\n",
              "count  664.000000\n",
              "mean    79.640060\n",
              "std     53.910447\n",
              "min      0.000000\n",
              "25%     30.000000\n",
              "50%     75.500000\n",
              "75%    124.000000\n",
              "max    180.000000"
            ],
            "text/html": [
              "\n",
              "  <div id=\"df-83652c6a-3374-42c2-9a25-7c78350463e2\">\n",
              "    <div class=\"colab-df-container\">\n",
              "      <div>\n",
              "<style scoped>\n",
              "    .dataframe tbody tr th:only-of-type {\n",
              "        vertical-align: middle;\n",
              "    }\n",
              "\n",
              "    .dataframe tbody tr th {\n",
              "        vertical-align: top;\n",
              "    }\n",
              "\n",
              "    .dataframe thead th {\n",
              "        text-align: right;\n",
              "    }\n",
              "</style>\n",
              "<table border=\"1\" class=\"dataframe\">\n",
              "  <thead>\n",
              "    <tr style=\"text-align: right;\">\n",
              "      <th></th>\n",
              "      <th>label_idx</th>\n",
              "    </tr>\n",
              "  </thead>\n",
              "  <tbody>\n",
              "    <tr>\n",
              "      <th>count</th>\n",
              "      <td>664.000000</td>\n",
              "    </tr>\n",
              "    <tr>\n",
              "      <th>mean</th>\n",
              "      <td>79.640060</td>\n",
              "    </tr>\n",
              "    <tr>\n",
              "      <th>std</th>\n",
              "      <td>53.910447</td>\n",
              "    </tr>\n",
              "    <tr>\n",
              "      <th>min</th>\n",
              "      <td>0.000000</td>\n",
              "    </tr>\n",
              "    <tr>\n",
              "      <th>25%</th>\n",
              "      <td>30.000000</td>\n",
              "    </tr>\n",
              "    <tr>\n",
              "      <th>50%</th>\n",
              "      <td>75.500000</td>\n",
              "    </tr>\n",
              "    <tr>\n",
              "      <th>75%</th>\n",
              "      <td>124.000000</td>\n",
              "    </tr>\n",
              "    <tr>\n",
              "      <th>max</th>\n",
              "      <td>180.000000</td>\n",
              "    </tr>\n",
              "  </tbody>\n",
              "</table>\n",
              "</div>\n",
              "      <button class=\"colab-df-convert\" onclick=\"convertToInteractive('df-83652c6a-3374-42c2-9a25-7c78350463e2')\"\n",
              "              title=\"Convert this dataframe to an interactive table.\"\n",
              "              style=\"display:none;\">\n",
              "        \n",
              "  <svg xmlns=\"http://www.w3.org/2000/svg\" height=\"24px\"viewBox=\"0 0 24 24\"\n",
              "       width=\"24px\">\n",
              "    <path d=\"M0 0h24v24H0V0z\" fill=\"none\"/>\n",
              "    <path d=\"M18.56 5.44l.94 2.06.94-2.06 2.06-.94-2.06-.94-.94-2.06-.94 2.06-2.06.94zm-11 1L8.5 8.5l.94-2.06 2.06-.94-2.06-.94L8.5 2.5l-.94 2.06-2.06.94zm10 10l.94 2.06.94-2.06 2.06-.94-2.06-.94-.94-2.06-.94 2.06-2.06.94z\"/><path d=\"M17.41 7.96l-1.37-1.37c-.4-.4-.92-.59-1.43-.59-.52 0-1.04.2-1.43.59L10.3 9.45l-7.72 7.72c-.78.78-.78 2.05 0 2.83L4 21.41c.39.39.9.59 1.41.59.51 0 1.02-.2 1.41-.59l7.78-7.78 2.81-2.81c.8-.78.8-2.07 0-2.86zM5.41 20L4 18.59l7.72-7.72 1.47 1.35L5.41 20z\"/>\n",
              "  </svg>\n",
              "      </button>\n",
              "      \n",
              "  <style>\n",
              "    .colab-df-container {\n",
              "      display:flex;\n",
              "      flex-wrap:wrap;\n",
              "      gap: 12px;\n",
              "    }\n",
              "\n",
              "    .colab-df-convert {\n",
              "      background-color: #E8F0FE;\n",
              "      border: none;\n",
              "      border-radius: 50%;\n",
              "      cursor: pointer;\n",
              "      display: none;\n",
              "      fill: #1967D2;\n",
              "      height: 32px;\n",
              "      padding: 0 0 0 0;\n",
              "      width: 32px;\n",
              "    }\n",
              "\n",
              "    .colab-df-convert:hover {\n",
              "      background-color: #E2EBFA;\n",
              "      box-shadow: 0px 1px 2px rgba(60, 64, 67, 0.3), 0px 1px 3px 1px rgba(60, 64, 67, 0.15);\n",
              "      fill: #174EA6;\n",
              "    }\n",
              "\n",
              "    [theme=dark] .colab-df-convert {\n",
              "      background-color: #3B4455;\n",
              "      fill: #D2E3FC;\n",
              "    }\n",
              "\n",
              "    [theme=dark] .colab-df-convert:hover {\n",
              "      background-color: #434B5C;\n",
              "      box-shadow: 0px 1px 3px 1px rgba(0, 0, 0, 0.15);\n",
              "      filter: drop-shadow(0px 1px 2px rgba(0, 0, 0, 0.3));\n",
              "      fill: #FFFFFF;\n",
              "    }\n",
              "  </style>\n",
              "\n",
              "      <script>\n",
              "        const buttonEl =\n",
              "          document.querySelector('#df-83652c6a-3374-42c2-9a25-7c78350463e2 button.colab-df-convert');\n",
              "        buttonEl.style.display =\n",
              "          google.colab.kernel.accessAllowed ? 'block' : 'none';\n",
              "\n",
              "        async function convertToInteractive(key) {\n",
              "          const element = document.querySelector('#df-83652c6a-3374-42c2-9a25-7c78350463e2');\n",
              "          const dataTable =\n",
              "            await google.colab.kernel.invokeFunction('convertToInteractive',\n",
              "                                                     [key], {});\n",
              "          if (!dataTable) return;\n",
              "\n",
              "          const docLinkHtml = 'Like what you see? Visit the ' +\n",
              "            '<a target=\"_blank\" href=https://colab.research.google.com/notebooks/data_table.ipynb>data table notebook</a>'\n",
              "            + ' to learn more about interactive tables.';\n",
              "          element.innerHTML = '';\n",
              "          dataTable['output_type'] = 'display_data';\n",
              "          await google.colab.output.renderOutput(dataTable, element);\n",
              "          const docLink = document.createElement('div');\n",
              "          docLink.innerHTML = docLinkHtml;\n",
              "          element.appendChild(docLink);\n",
              "        }\n",
              "      </script>\n",
              "    </div>\n",
              "  </div>\n",
              "  "
            ]
          },
          "metadata": {},
          "execution_count": 124
        }
      ],
      "source": [
        "intent_dev_df.describe()"
      ]
    },
    {
      "cell_type": "code",
      "execution_count": null,
      "metadata": {
        "colab": {
          "base_uri": "https://localhost:8080/",
          "height": 361
        },
        "id": "qy1DLPPzgVrK",
        "outputId": "f46b12e0-c8b1-4517-b84d-94d8716dd38d"
      },
      "outputs": [
        {
          "output_type": "execute_result",
          "data": {
            "text/plain": [
              "         label_idx\n",
              "count  2139.000000\n",
              "mean     78.053763\n",
              "std      53.937621\n",
              "min       0.000000\n",
              "25%      29.000000\n",
              "50%      73.000000\n",
              "75%     120.000000\n",
              "max     180.000000"
            ],
            "text/html": [
              "\n",
              "  <div id=\"df-0f3a320a-e7a5-4ca0-a886-bd6b54e6b4d2\">\n",
              "    <div class=\"colab-df-container\">\n",
              "      <div>\n",
              "<style scoped>\n",
              "    .dataframe tbody tr th:only-of-type {\n",
              "        vertical-align: middle;\n",
              "    }\n",
              "\n",
              "    .dataframe tbody tr th {\n",
              "        vertical-align: top;\n",
              "    }\n",
              "\n",
              "    .dataframe thead th {\n",
              "        text-align: right;\n",
              "    }\n",
              "</style>\n",
              "<table border=\"1\" class=\"dataframe\">\n",
              "  <thead>\n",
              "    <tr style=\"text-align: right;\">\n",
              "      <th></th>\n",
              "      <th>label_idx</th>\n",
              "    </tr>\n",
              "  </thead>\n",
              "  <tbody>\n",
              "    <tr>\n",
              "      <th>count</th>\n",
              "      <td>2139.000000</td>\n",
              "    </tr>\n",
              "    <tr>\n",
              "      <th>mean</th>\n",
              "      <td>78.053763</td>\n",
              "    </tr>\n",
              "    <tr>\n",
              "      <th>std</th>\n",
              "      <td>53.937621</td>\n",
              "    </tr>\n",
              "    <tr>\n",
              "      <th>min</th>\n",
              "      <td>0.000000</td>\n",
              "    </tr>\n",
              "    <tr>\n",
              "      <th>25%</th>\n",
              "      <td>29.000000</td>\n",
              "    </tr>\n",
              "    <tr>\n",
              "      <th>50%</th>\n",
              "      <td>73.000000</td>\n",
              "    </tr>\n",
              "    <tr>\n",
              "      <th>75%</th>\n",
              "      <td>120.000000</td>\n",
              "    </tr>\n",
              "    <tr>\n",
              "      <th>max</th>\n",
              "      <td>180.000000</td>\n",
              "    </tr>\n",
              "  </tbody>\n",
              "</table>\n",
              "</div>\n",
              "      <button class=\"colab-df-convert\" onclick=\"convertToInteractive('df-0f3a320a-e7a5-4ca0-a886-bd6b54e6b4d2')\"\n",
              "              title=\"Convert this dataframe to an interactive table.\"\n",
              "              style=\"display:none;\">\n",
              "        \n",
              "  <svg xmlns=\"http://www.w3.org/2000/svg\" height=\"24px\"viewBox=\"0 0 24 24\"\n",
              "       width=\"24px\">\n",
              "    <path d=\"M0 0h24v24H0V0z\" fill=\"none\"/>\n",
              "    <path d=\"M18.56 5.44l.94 2.06.94-2.06 2.06-.94-2.06-.94-.94-2.06-.94 2.06-2.06.94zm-11 1L8.5 8.5l.94-2.06 2.06-.94-2.06-.94L8.5 2.5l-.94 2.06-2.06.94zm10 10l.94 2.06.94-2.06 2.06-.94-2.06-.94-.94-2.06-.94 2.06-2.06.94z\"/><path d=\"M17.41 7.96l-1.37-1.37c-.4-.4-.92-.59-1.43-.59-.52 0-1.04.2-1.43.59L10.3 9.45l-7.72 7.72c-.78.78-.78 2.05 0 2.83L4 21.41c.39.39.9.59 1.41.59.51 0 1.02-.2 1.41-.59l7.78-7.78 2.81-2.81c.8-.78.8-2.07 0-2.86zM5.41 20L4 18.59l7.72-7.72 1.47 1.35L5.41 20z\"/>\n",
              "  </svg>\n",
              "      </button>\n",
              "      \n",
              "  <style>\n",
              "    .colab-df-container {\n",
              "      display:flex;\n",
              "      flex-wrap:wrap;\n",
              "      gap: 12px;\n",
              "    }\n",
              "\n",
              "    .colab-df-convert {\n",
              "      background-color: #E8F0FE;\n",
              "      border: none;\n",
              "      border-radius: 50%;\n",
              "      cursor: pointer;\n",
              "      display: none;\n",
              "      fill: #1967D2;\n",
              "      height: 32px;\n",
              "      padding: 0 0 0 0;\n",
              "      width: 32px;\n",
              "    }\n",
              "\n",
              "    .colab-df-convert:hover {\n",
              "      background-color: #E2EBFA;\n",
              "      box-shadow: 0px 1px 2px rgba(60, 64, 67, 0.3), 0px 1px 3px 1px rgba(60, 64, 67, 0.15);\n",
              "      fill: #174EA6;\n",
              "    }\n",
              "\n",
              "    [theme=dark] .colab-df-convert {\n",
              "      background-color: #3B4455;\n",
              "      fill: #D2E3FC;\n",
              "    }\n",
              "\n",
              "    [theme=dark] .colab-df-convert:hover {\n",
              "      background-color: #434B5C;\n",
              "      box-shadow: 0px 1px 3px 1px rgba(0, 0, 0, 0.15);\n",
              "      filter: drop-shadow(0px 1px 2px rgba(0, 0, 0, 0.3));\n",
              "      fill: #FFFFFF;\n",
              "    }\n",
              "  </style>\n",
              "\n",
              "      <script>\n",
              "        const buttonEl =\n",
              "          document.querySelector('#df-0f3a320a-e7a5-4ca0-a886-bd6b54e6b4d2 button.colab-df-convert');\n",
              "        buttonEl.style.display =\n",
              "          google.colab.kernel.accessAllowed ? 'block' : 'none';\n",
              "\n",
              "        async function convertToInteractive(key) {\n",
              "          const element = document.querySelector('#df-0f3a320a-e7a5-4ca0-a886-bd6b54e6b4d2');\n",
              "          const dataTable =\n",
              "            await google.colab.kernel.invokeFunction('convertToInteractive',\n",
              "                                                     [key], {});\n",
              "          if (!dataTable) return;\n",
              "\n",
              "          const docLinkHtml = 'Like what you see? Visit the ' +\n",
              "            '<a target=\"_blank\" href=https://colab.research.google.com/notebooks/data_table.ipynb>data table notebook</a>'\n",
              "            + ' to learn more about interactive tables.';\n",
              "          element.innerHTML = '';\n",
              "          dataTable['output_type'] = 'display_data';\n",
              "          await google.colab.output.renderOutput(dataTable, element);\n",
              "          const docLink = document.createElement('div');\n",
              "          docLink.innerHTML = docLinkHtml;\n",
              "          element.appendChild(docLink);\n",
              "        }\n",
              "      </script>\n",
              "    </div>\n",
              "  </div>\n",
              "  "
            ]
          },
          "metadata": {},
          "execution_count": 125
        }
      ],
      "source": [
        "intent_test_df.describe()"
      ]
    },
    {
      "cell_type": "markdown",
      "source": [
        "Those three datasets have the same number of features. So, it can merged into one to do further analysis.\n",
        "\n"
      ],
      "metadata": {
        "id": "4ODhOYjD_iWx"
      }
    },
    {
      "cell_type": "code",
      "execution_count": null,
      "metadata": {
        "id": "1VPKCX_L0cQj"
      },
      "outputs": [],
      "source": [
        "# Concatenate the dataframes vertically to merge the datasets\n",
        "df = pd.concat([intent_train_df, intent_dev_df, intent_test_df], ignore_index = True)"
      ]
    },
    {
      "cell_type": "code",
      "execution_count": null,
      "metadata": {
        "colab": {
          "base_uri": "https://localhost:8080/",
          "height": 863
        },
        "id": "Bcpf2w0309gK",
        "outputId": "ee1843d4-f932-466e-8067-949ff675b5c4"
      },
      "outputs": [
        {
          "output_type": "execute_result",
          "data": {
            "text/plain": [
              "                                            sentence  \\\n",
              "0  Do booster shots have side effects worsen than...   \n",
              "1                      the vaccine has side effects?   \n",
              "2  booster vaccine leaves worse side effects than...   \n",
              "3                           are reinforcements safe?   \n",
              "4  because the second dose of the covid-19 vaccin...   \n",
              "\n",
              "                                               label  label_idx  \n",
              "0  Are booster shot side effects worse than those...        175  \n",
              "1  Are booster shot side effects worse than those...        175  \n",
              "2  Are booster shot side effects worse than those...        175  \n",
              "3  Are booster shot side effects worse than those...        175  \n",
              "4  Are booster shot side effects worse than those...        175  "
            ],
            "text/html": [
              "\n",
              "  <div id=\"df-e85b6a2c-c825-4cc4-9e08-9d4ba9ffb7ac\">\n",
              "    <div class=\"colab-df-container\">\n",
              "      <div>\n",
              "<style scoped>\n",
              "    .dataframe tbody tr th:only-of-type {\n",
              "        vertical-align: middle;\n",
              "    }\n",
              "\n",
              "    .dataframe tbody tr th {\n",
              "        vertical-align: top;\n",
              "    }\n",
              "\n",
              "    .dataframe thead th {\n",
              "        text-align: right;\n",
              "    }\n",
              "</style>\n",
              "<table border=\"1\" class=\"dataframe\">\n",
              "  <thead>\n",
              "    <tr style=\"text-align: right;\">\n",
              "      <th></th>\n",
              "      <th>sentence</th>\n",
              "      <th>label</th>\n",
              "      <th>label_idx</th>\n",
              "    </tr>\n",
              "  </thead>\n",
              "  <tbody>\n",
              "    <tr>\n",
              "      <th>0</th>\n",
              "      <td>Do booster shots have side effects worsen than...</td>\n",
              "      <td>Are booster shot side effects worse than those...</td>\n",
              "      <td>175</td>\n",
              "    </tr>\n",
              "    <tr>\n",
              "      <th>1</th>\n",
              "      <td>the vaccine has side effects?</td>\n",
              "      <td>Are booster shot side effects worse than those...</td>\n",
              "      <td>175</td>\n",
              "    </tr>\n",
              "    <tr>\n",
              "      <th>2</th>\n",
              "      <td>booster vaccine leaves worse side effects than...</td>\n",
              "      <td>Are booster shot side effects worse than those...</td>\n",
              "      <td>175</td>\n",
              "    </tr>\n",
              "    <tr>\n",
              "      <th>3</th>\n",
              "      <td>are reinforcements safe?</td>\n",
              "      <td>Are booster shot side effects worse than those...</td>\n",
              "      <td>175</td>\n",
              "    </tr>\n",
              "    <tr>\n",
              "      <th>4</th>\n",
              "      <td>because the second dose of the covid-19 vaccin...</td>\n",
              "      <td>Are booster shot side effects worse than those...</td>\n",
              "      <td>175</td>\n",
              "    </tr>\n",
              "  </tbody>\n",
              "</table>\n",
              "</div>\n",
              "      <button class=\"colab-df-convert\" onclick=\"convertToInteractive('df-e85b6a2c-c825-4cc4-9e08-9d4ba9ffb7ac')\"\n",
              "              title=\"Convert this dataframe to an interactive table.\"\n",
              "              style=\"display:none;\">\n",
              "        \n",
              "  <svg xmlns=\"http://www.w3.org/2000/svg\" height=\"24px\"viewBox=\"0 0 24 24\"\n",
              "       width=\"24px\">\n",
              "    <path d=\"M0 0h24v24H0V0z\" fill=\"none\"/>\n",
              "    <path d=\"M18.56 5.44l.94 2.06.94-2.06 2.06-.94-2.06-.94-.94-2.06-.94 2.06-2.06.94zm-11 1L8.5 8.5l.94-2.06 2.06-.94-2.06-.94L8.5 2.5l-.94 2.06-2.06.94zm10 10l.94 2.06.94-2.06 2.06-.94-2.06-.94-.94-2.06-.94 2.06-2.06.94z\"/><path d=\"M17.41 7.96l-1.37-1.37c-.4-.4-.92-.59-1.43-.59-.52 0-1.04.2-1.43.59L10.3 9.45l-7.72 7.72c-.78.78-.78 2.05 0 2.83L4 21.41c.39.39.9.59 1.41.59.51 0 1.02-.2 1.41-.59l7.78-7.78 2.81-2.81c.8-.78.8-2.07 0-2.86zM5.41 20L4 18.59l7.72-7.72 1.47 1.35L5.41 20z\"/>\n",
              "  </svg>\n",
              "      </button>\n",
              "      \n",
              "  <style>\n",
              "    .colab-df-container {\n",
              "      display:flex;\n",
              "      flex-wrap:wrap;\n",
              "      gap: 12px;\n",
              "    }\n",
              "\n",
              "    .colab-df-convert {\n",
              "      background-color: #E8F0FE;\n",
              "      border: none;\n",
              "      border-radius: 50%;\n",
              "      cursor: pointer;\n",
              "      display: none;\n",
              "      fill: #1967D2;\n",
              "      height: 32px;\n",
              "      padding: 0 0 0 0;\n",
              "      width: 32px;\n",
              "    }\n",
              "\n",
              "    .colab-df-convert:hover {\n",
              "      background-color: #E2EBFA;\n",
              "      box-shadow: 0px 1px 2px rgba(60, 64, 67, 0.3), 0px 1px 3px 1px rgba(60, 64, 67, 0.15);\n",
              "      fill: #174EA6;\n",
              "    }\n",
              "\n",
              "    [theme=dark] .colab-df-convert {\n",
              "      background-color: #3B4455;\n",
              "      fill: #D2E3FC;\n",
              "    }\n",
              "\n",
              "    [theme=dark] .colab-df-convert:hover {\n",
              "      background-color: #434B5C;\n",
              "      box-shadow: 0px 1px 3px 1px rgba(0, 0, 0, 0.15);\n",
              "      filter: drop-shadow(0px 1px 2px rgba(0, 0, 0, 0.3));\n",
              "      fill: #FFFFFF;\n",
              "    }\n",
              "  </style>\n",
              "\n",
              "      <script>\n",
              "        const buttonEl =\n",
              "          document.querySelector('#df-e85b6a2c-c825-4cc4-9e08-9d4ba9ffb7ac button.colab-df-convert');\n",
              "        buttonEl.style.display =\n",
              "          google.colab.kernel.accessAllowed ? 'block' : 'none';\n",
              "\n",
              "        async function convertToInteractive(key) {\n",
              "          const element = document.querySelector('#df-e85b6a2c-c825-4cc4-9e08-9d4ba9ffb7ac');\n",
              "          const dataTable =\n",
              "            await google.colab.kernel.invokeFunction('convertToInteractive',\n",
              "                                                     [key], {});\n",
              "          if (!dataTable) return;\n",
              "\n",
              "          const docLinkHtml = 'Like what you see? Visit the ' +\n",
              "            '<a target=\"_blank\" href=https://colab.research.google.com/notebooks/data_table.ipynb>data table notebook</a>'\n",
              "            + ' to learn more about interactive tables.';\n",
              "          element.innerHTML = '';\n",
              "          dataTable['output_type'] = 'display_data';\n",
              "          await google.colab.output.renderOutput(dataTable, element);\n",
              "          const docLink = document.createElement('div');\n",
              "          docLink.innerHTML = docLinkHtml;\n",
              "          element.appendChild(docLink);\n",
              "        }\n",
              "      </script>\n",
              "    </div>\n",
              "  </div>\n",
              "  "
            ]
          },
          "metadata": {},
          "execution_count": 127
        }
      ],
      "source": [
        "df.head(5)"
      ]
    },
    {
      "cell_type": "code",
      "execution_count": null,
      "metadata": {
        "colab": {
          "base_uri": "https://localhost:8080/",
          "height": 361
        },
        "id": "lD7Y5TNzjH9n",
        "outputId": "d70990cb-f779-49c9-ecbf-85c42c32748c"
      },
      "outputs": [
        {
          "output_type": "execute_result",
          "data": {
            "text/plain": [
              "         label_idx\n",
              "count  7972.000000\n",
              "mean     78.375063\n",
              "std      54.029430\n",
              "min       0.000000\n",
              "25%      29.000000\n",
              "50%      73.000000\n",
              "75%     121.000000\n",
              "max     180.000000"
            ],
            "text/html": [
              "\n",
              "  <div id=\"df-e1862201-b89f-468f-9329-430c4ec83b14\">\n",
              "    <div class=\"colab-df-container\">\n",
              "      <div>\n",
              "<style scoped>\n",
              "    .dataframe tbody tr th:only-of-type {\n",
              "        vertical-align: middle;\n",
              "    }\n",
              "\n",
              "    .dataframe tbody tr th {\n",
              "        vertical-align: top;\n",
              "    }\n",
              "\n",
              "    .dataframe thead th {\n",
              "        text-align: right;\n",
              "    }\n",
              "</style>\n",
              "<table border=\"1\" class=\"dataframe\">\n",
              "  <thead>\n",
              "    <tr style=\"text-align: right;\">\n",
              "      <th></th>\n",
              "      <th>label_idx</th>\n",
              "    </tr>\n",
              "  </thead>\n",
              "  <tbody>\n",
              "    <tr>\n",
              "      <th>count</th>\n",
              "      <td>7972.000000</td>\n",
              "    </tr>\n",
              "    <tr>\n",
              "      <th>mean</th>\n",
              "      <td>78.375063</td>\n",
              "    </tr>\n",
              "    <tr>\n",
              "      <th>std</th>\n",
              "      <td>54.029430</td>\n",
              "    </tr>\n",
              "    <tr>\n",
              "      <th>min</th>\n",
              "      <td>0.000000</td>\n",
              "    </tr>\n",
              "    <tr>\n",
              "      <th>25%</th>\n",
              "      <td>29.000000</td>\n",
              "    </tr>\n",
              "    <tr>\n",
              "      <th>50%</th>\n",
              "      <td>73.000000</td>\n",
              "    </tr>\n",
              "    <tr>\n",
              "      <th>75%</th>\n",
              "      <td>121.000000</td>\n",
              "    </tr>\n",
              "    <tr>\n",
              "      <th>max</th>\n",
              "      <td>180.000000</td>\n",
              "    </tr>\n",
              "  </tbody>\n",
              "</table>\n",
              "</div>\n",
              "      <button class=\"colab-df-convert\" onclick=\"convertToInteractive('df-e1862201-b89f-468f-9329-430c4ec83b14')\"\n",
              "              title=\"Convert this dataframe to an interactive table.\"\n",
              "              style=\"display:none;\">\n",
              "        \n",
              "  <svg xmlns=\"http://www.w3.org/2000/svg\" height=\"24px\"viewBox=\"0 0 24 24\"\n",
              "       width=\"24px\">\n",
              "    <path d=\"M0 0h24v24H0V0z\" fill=\"none\"/>\n",
              "    <path d=\"M18.56 5.44l.94 2.06.94-2.06 2.06-.94-2.06-.94-.94-2.06-.94 2.06-2.06.94zm-11 1L8.5 8.5l.94-2.06 2.06-.94-2.06-.94L8.5 2.5l-.94 2.06-2.06.94zm10 10l.94 2.06.94-2.06 2.06-.94-2.06-.94-.94-2.06-.94 2.06-2.06.94z\"/><path d=\"M17.41 7.96l-1.37-1.37c-.4-.4-.92-.59-1.43-.59-.52 0-1.04.2-1.43.59L10.3 9.45l-7.72 7.72c-.78.78-.78 2.05 0 2.83L4 21.41c.39.39.9.59 1.41.59.51 0 1.02-.2 1.41-.59l7.78-7.78 2.81-2.81c.8-.78.8-2.07 0-2.86zM5.41 20L4 18.59l7.72-7.72 1.47 1.35L5.41 20z\"/>\n",
              "  </svg>\n",
              "      </button>\n",
              "      \n",
              "  <style>\n",
              "    .colab-df-container {\n",
              "      display:flex;\n",
              "      flex-wrap:wrap;\n",
              "      gap: 12px;\n",
              "    }\n",
              "\n",
              "    .colab-df-convert {\n",
              "      background-color: #E8F0FE;\n",
              "      border: none;\n",
              "      border-radius: 50%;\n",
              "      cursor: pointer;\n",
              "      display: none;\n",
              "      fill: #1967D2;\n",
              "      height: 32px;\n",
              "      padding: 0 0 0 0;\n",
              "      width: 32px;\n",
              "    }\n",
              "\n",
              "    .colab-df-convert:hover {\n",
              "      background-color: #E2EBFA;\n",
              "      box-shadow: 0px 1px 2px rgba(60, 64, 67, 0.3), 0px 1px 3px 1px rgba(60, 64, 67, 0.15);\n",
              "      fill: #174EA6;\n",
              "    }\n",
              "\n",
              "    [theme=dark] .colab-df-convert {\n",
              "      background-color: #3B4455;\n",
              "      fill: #D2E3FC;\n",
              "    }\n",
              "\n",
              "    [theme=dark] .colab-df-convert:hover {\n",
              "      background-color: #434B5C;\n",
              "      box-shadow: 0px 1px 3px 1px rgba(0, 0, 0, 0.15);\n",
              "      filter: drop-shadow(0px 1px 2px rgba(0, 0, 0, 0.3));\n",
              "      fill: #FFFFFF;\n",
              "    }\n",
              "  </style>\n",
              "\n",
              "      <script>\n",
              "        const buttonEl =\n",
              "          document.querySelector('#df-e1862201-b89f-468f-9329-430c4ec83b14 button.colab-df-convert');\n",
              "        buttonEl.style.display =\n",
              "          google.colab.kernel.accessAllowed ? 'block' : 'none';\n",
              "\n",
              "        async function convertToInteractive(key) {\n",
              "          const element = document.querySelector('#df-e1862201-b89f-468f-9329-430c4ec83b14');\n",
              "          const dataTable =\n",
              "            await google.colab.kernel.invokeFunction('convertToInteractive',\n",
              "                                                     [key], {});\n",
              "          if (!dataTable) return;\n",
              "\n",
              "          const docLinkHtml = 'Like what you see? Visit the ' +\n",
              "            '<a target=\"_blank\" href=https://colab.research.google.com/notebooks/data_table.ipynb>data table notebook</a>'\n",
              "            + ' to learn more about interactive tables.';\n",
              "          element.innerHTML = '';\n",
              "          dataTable['output_type'] = 'display_data';\n",
              "          await google.colab.output.renderOutput(dataTable, element);\n",
              "          const docLink = document.createElement('div');\n",
              "          docLink.innerHTML = docLinkHtml;\n",
              "          element.appendChild(docLink);\n",
              "        }\n",
              "      </script>\n",
              "    </div>\n",
              "  </div>\n",
              "  "
            ]
          },
          "metadata": {},
          "execution_count": 128
        }
      ],
      "source": [
        "df.describe()"
      ]
    },
    {
      "cell_type": "code",
      "execution_count": null,
      "metadata": {
        "colab": {
          "base_uri": "https://localhost:8080/",
          "height": 556
        },
        "id": "VKuN9O6Mj5iY",
        "outputId": "149b359a-2641-4116-eb55-65434fb04817"
      },
      "outputs": [
        {
          "output_type": "execute_result",
          "data": {
            "text/plain": [
              "                     sentence  \\\n",
              "count                    7972   \n",
              "unique                   7971   \n",
              "top     How long am I immune?   \n",
              "freq                        2   \n",
              "mean                      NaN   \n",
              "std                       NaN   \n",
              "min                       NaN   \n",
              "25%                       NaN   \n",
              "50%                       NaN   \n",
              "75%                       NaN   \n",
              "max                       NaN   \n",
              "\n",
              "                                                    label    label_idx  \n",
              "count                                                7972  7972.000000  \n",
              "unique                                                181          NaN  \n",
              "top     How effective is the vaccine against the Omicr...          NaN  \n",
              "freq                                                  101          NaN  \n",
              "mean                                                  NaN    78.375063  \n",
              "std                                                   NaN    54.029430  \n",
              "min                                                   NaN     0.000000  \n",
              "25%                                                   NaN    29.000000  \n",
              "50%                                                   NaN    73.000000  \n",
              "75%                                                   NaN   121.000000  \n",
              "max                                                   NaN   180.000000  "
            ],
            "text/html": [
              "\n",
              "  <div id=\"df-0cfb81bd-4ab9-4c2a-a581-77a5d2a4d121\">\n",
              "    <div class=\"colab-df-container\">\n",
              "      <div>\n",
              "<style scoped>\n",
              "    .dataframe tbody tr th:only-of-type {\n",
              "        vertical-align: middle;\n",
              "    }\n",
              "\n",
              "    .dataframe tbody tr th {\n",
              "        vertical-align: top;\n",
              "    }\n",
              "\n",
              "    .dataframe thead th {\n",
              "        text-align: right;\n",
              "    }\n",
              "</style>\n",
              "<table border=\"1\" class=\"dataframe\">\n",
              "  <thead>\n",
              "    <tr style=\"text-align: right;\">\n",
              "      <th></th>\n",
              "      <th>sentence</th>\n",
              "      <th>label</th>\n",
              "      <th>label_idx</th>\n",
              "    </tr>\n",
              "  </thead>\n",
              "  <tbody>\n",
              "    <tr>\n",
              "      <th>count</th>\n",
              "      <td>7972</td>\n",
              "      <td>7972</td>\n",
              "      <td>7972.000000</td>\n",
              "    </tr>\n",
              "    <tr>\n",
              "      <th>unique</th>\n",
              "      <td>7971</td>\n",
              "      <td>181</td>\n",
              "      <td>NaN</td>\n",
              "    </tr>\n",
              "    <tr>\n",
              "      <th>top</th>\n",
              "      <td>How long am I immune?</td>\n",
              "      <td>How effective is the vaccine against the Omicr...</td>\n",
              "      <td>NaN</td>\n",
              "    </tr>\n",
              "    <tr>\n",
              "      <th>freq</th>\n",
              "      <td>2</td>\n",
              "      <td>101</td>\n",
              "      <td>NaN</td>\n",
              "    </tr>\n",
              "    <tr>\n",
              "      <th>mean</th>\n",
              "      <td>NaN</td>\n",
              "      <td>NaN</td>\n",
              "      <td>78.375063</td>\n",
              "    </tr>\n",
              "    <tr>\n",
              "      <th>std</th>\n",
              "      <td>NaN</td>\n",
              "      <td>NaN</td>\n",
              "      <td>54.029430</td>\n",
              "    </tr>\n",
              "    <tr>\n",
              "      <th>min</th>\n",
              "      <td>NaN</td>\n",
              "      <td>NaN</td>\n",
              "      <td>0.000000</td>\n",
              "    </tr>\n",
              "    <tr>\n",
              "      <th>25%</th>\n",
              "      <td>NaN</td>\n",
              "      <td>NaN</td>\n",
              "      <td>29.000000</td>\n",
              "    </tr>\n",
              "    <tr>\n",
              "      <th>50%</th>\n",
              "      <td>NaN</td>\n",
              "      <td>NaN</td>\n",
              "      <td>73.000000</td>\n",
              "    </tr>\n",
              "    <tr>\n",
              "      <th>75%</th>\n",
              "      <td>NaN</td>\n",
              "      <td>NaN</td>\n",
              "      <td>121.000000</td>\n",
              "    </tr>\n",
              "    <tr>\n",
              "      <th>max</th>\n",
              "      <td>NaN</td>\n",
              "      <td>NaN</td>\n",
              "      <td>180.000000</td>\n",
              "    </tr>\n",
              "  </tbody>\n",
              "</table>\n",
              "</div>\n",
              "      <button class=\"colab-df-convert\" onclick=\"convertToInteractive('df-0cfb81bd-4ab9-4c2a-a581-77a5d2a4d121')\"\n",
              "              title=\"Convert this dataframe to an interactive table.\"\n",
              "              style=\"display:none;\">\n",
              "        \n",
              "  <svg xmlns=\"http://www.w3.org/2000/svg\" height=\"24px\"viewBox=\"0 0 24 24\"\n",
              "       width=\"24px\">\n",
              "    <path d=\"M0 0h24v24H0V0z\" fill=\"none\"/>\n",
              "    <path d=\"M18.56 5.44l.94 2.06.94-2.06 2.06-.94-2.06-.94-.94-2.06-.94 2.06-2.06.94zm-11 1L8.5 8.5l.94-2.06 2.06-.94-2.06-.94L8.5 2.5l-.94 2.06-2.06.94zm10 10l.94 2.06.94-2.06 2.06-.94-2.06-.94-.94-2.06-.94 2.06-2.06.94z\"/><path d=\"M17.41 7.96l-1.37-1.37c-.4-.4-.92-.59-1.43-.59-.52 0-1.04.2-1.43.59L10.3 9.45l-7.72 7.72c-.78.78-.78 2.05 0 2.83L4 21.41c.39.39.9.59 1.41.59.51 0 1.02-.2 1.41-.59l7.78-7.78 2.81-2.81c.8-.78.8-2.07 0-2.86zM5.41 20L4 18.59l7.72-7.72 1.47 1.35L5.41 20z\"/>\n",
              "  </svg>\n",
              "      </button>\n",
              "      \n",
              "  <style>\n",
              "    .colab-df-container {\n",
              "      display:flex;\n",
              "      flex-wrap:wrap;\n",
              "      gap: 12px;\n",
              "    }\n",
              "\n",
              "    .colab-df-convert {\n",
              "      background-color: #E8F0FE;\n",
              "      border: none;\n",
              "      border-radius: 50%;\n",
              "      cursor: pointer;\n",
              "      display: none;\n",
              "      fill: #1967D2;\n",
              "      height: 32px;\n",
              "      padding: 0 0 0 0;\n",
              "      width: 32px;\n",
              "    }\n",
              "\n",
              "    .colab-df-convert:hover {\n",
              "      background-color: #E2EBFA;\n",
              "      box-shadow: 0px 1px 2px rgba(60, 64, 67, 0.3), 0px 1px 3px 1px rgba(60, 64, 67, 0.15);\n",
              "      fill: #174EA6;\n",
              "    }\n",
              "\n",
              "    [theme=dark] .colab-df-convert {\n",
              "      background-color: #3B4455;\n",
              "      fill: #D2E3FC;\n",
              "    }\n",
              "\n",
              "    [theme=dark] .colab-df-convert:hover {\n",
              "      background-color: #434B5C;\n",
              "      box-shadow: 0px 1px 3px 1px rgba(0, 0, 0, 0.15);\n",
              "      filter: drop-shadow(0px 1px 2px rgba(0, 0, 0, 0.3));\n",
              "      fill: #FFFFFF;\n",
              "    }\n",
              "  </style>\n",
              "\n",
              "      <script>\n",
              "        const buttonEl =\n",
              "          document.querySelector('#df-0cfb81bd-4ab9-4c2a-a581-77a5d2a4d121 button.colab-df-convert');\n",
              "        buttonEl.style.display =\n",
              "          google.colab.kernel.accessAllowed ? 'block' : 'none';\n",
              "\n",
              "        async function convertToInteractive(key) {\n",
              "          const element = document.querySelector('#df-0cfb81bd-4ab9-4c2a-a581-77a5d2a4d121');\n",
              "          const dataTable =\n",
              "            await google.colab.kernel.invokeFunction('convertToInteractive',\n",
              "                                                     [key], {});\n",
              "          if (!dataTable) return;\n",
              "\n",
              "          const docLinkHtml = 'Like what you see? Visit the ' +\n",
              "            '<a target=\"_blank\" href=https://colab.research.google.com/notebooks/data_table.ipynb>data table notebook</a>'\n",
              "            + ' to learn more about interactive tables.';\n",
              "          element.innerHTML = '';\n",
              "          dataTable['output_type'] = 'display_data';\n",
              "          await google.colab.output.renderOutput(dataTable, element);\n",
              "          const docLink = document.createElement('div');\n",
              "          docLink.innerHTML = docLinkHtml;\n",
              "          element.appendChild(docLink);\n",
              "        }\n",
              "      </script>\n",
              "    </div>\n",
              "  </div>\n",
              "  "
            ]
          },
          "metadata": {},
          "execution_count": 129
        }
      ],
      "source": [
        "df.describe(include='all')"
      ]
    },
    {
      "cell_type": "markdown",
      "source": [
        "Then, the three subsets were merged, resulting in a total of 7972 rows and three attributes. The \"label_idx\" values range from 0 to 180, indicating that there are 181 intent categories in total. The distribution of the intent categories is not uniform, as some categories have many examples, while others have few."
      ],
      "metadata": {
        "id": "Yl_sphVBAHsn"
      }
    },
    {
      "cell_type": "markdown",
      "source": [
        "# **4. Data Preparation**\n",
        "\n",
        "Before analyzing the data, it needs to be cleaned, preprocessed, and formatted to enable meaningful analysis. The following steps were taken to prepare the dataset:\n"
      ],
      "metadata": {
        "id": "OV4tSQ_oEKzS"
      }
    },
    {
      "cell_type": "markdown",
      "source": [
        "## **i. Data Cleaning**"
      ],
      "metadata": {
        "id": "_L-Fyk-mCjfn"
      }
    },
    {
      "cell_type": "markdown",
      "metadata": {
        "id": "Mks9-1-s2Mw0"
      },
      "source": [
        "### **a) Checking for missing values**\n",
        "\n",
        "No missing values were found at this stage"
      ]
    },
    {
      "cell_type": "code",
      "execution_count": null,
      "metadata": {
        "colab": {
          "base_uri": "https://localhost:8080/"
        },
        "id": "RY2oNDU11tnn",
        "outputId": "84c485f2-d84e-4e25-c37f-cd5d9dbab3f2"
      },
      "outputs": [
        {
          "output_type": "stream",
          "name": "stdout",
          "text": [
            "sentence     0\n",
            "label        0\n",
            "label_idx    0\n",
            "dtype: int64\n"
          ]
        }
      ],
      "source": [
        "print(df.isnull().sum()) # prints the number of missing values in each column"
      ]
    },
    {
      "cell_type": "markdown",
      "metadata": {
        "id": "sXtfD07n2Xzq"
      },
      "source": [
        "### **b) Checking for duplicates**\n",
        "\n",
        "No duplicate values were found at this stage"
      ]
    },
    {
      "cell_type": "code",
      "execution_count": null,
      "metadata": {
        "colab": {
          "base_uri": "https://localhost:8080/"
        },
        "id": "DrPt_8Nw2Y5J",
        "outputId": "a0943512-83d9-40be-9f1e-49456f852a3a"
      },
      "outputs": [
        {
          "output_type": "stream",
          "name": "stdout",
          "text": [
            "0\n"
          ]
        }
      ],
      "source": [
        "print(df.duplicated().sum()) # prints the number of duplicate rows"
      ]
    },
    {
      "cell_type": "markdown",
      "metadata": {
        "id": "zpOsgDUp3Rd4"
      },
      "source": [
        "### **c) Checking for data types**"
      ]
    },
    {
      "cell_type": "code",
      "execution_count": null,
      "metadata": {
        "colab": {
          "base_uri": "https://localhost:8080/"
        },
        "id": "E5P7oLNf2goE",
        "outputId": "47a19026-a441-4a1a-9e9a-e297ed66c01c"
      },
      "outputs": [
        {
          "output_type": "stream",
          "name": "stdout",
          "text": [
            "sentence     object\n",
            "label        object\n",
            "label_idx     int64\n",
            "dtype: object\n"
          ]
        }
      ],
      "source": [
        "print(df.dtypes) # prints the data types of each column"
      ]
    },
    {
      "cell_type": "markdown",
      "metadata": {
        "id": "1jsSeGdL4hRg"
      },
      "source": [
        "### **d) Checking for consistency**\n",
        "In order to ensure the accuracy and reliability of our analysis, it is necessary to check for consistency in the data\n"
      ]
    },
    {
      "cell_type": "code",
      "execution_count": null,
      "metadata": {
        "id": "Yy3NRb5w4l6g"
      },
      "outputs": [],
      "source": [
        "df['sentence'] = df['sentence'].str.lower() # converts all text to lowercase\n",
        "df['label'] = df['label'].str.lower() # converts all text to lowercase\n",
        "df = pd.DataFrame(df[['sentence','label','label_idx']])"
      ]
    },
    {
      "cell_type": "markdown",
      "metadata": {
        "id": "VqYeRQ9EZVyE"
      },
      "source": [
        "Removing stop words and punctuation"
      ]
    },
    {
      "cell_type": "code",
      "execution_count": null,
      "metadata": {
        "id": "RPXWe9BvZDIR"
      },
      "outputs": [],
      "source": [
        "# Defining function to preprocess text data\n",
        "def tokenize_rmv_stopword_punc(text):\n",
        "    \n",
        "    # Removing punctuation marks\n",
        "    text = text.translate(str.maketrans('', '', string.punctuation))\n",
        "\n",
        "    # Tokenizing text into words\n",
        "    words = word_tokenize(text)\n",
        "    \n",
        "    # Removing stop words\n",
        "    stop_words = set(stopwords.words('english'))\n",
        "    stop_words.update(['ve','get','hear','cause','make','take','jj'])\n",
        "\n",
        "    words = [word for word in words if not word in stop_words]\n",
        "    \n",
        "    # Joining words back into string\n",
        "    text = ' '.join(words)\n",
        "    \n",
        "    return text"
      ]
    },
    {
      "cell_type": "code",
      "execution_count": null,
      "metadata": {
        "id": "9L_eLKujdQcE"
      },
      "outputs": [],
      "source": [
        "# Applying preprocessing function to sentence column of the dataframe\n",
        "df['sentence'] = df['sentence'].apply(tokenize_rmv_stopword_punc)\n",
        "df['label'] = df['label'].apply(tokenize_rmv_stopword_punc)"
      ]
    },
    {
      "cell_type": "code",
      "execution_count": null,
      "metadata": {
        "colab": {
          "base_uri": "https://localhost:8080/",
          "height": 204
        },
        "id": "DCwGLuXnb___",
        "outputId": "3396d01c-242f-44af-9bf3-41c44097d52e"
      },
      "outputs": [
        {
          "output_type": "execute_result",
          "data": {
            "text/plain": [
              "                                            sentence  \\\n",
              "0      booster shots side effects worsen second shot   \n",
              "1                               vaccine side effects   \n",
              "2  booster vaccine leaves worse side effects firs...   \n",
              "3                                reinforcements safe   \n",
              "4    second dose covid19 vaccine higher side effects   \n",
              "\n",
              "                                         label  label_idx  \n",
              "0  booster shot side effects worse second shot        175  \n",
              "1  booster shot side effects worse second shot        175  \n",
              "2  booster shot side effects worse second shot        175  \n",
              "3  booster shot side effects worse second shot        175  \n",
              "4  booster shot side effects worse second shot        175  "
            ],
            "text/html": [
              "\n",
              "  <div id=\"df-67e3b867-07d5-4770-8df9-d496c1a74266\">\n",
              "    <div class=\"colab-df-container\">\n",
              "      <div>\n",
              "<style scoped>\n",
              "    .dataframe tbody tr th:only-of-type {\n",
              "        vertical-align: middle;\n",
              "    }\n",
              "\n",
              "    .dataframe tbody tr th {\n",
              "        vertical-align: top;\n",
              "    }\n",
              "\n",
              "    .dataframe thead th {\n",
              "        text-align: right;\n",
              "    }\n",
              "</style>\n",
              "<table border=\"1\" class=\"dataframe\">\n",
              "  <thead>\n",
              "    <tr style=\"text-align: right;\">\n",
              "      <th></th>\n",
              "      <th>sentence</th>\n",
              "      <th>label</th>\n",
              "      <th>label_idx</th>\n",
              "    </tr>\n",
              "  </thead>\n",
              "  <tbody>\n",
              "    <tr>\n",
              "      <th>0</th>\n",
              "      <td>booster shots side effects worsen second shot</td>\n",
              "      <td>booster shot side effects worse second shot</td>\n",
              "      <td>175</td>\n",
              "    </tr>\n",
              "    <tr>\n",
              "      <th>1</th>\n",
              "      <td>vaccine side effects</td>\n",
              "      <td>booster shot side effects worse second shot</td>\n",
              "      <td>175</td>\n",
              "    </tr>\n",
              "    <tr>\n",
              "      <th>2</th>\n",
              "      <td>booster vaccine leaves worse side effects firs...</td>\n",
              "      <td>booster shot side effects worse second shot</td>\n",
              "      <td>175</td>\n",
              "    </tr>\n",
              "    <tr>\n",
              "      <th>3</th>\n",
              "      <td>reinforcements safe</td>\n",
              "      <td>booster shot side effects worse second shot</td>\n",
              "      <td>175</td>\n",
              "    </tr>\n",
              "    <tr>\n",
              "      <th>4</th>\n",
              "      <td>second dose covid19 vaccine higher side effects</td>\n",
              "      <td>booster shot side effects worse second shot</td>\n",
              "      <td>175</td>\n",
              "    </tr>\n",
              "  </tbody>\n",
              "</table>\n",
              "</div>\n",
              "      <button class=\"colab-df-convert\" onclick=\"convertToInteractive('df-67e3b867-07d5-4770-8df9-d496c1a74266')\"\n",
              "              title=\"Convert this dataframe to an interactive table.\"\n",
              "              style=\"display:none;\">\n",
              "        \n",
              "  <svg xmlns=\"http://www.w3.org/2000/svg\" height=\"24px\"viewBox=\"0 0 24 24\"\n",
              "       width=\"24px\">\n",
              "    <path d=\"M0 0h24v24H0V0z\" fill=\"none\"/>\n",
              "    <path d=\"M18.56 5.44l.94 2.06.94-2.06 2.06-.94-2.06-.94-.94-2.06-.94 2.06-2.06.94zm-11 1L8.5 8.5l.94-2.06 2.06-.94-2.06-.94L8.5 2.5l-.94 2.06-2.06.94zm10 10l.94 2.06.94-2.06 2.06-.94-2.06-.94-.94-2.06-.94 2.06-2.06.94z\"/><path d=\"M17.41 7.96l-1.37-1.37c-.4-.4-.92-.59-1.43-.59-.52 0-1.04.2-1.43.59L10.3 9.45l-7.72 7.72c-.78.78-.78 2.05 0 2.83L4 21.41c.39.39.9.59 1.41.59.51 0 1.02-.2 1.41-.59l7.78-7.78 2.81-2.81c.8-.78.8-2.07 0-2.86zM5.41 20L4 18.59l7.72-7.72 1.47 1.35L5.41 20z\"/>\n",
              "  </svg>\n",
              "      </button>\n",
              "      \n",
              "  <style>\n",
              "    .colab-df-container {\n",
              "      display:flex;\n",
              "      flex-wrap:wrap;\n",
              "      gap: 12px;\n",
              "    }\n",
              "\n",
              "    .colab-df-convert {\n",
              "      background-color: #E8F0FE;\n",
              "      border: none;\n",
              "      border-radius: 50%;\n",
              "      cursor: pointer;\n",
              "      display: none;\n",
              "      fill: #1967D2;\n",
              "      height: 32px;\n",
              "      padding: 0 0 0 0;\n",
              "      width: 32px;\n",
              "    }\n",
              "\n",
              "    .colab-df-convert:hover {\n",
              "      background-color: #E2EBFA;\n",
              "      box-shadow: 0px 1px 2px rgba(60, 64, 67, 0.3), 0px 1px 3px 1px rgba(60, 64, 67, 0.15);\n",
              "      fill: #174EA6;\n",
              "    }\n",
              "\n",
              "    [theme=dark] .colab-df-convert {\n",
              "      background-color: #3B4455;\n",
              "      fill: #D2E3FC;\n",
              "    }\n",
              "\n",
              "    [theme=dark] .colab-df-convert:hover {\n",
              "      background-color: #434B5C;\n",
              "      box-shadow: 0px 1px 3px 1px rgba(0, 0, 0, 0.15);\n",
              "      filter: drop-shadow(0px 1px 2px rgba(0, 0, 0, 0.3));\n",
              "      fill: #FFFFFF;\n",
              "    }\n",
              "  </style>\n",
              "\n",
              "      <script>\n",
              "        const buttonEl =\n",
              "          document.querySelector('#df-67e3b867-07d5-4770-8df9-d496c1a74266 button.colab-df-convert');\n",
              "        buttonEl.style.display =\n",
              "          google.colab.kernel.accessAllowed ? 'block' : 'none';\n",
              "\n",
              "        async function convertToInteractive(key) {\n",
              "          const element = document.querySelector('#df-67e3b867-07d5-4770-8df9-d496c1a74266');\n",
              "          const dataTable =\n",
              "            await google.colab.kernel.invokeFunction('convertToInteractive',\n",
              "                                                     [key], {});\n",
              "          if (!dataTable) return;\n",
              "\n",
              "          const docLinkHtml = 'Like what you see? Visit the ' +\n",
              "            '<a target=\"_blank\" href=https://colab.research.google.com/notebooks/data_table.ipynb>data table notebook</a>'\n",
              "            + ' to learn more about interactive tables.';\n",
              "          element.innerHTML = '';\n",
              "          dataTable['output_type'] = 'display_data';\n",
              "          await google.colab.output.renderOutput(dataTable, element);\n",
              "          const docLink = document.createElement('div');\n",
              "          docLink.innerHTML = docLinkHtml;\n",
              "          element.appendChild(docLink);\n",
              "        }\n",
              "      </script>\n",
              "    </div>\n",
              "  </div>\n",
              "  "
            ]
          },
          "metadata": {},
          "execution_count": 136
        }
      ],
      "source": [
        "df.head(5)"
      ]
    },
    {
      "cell_type": "markdown",
      "source": [
        "After fixing the issues, some duplicate may have been created. So, those duplicate values must be removed."
      ],
      "metadata": {
        "id": "VThmHnijIoyl"
      }
    },
    {
      "cell_type": "code",
      "execution_count": null,
      "metadata": {
        "colab": {
          "base_uri": "https://localhost:8080/"
        },
        "id": "xFTPli6f4-Z1",
        "outputId": "e58d4397-bba3-4b8b-dff8-f1edcde2c79f"
      },
      "outputs": [
        {
          "output_type": "stream",
          "name": "stdout",
          "text": [
            "639\n"
          ]
        }
      ],
      "source": [
        "print(df.duplicated(subset = 'sentence').sum())"
      ]
    },
    {
      "cell_type": "code",
      "execution_count": null,
      "metadata": {
        "colab": {
          "base_uri": "https://localhost:8080/"
        },
        "id": "un837eNm5I4v",
        "outputId": "81f957e0-b618-4e89-871f-8bdf774ab424"
      },
      "outputs": [
        {
          "output_type": "stream",
          "name": "stdout",
          "text": [
            "0\n"
          ]
        }
      ],
      "source": [
        "df = df.drop_duplicates(subset = 'sentence') # removes any duplicate rows\n",
        "print(df.duplicated(subset = 'sentence').sum())"
      ]
    },
    {
      "cell_type": "markdown",
      "source": [
        "## **ii. Text preprocessing**"
      ],
      "metadata": {
        "id": "hjgzJ5ouJXT_"
      }
    },
    {
      "cell_type": "markdown",
      "metadata": {
        "id": "qAmOHA9b5TJz"
      },
      "source": [
        "### **a) Tokenization**"
      ]
    },
    {
      "cell_type": "code",
      "execution_count": null,
      "metadata": {
        "id": "RA97GiIt5Swp"
      },
      "outputs": [],
      "source": [
        "# Tokenize 'sentence' column\n",
        "df['token_sentence'] = df['sentence'].apply(nltk.word_tokenize)\n",
        "\n",
        "# Tokenize 'label' column\n",
        "df['token_label'] = df['label'].apply(nltk.word_tokenize)"
      ]
    },
    {
      "cell_type": "code",
      "source": [
        "type(df.token_sentence)"
      ],
      "metadata": {
        "colab": {
          "base_uri": "https://localhost:8080/"
        },
        "id": "dBZM7GczDSIO",
        "outputId": "b9669dfe-a6e8-4573-bbb1-543966118213"
      },
      "execution_count": null,
      "outputs": [
        {
          "output_type": "execute_result",
          "data": {
            "text/plain": [
              "pandas.core.series.Series"
            ]
          },
          "metadata": {},
          "execution_count": 140
        }
      ]
    },
    {
      "cell_type": "code",
      "execution_count": null,
      "metadata": {
        "colab": {
          "base_uri": "https://localhost:8080/",
          "height": 333
        },
        "id": "mD1Cv8eC6EgF",
        "outputId": "0fa287fd-87d2-488f-dcfe-55f77e37bca7"
      },
      "outputs": [
        {
          "output_type": "execute_result",
          "data": {
            "text/plain": [
              "                                            sentence  \\\n",
              "0      booster shots side effects worsen second shot   \n",
              "1                               vaccine side effects   \n",
              "2  booster vaccine leaves worse side effects firs...   \n",
              "3                                reinforcements safe   \n",
              "4    second dose covid19 vaccine higher side effects   \n",
              "\n",
              "                                         label  label_idx  \\\n",
              "0  booster shot side effects worse second shot        175   \n",
              "1  booster shot side effects worse second shot        175   \n",
              "2  booster shot side effects worse second shot        175   \n",
              "3  booster shot side effects worse second shot        175   \n",
              "4  booster shot side effects worse second shot        175   \n",
              "\n",
              "                                      token_sentence  \\\n",
              "0  [booster, shots, side, effects, worsen, second...   \n",
              "1                           [vaccine, side, effects]   \n",
              "2  [booster, vaccine, leaves, worse, side, effect...   \n",
              "3                             [reinforcements, safe]   \n",
              "4  [second, dose, covid19, vaccine, higher, side,...   \n",
              "\n",
              "                                         token_label  \n",
              "0  [booster, shot, side, effects, worse, second, ...  \n",
              "1  [booster, shot, side, effects, worse, second, ...  \n",
              "2  [booster, shot, side, effects, worse, second, ...  \n",
              "3  [booster, shot, side, effects, worse, second, ...  \n",
              "4  [booster, shot, side, effects, worse, second, ...  "
            ],
            "text/html": [
              "\n",
              "  <div id=\"df-d4135804-feed-4645-bad6-26bf901d01f5\">\n",
              "    <div class=\"colab-df-container\">\n",
              "      <div>\n",
              "<style scoped>\n",
              "    .dataframe tbody tr th:only-of-type {\n",
              "        vertical-align: middle;\n",
              "    }\n",
              "\n",
              "    .dataframe tbody tr th {\n",
              "        vertical-align: top;\n",
              "    }\n",
              "\n",
              "    .dataframe thead th {\n",
              "        text-align: right;\n",
              "    }\n",
              "</style>\n",
              "<table border=\"1\" class=\"dataframe\">\n",
              "  <thead>\n",
              "    <tr style=\"text-align: right;\">\n",
              "      <th></th>\n",
              "      <th>sentence</th>\n",
              "      <th>label</th>\n",
              "      <th>label_idx</th>\n",
              "      <th>token_sentence</th>\n",
              "      <th>token_label</th>\n",
              "    </tr>\n",
              "  </thead>\n",
              "  <tbody>\n",
              "    <tr>\n",
              "      <th>0</th>\n",
              "      <td>booster shots side effects worsen second shot</td>\n",
              "      <td>booster shot side effects worse second shot</td>\n",
              "      <td>175</td>\n",
              "      <td>[booster, shots, side, effects, worsen, second...</td>\n",
              "      <td>[booster, shot, side, effects, worse, second, ...</td>\n",
              "    </tr>\n",
              "    <tr>\n",
              "      <th>1</th>\n",
              "      <td>vaccine side effects</td>\n",
              "      <td>booster shot side effects worse second shot</td>\n",
              "      <td>175</td>\n",
              "      <td>[vaccine, side, effects]</td>\n",
              "      <td>[booster, shot, side, effects, worse, second, ...</td>\n",
              "    </tr>\n",
              "    <tr>\n",
              "      <th>2</th>\n",
              "      <td>booster vaccine leaves worse side effects firs...</td>\n",
              "      <td>booster shot side effects worse second shot</td>\n",
              "      <td>175</td>\n",
              "      <td>[booster, vaccine, leaves, worse, side, effect...</td>\n",
              "      <td>[booster, shot, side, effects, worse, second, ...</td>\n",
              "    </tr>\n",
              "    <tr>\n",
              "      <th>3</th>\n",
              "      <td>reinforcements safe</td>\n",
              "      <td>booster shot side effects worse second shot</td>\n",
              "      <td>175</td>\n",
              "      <td>[reinforcements, safe]</td>\n",
              "      <td>[booster, shot, side, effects, worse, second, ...</td>\n",
              "    </tr>\n",
              "    <tr>\n",
              "      <th>4</th>\n",
              "      <td>second dose covid19 vaccine higher side effects</td>\n",
              "      <td>booster shot side effects worse second shot</td>\n",
              "      <td>175</td>\n",
              "      <td>[second, dose, covid19, vaccine, higher, side,...</td>\n",
              "      <td>[booster, shot, side, effects, worse, second, ...</td>\n",
              "    </tr>\n",
              "  </tbody>\n",
              "</table>\n",
              "</div>\n",
              "      <button class=\"colab-df-convert\" onclick=\"convertToInteractive('df-d4135804-feed-4645-bad6-26bf901d01f5')\"\n",
              "              title=\"Convert this dataframe to an interactive table.\"\n",
              "              style=\"display:none;\">\n",
              "        \n",
              "  <svg xmlns=\"http://www.w3.org/2000/svg\" height=\"24px\"viewBox=\"0 0 24 24\"\n",
              "       width=\"24px\">\n",
              "    <path d=\"M0 0h24v24H0V0z\" fill=\"none\"/>\n",
              "    <path d=\"M18.56 5.44l.94 2.06.94-2.06 2.06-.94-2.06-.94-.94-2.06-.94 2.06-2.06.94zm-11 1L8.5 8.5l.94-2.06 2.06-.94-2.06-.94L8.5 2.5l-.94 2.06-2.06.94zm10 10l.94 2.06.94-2.06 2.06-.94-2.06-.94-.94-2.06-.94 2.06-2.06.94z\"/><path d=\"M17.41 7.96l-1.37-1.37c-.4-.4-.92-.59-1.43-.59-.52 0-1.04.2-1.43.59L10.3 9.45l-7.72 7.72c-.78.78-.78 2.05 0 2.83L4 21.41c.39.39.9.59 1.41.59.51 0 1.02-.2 1.41-.59l7.78-7.78 2.81-2.81c.8-.78.8-2.07 0-2.86zM5.41 20L4 18.59l7.72-7.72 1.47 1.35L5.41 20z\"/>\n",
              "  </svg>\n",
              "      </button>\n",
              "      \n",
              "  <style>\n",
              "    .colab-df-container {\n",
              "      display:flex;\n",
              "      flex-wrap:wrap;\n",
              "      gap: 12px;\n",
              "    }\n",
              "\n",
              "    .colab-df-convert {\n",
              "      background-color: #E8F0FE;\n",
              "      border: none;\n",
              "      border-radius: 50%;\n",
              "      cursor: pointer;\n",
              "      display: none;\n",
              "      fill: #1967D2;\n",
              "      height: 32px;\n",
              "      padding: 0 0 0 0;\n",
              "      width: 32px;\n",
              "    }\n",
              "\n",
              "    .colab-df-convert:hover {\n",
              "      background-color: #E2EBFA;\n",
              "      box-shadow: 0px 1px 2px rgba(60, 64, 67, 0.3), 0px 1px 3px 1px rgba(60, 64, 67, 0.15);\n",
              "      fill: #174EA6;\n",
              "    }\n",
              "\n",
              "    [theme=dark] .colab-df-convert {\n",
              "      background-color: #3B4455;\n",
              "      fill: #D2E3FC;\n",
              "    }\n",
              "\n",
              "    [theme=dark] .colab-df-convert:hover {\n",
              "      background-color: #434B5C;\n",
              "      box-shadow: 0px 1px 3px 1px rgba(0, 0, 0, 0.15);\n",
              "      filter: drop-shadow(0px 1px 2px rgba(0, 0, 0, 0.3));\n",
              "      fill: #FFFFFF;\n",
              "    }\n",
              "  </style>\n",
              "\n",
              "      <script>\n",
              "        const buttonEl =\n",
              "          document.querySelector('#df-d4135804-feed-4645-bad6-26bf901d01f5 button.colab-df-convert');\n",
              "        buttonEl.style.display =\n",
              "          google.colab.kernel.accessAllowed ? 'block' : 'none';\n",
              "\n",
              "        async function convertToInteractive(key) {\n",
              "          const element = document.querySelector('#df-d4135804-feed-4645-bad6-26bf901d01f5');\n",
              "          const dataTable =\n",
              "            await google.colab.kernel.invokeFunction('convertToInteractive',\n",
              "                                                     [key], {});\n",
              "          if (!dataTable) return;\n",
              "\n",
              "          const docLinkHtml = 'Like what you see? Visit the ' +\n",
              "            '<a target=\"_blank\" href=https://colab.research.google.com/notebooks/data_table.ipynb>data table notebook</a>'\n",
              "            + ' to learn more about interactive tables.';\n",
              "          element.innerHTML = '';\n",
              "          dataTable['output_type'] = 'display_data';\n",
              "          await google.colab.output.renderOutput(dataTable, element);\n",
              "          const docLink = document.createElement('div');\n",
              "          docLink.innerHTML = docLinkHtml;\n",
              "          element.appendChild(docLink);\n",
              "        }\n",
              "      </script>\n",
              "    </div>\n",
              "  </div>\n",
              "  "
            ]
          },
          "metadata": {},
          "execution_count": 141
        }
      ],
      "source": [
        "df.head(5)"
      ]
    },
    {
      "cell_type": "markdown",
      "metadata": {
        "id": "g5Xhjwi36QSs"
      },
      "source": [
        "### **b) Lemmatization**"
      ]
    },
    {
      "cell_type": "code",
      "source": [
        "import spacy\n",
        "# Load the spacy trained pipeline to tokenize the text\n",
        "nlp = spacy.load('en_core_web_sm', disable=['parser', 'ner'])\n",
        "\n",
        "# Function to lemmatize the tokens\n",
        "def token_lemmatization(tokens, allowed_postags=[\"NOUN\", \"ADJ\", \"VERB\"]):\n",
        "    text = \" \".join(tokens)\n",
        "    text = nlp(text)\n",
        "    lemmatized_tokens = []\n",
        "    \n",
        "    for token in text:\n",
        "        if token.pos_ in allowed_postags:\n",
        "            lemmatized_tokens.append(token.lemma_)\n",
        "    \n",
        "    return ' '.join(lemmatized_tokens)"
      ],
      "metadata": {
        "id": "tR8ZILzIwVPW"
      },
      "execution_count": null,
      "outputs": []
    },
    {
      "cell_type": "code",
      "execution_count": null,
      "metadata": {
        "id": "lEtLzLKO6x6x"
      },
      "outputs": [],
      "source": [
        "# Apply the lemmatization function to the 'token_sentence' and 'token_label' columns\n",
        "df['lem_sentence'] = df['token_sentence'].apply(token_lemmatization)\n",
        "df['lem_label'] = df['token_label'].apply(token_lemmatization)"
      ]
    },
    {
      "cell_type": "code",
      "execution_count": null,
      "metadata": {
        "id": "wNikFMU387kG",
        "colab": {
          "base_uri": "https://localhost:8080/",
          "height": 743
        },
        "outputId": "d9821f1b-edb5-4c44-fcc4-fc1ebccc361b"
      },
      "outputs": [
        {
          "output_type": "execute_result",
          "data": {
            "text/plain": [
              "                                            sentence  \\\n",
              "0      booster shots side effects worsen second shot   \n",
              "1                               vaccine side effects   \n",
              "2  booster vaccine leaves worse side effects firs...   \n",
              "3                                reinforcements safe   \n",
              "4    second dose covid19 vaccine higher side effects   \n",
              "5          really side effects worse first injection   \n",
              "6  second injection fewer effects side effects va...   \n",
              "7     second dose vaccine causes side effects people   \n",
              "8                  side effects booster worse second   \n",
              "9                      booster stronger side effects   \n",
              "\n",
              "                                         label  label_idx  \\\n",
              "0  booster shot side effects worse second shot        175   \n",
              "1  booster shot side effects worse second shot        175   \n",
              "2  booster shot side effects worse second shot        175   \n",
              "3  booster shot side effects worse second shot        175   \n",
              "4  booster shot side effects worse second shot        175   \n",
              "5  booster shot side effects worse second shot        175   \n",
              "6  booster shot side effects worse second shot        175   \n",
              "7  booster shot side effects worse second shot        175   \n",
              "8  booster shot side effects worse second shot        175   \n",
              "9  booster shot side effects worse second shot        175   \n",
              "\n",
              "                                      token_sentence  \\\n",
              "0  [booster, shots, side, effects, worsen, second...   \n",
              "1                           [vaccine, side, effects]   \n",
              "2  [booster, vaccine, leaves, worse, side, effect...   \n",
              "3                             [reinforcements, safe]   \n",
              "4  [second, dose, covid19, vaccine, higher, side,...   \n",
              "5   [really, side, effects, worse, first, injection]   \n",
              "6  [second, injection, fewer, effects, side, effe...   \n",
              "7  [second, dose, vaccine, causes, side, effects,...   \n",
              "8            [side, effects, booster, worse, second]   \n",
              "9                 [booster, stronger, side, effects]   \n",
              "\n",
              "                                         token_label  \\\n",
              "0  [booster, shot, side, effects, worse, second, ...   \n",
              "1  [booster, shot, side, effects, worse, second, ...   \n",
              "2  [booster, shot, side, effects, worse, second, ...   \n",
              "3  [booster, shot, side, effects, worse, second, ...   \n",
              "4  [booster, shot, side, effects, worse, second, ...   \n",
              "5  [booster, shot, side, effects, worse, second, ...   \n",
              "6  [booster, shot, side, effects, worse, second, ...   \n",
              "7  [booster, shot, side, effects, worse, second, ...   \n",
              "8  [booster, shot, side, effects, worse, second, ...   \n",
              "9  [booster, shot, side, effects, worse, second, ...   \n",
              "\n",
              "                                      lem_sentence  \\\n",
              "0      booster shot side effect worsen second shot   \n",
              "1                              vaccine side effect   \n",
              "2  vaccine leave bad side effect first second dose   \n",
              "3                               reinforcement safe   \n",
              "4          second covid19 vaccine high side effect   \n",
              "5                  side effect bad first injection   \n",
              "6  second injection few effect side effect vaccine   \n",
              "7                 vaccine cause side effect people   \n",
              "8                   side effect booster bad second   \n",
              "9                       booster strong side effect   \n",
              "\n",
              "                                   lem_label  \n",
              "0  booster shoot side effect bad second shot  \n",
              "1  booster shoot side effect bad second shot  \n",
              "2  booster shoot side effect bad second shot  \n",
              "3  booster shoot side effect bad second shot  \n",
              "4  booster shoot side effect bad second shot  \n",
              "5  booster shoot side effect bad second shot  \n",
              "6  booster shoot side effect bad second shot  \n",
              "7  booster shoot side effect bad second shot  \n",
              "8  booster shoot side effect bad second shot  \n",
              "9  booster shoot side effect bad second shot  "
            ],
            "text/html": [
              "\n",
              "  <div id=\"df-2817f937-0aba-425f-a278-403e1de75741\">\n",
              "    <div class=\"colab-df-container\">\n",
              "      <div>\n",
              "<style scoped>\n",
              "    .dataframe tbody tr th:only-of-type {\n",
              "        vertical-align: middle;\n",
              "    }\n",
              "\n",
              "    .dataframe tbody tr th {\n",
              "        vertical-align: top;\n",
              "    }\n",
              "\n",
              "    .dataframe thead th {\n",
              "        text-align: right;\n",
              "    }\n",
              "</style>\n",
              "<table border=\"1\" class=\"dataframe\">\n",
              "  <thead>\n",
              "    <tr style=\"text-align: right;\">\n",
              "      <th></th>\n",
              "      <th>sentence</th>\n",
              "      <th>label</th>\n",
              "      <th>label_idx</th>\n",
              "      <th>token_sentence</th>\n",
              "      <th>token_label</th>\n",
              "      <th>lem_sentence</th>\n",
              "      <th>lem_label</th>\n",
              "    </tr>\n",
              "  </thead>\n",
              "  <tbody>\n",
              "    <tr>\n",
              "      <th>0</th>\n",
              "      <td>booster shots side effects worsen second shot</td>\n",
              "      <td>booster shot side effects worse second shot</td>\n",
              "      <td>175</td>\n",
              "      <td>[booster, shots, side, effects, worsen, second...</td>\n",
              "      <td>[booster, shot, side, effects, worse, second, ...</td>\n",
              "      <td>booster shot side effect worsen second shot</td>\n",
              "      <td>booster shoot side effect bad second shot</td>\n",
              "    </tr>\n",
              "    <tr>\n",
              "      <th>1</th>\n",
              "      <td>vaccine side effects</td>\n",
              "      <td>booster shot side effects worse second shot</td>\n",
              "      <td>175</td>\n",
              "      <td>[vaccine, side, effects]</td>\n",
              "      <td>[booster, shot, side, effects, worse, second, ...</td>\n",
              "      <td>vaccine side effect</td>\n",
              "      <td>booster shoot side effect bad second shot</td>\n",
              "    </tr>\n",
              "    <tr>\n",
              "      <th>2</th>\n",
              "      <td>booster vaccine leaves worse side effects firs...</td>\n",
              "      <td>booster shot side effects worse second shot</td>\n",
              "      <td>175</td>\n",
              "      <td>[booster, vaccine, leaves, worse, side, effect...</td>\n",
              "      <td>[booster, shot, side, effects, worse, second, ...</td>\n",
              "      <td>vaccine leave bad side effect first second dose</td>\n",
              "      <td>booster shoot side effect bad second shot</td>\n",
              "    </tr>\n",
              "    <tr>\n",
              "      <th>3</th>\n",
              "      <td>reinforcements safe</td>\n",
              "      <td>booster shot side effects worse second shot</td>\n",
              "      <td>175</td>\n",
              "      <td>[reinforcements, safe]</td>\n",
              "      <td>[booster, shot, side, effects, worse, second, ...</td>\n",
              "      <td>reinforcement safe</td>\n",
              "      <td>booster shoot side effect bad second shot</td>\n",
              "    </tr>\n",
              "    <tr>\n",
              "      <th>4</th>\n",
              "      <td>second dose covid19 vaccine higher side effects</td>\n",
              "      <td>booster shot side effects worse second shot</td>\n",
              "      <td>175</td>\n",
              "      <td>[second, dose, covid19, vaccine, higher, side,...</td>\n",
              "      <td>[booster, shot, side, effects, worse, second, ...</td>\n",
              "      <td>second covid19 vaccine high side effect</td>\n",
              "      <td>booster shoot side effect bad second shot</td>\n",
              "    </tr>\n",
              "    <tr>\n",
              "      <th>5</th>\n",
              "      <td>really side effects worse first injection</td>\n",
              "      <td>booster shot side effects worse second shot</td>\n",
              "      <td>175</td>\n",
              "      <td>[really, side, effects, worse, first, injection]</td>\n",
              "      <td>[booster, shot, side, effects, worse, second, ...</td>\n",
              "      <td>side effect bad first injection</td>\n",
              "      <td>booster shoot side effect bad second shot</td>\n",
              "    </tr>\n",
              "    <tr>\n",
              "      <th>6</th>\n",
              "      <td>second injection fewer effects side effects va...</td>\n",
              "      <td>booster shot side effects worse second shot</td>\n",
              "      <td>175</td>\n",
              "      <td>[second, injection, fewer, effects, side, effe...</td>\n",
              "      <td>[booster, shot, side, effects, worse, second, ...</td>\n",
              "      <td>second injection few effect side effect vaccine</td>\n",
              "      <td>booster shoot side effect bad second shot</td>\n",
              "    </tr>\n",
              "    <tr>\n",
              "      <th>7</th>\n",
              "      <td>second dose vaccine causes side effects people</td>\n",
              "      <td>booster shot side effects worse second shot</td>\n",
              "      <td>175</td>\n",
              "      <td>[second, dose, vaccine, causes, side, effects,...</td>\n",
              "      <td>[booster, shot, side, effects, worse, second, ...</td>\n",
              "      <td>vaccine cause side effect people</td>\n",
              "      <td>booster shoot side effect bad second shot</td>\n",
              "    </tr>\n",
              "    <tr>\n",
              "      <th>8</th>\n",
              "      <td>side effects booster worse second</td>\n",
              "      <td>booster shot side effects worse second shot</td>\n",
              "      <td>175</td>\n",
              "      <td>[side, effects, booster, worse, second]</td>\n",
              "      <td>[booster, shot, side, effects, worse, second, ...</td>\n",
              "      <td>side effect booster bad second</td>\n",
              "      <td>booster shoot side effect bad second shot</td>\n",
              "    </tr>\n",
              "    <tr>\n",
              "      <th>9</th>\n",
              "      <td>booster stronger side effects</td>\n",
              "      <td>booster shot side effects worse second shot</td>\n",
              "      <td>175</td>\n",
              "      <td>[booster, stronger, side, effects]</td>\n",
              "      <td>[booster, shot, side, effects, worse, second, ...</td>\n",
              "      <td>booster strong side effect</td>\n",
              "      <td>booster shoot side effect bad second shot</td>\n",
              "    </tr>\n",
              "  </tbody>\n",
              "</table>\n",
              "</div>\n",
              "      <button class=\"colab-df-convert\" onclick=\"convertToInteractive('df-2817f937-0aba-425f-a278-403e1de75741')\"\n",
              "              title=\"Convert this dataframe to an interactive table.\"\n",
              "              style=\"display:none;\">\n",
              "        \n",
              "  <svg xmlns=\"http://www.w3.org/2000/svg\" height=\"24px\"viewBox=\"0 0 24 24\"\n",
              "       width=\"24px\">\n",
              "    <path d=\"M0 0h24v24H0V0z\" fill=\"none\"/>\n",
              "    <path d=\"M18.56 5.44l.94 2.06.94-2.06 2.06-.94-2.06-.94-.94-2.06-.94 2.06-2.06.94zm-11 1L8.5 8.5l.94-2.06 2.06-.94-2.06-.94L8.5 2.5l-.94 2.06-2.06.94zm10 10l.94 2.06.94-2.06 2.06-.94-2.06-.94-.94-2.06-.94 2.06-2.06.94z\"/><path d=\"M17.41 7.96l-1.37-1.37c-.4-.4-.92-.59-1.43-.59-.52 0-1.04.2-1.43.59L10.3 9.45l-7.72 7.72c-.78.78-.78 2.05 0 2.83L4 21.41c.39.39.9.59 1.41.59.51 0 1.02-.2 1.41-.59l7.78-7.78 2.81-2.81c.8-.78.8-2.07 0-2.86zM5.41 20L4 18.59l7.72-7.72 1.47 1.35L5.41 20z\"/>\n",
              "  </svg>\n",
              "      </button>\n",
              "      \n",
              "  <style>\n",
              "    .colab-df-container {\n",
              "      display:flex;\n",
              "      flex-wrap:wrap;\n",
              "      gap: 12px;\n",
              "    }\n",
              "\n",
              "    .colab-df-convert {\n",
              "      background-color: #E8F0FE;\n",
              "      border: none;\n",
              "      border-radius: 50%;\n",
              "      cursor: pointer;\n",
              "      display: none;\n",
              "      fill: #1967D2;\n",
              "      height: 32px;\n",
              "      padding: 0 0 0 0;\n",
              "      width: 32px;\n",
              "    }\n",
              "\n",
              "    .colab-df-convert:hover {\n",
              "      background-color: #E2EBFA;\n",
              "      box-shadow: 0px 1px 2px rgba(60, 64, 67, 0.3), 0px 1px 3px 1px rgba(60, 64, 67, 0.15);\n",
              "      fill: #174EA6;\n",
              "    }\n",
              "\n",
              "    [theme=dark] .colab-df-convert {\n",
              "      background-color: #3B4455;\n",
              "      fill: #D2E3FC;\n",
              "    }\n",
              "\n",
              "    [theme=dark] .colab-df-convert:hover {\n",
              "      background-color: #434B5C;\n",
              "      box-shadow: 0px 1px 3px 1px rgba(0, 0, 0, 0.15);\n",
              "      filter: drop-shadow(0px 1px 2px rgba(0, 0, 0, 0.3));\n",
              "      fill: #FFFFFF;\n",
              "    }\n",
              "  </style>\n",
              "\n",
              "      <script>\n",
              "        const buttonEl =\n",
              "          document.querySelector('#df-2817f937-0aba-425f-a278-403e1de75741 button.colab-df-convert');\n",
              "        buttonEl.style.display =\n",
              "          google.colab.kernel.accessAllowed ? 'block' : 'none';\n",
              "\n",
              "        async function convertToInteractive(key) {\n",
              "          const element = document.querySelector('#df-2817f937-0aba-425f-a278-403e1de75741');\n",
              "          const dataTable =\n",
              "            await google.colab.kernel.invokeFunction('convertToInteractive',\n",
              "                                                     [key], {});\n",
              "          if (!dataTable) return;\n",
              "\n",
              "          const docLinkHtml = 'Like what you see? Visit the ' +\n",
              "            '<a target=\"_blank\" href=https://colab.research.google.com/notebooks/data_table.ipynb>data table notebook</a>'\n",
              "            + ' to learn more about interactive tables.';\n",
              "          element.innerHTML = '';\n",
              "          dataTable['output_type'] = 'display_data';\n",
              "          await google.colab.output.renderOutput(dataTable, element);\n",
              "          const docLink = document.createElement('div');\n",
              "          docLink.innerHTML = docLinkHtml;\n",
              "          element.appendChild(docLink);\n",
              "        }\n",
              "      </script>\n",
              "    </div>\n",
              "  </div>\n",
              "  "
            ]
          },
          "metadata": {},
          "execution_count": 144
        }
      ],
      "source": [
        "df.head(10)"
      ]
    },
    {
      "cell_type": "markdown",
      "metadata": {
        "id": "LSLmDsiFhfCZ"
      },
      "source": [
        "# **5. Exploratory Data Analysis**\n",
        "\n",
        "As this report focuses solely on analysis rather than modeling, the approach taken will be to explain exploratory data analysis (EDA) instead of modeling."
      ]
    },
    {
      "cell_type": "markdown",
      "metadata": {
        "id": "xmqSZxs7mkXX"
      },
      "source": [
        "## **i. Finding top 5 most frequesnt and top 5 lowest frequent labels**\n",
        "\n"
      ]
    },
    {
      "cell_type": "code",
      "execution_count": null,
      "metadata": {
        "id": "ix_fVEYzlpjk"
      },
      "outputs": [],
      "source": [
        "# Group the dataframe by 'label_idx' and count the frequency of each group\n",
        "label_freq = df.groupby('label_idx').size().reset_index(name='count')\n",
        "\n",
        "# Sort the result by count in descending order\n",
        "label_freq = label_freq.sort_values('count', ascending=False)\n",
        "\n",
        "# Join the 'label' column from the original dataframe to get the label name for each 'label_idx'\n",
        "label_freq = label_freq.merge(df[['label', 'label_idx']].drop_duplicates(), on='label_idx')"
      ]
    },
    {
      "cell_type": "code",
      "execution_count": null,
      "metadata": {
        "colab": {
          "base_uri": "https://localhost:8080/"
        },
        "id": "xOLcdQTdl6uX",
        "outputId": "4bcc4429-137a-418b-978b-bdc75c3c895b"
      },
      "outputs": [
        {
          "output_type": "stream",
          "name": "stdout",
          "text": [
            "   label_idx  count                                            label\n",
            "0          1    100    need continue safety measures getting vaccine\n",
            "1        180     97                effective vaccine omicron variant\n",
            "2         33     96          dont trust vaccines theyre china russia\n",
            "3         41     94                      still covid even vaccinated\n",
            "4         11     91                                 much pay vaccine\n",
            "5         50     84                         vaccine impact pregnancy\n",
            "6         94     82  many reports severe side effects deaths vaccine\n",
            "7         16     81                         im sure effective enough\n",
            "8         22     75             side effects adverse reactions worry\n",
            "9         92     75                       long immunity vaccine last\n"
          ]
        }
      ],
      "source": [
        "# Print the top 10 most frequent labels and their counts\n",
        "print(label_freq.head(10))"
      ]
    },
    {
      "cell_type": "markdown",
      "source": [
        "The top most frequent labels are- \"need continue safety measures getting vaccine\",\n",
        "\"effective vaccine omicron variant\",\n",
        "\"dont trust vaccines theyre china russia\",\n",
        "\"still covid even vaccinated\",\n",
        "\"much pay vaccine\",\n",
        "\"vaccine impact pregnancy\",\n",
        "\"many reports severe side effects deaths vaccine\",\n",
        "\"im sure effective enough\",\n",
        "\"side effects adverse reactions worry\",\n",
        "\"long immunity vaccine last\".\n",
        "\\\n",
        "\\\n",
        "Based on the output, it seems that the most frequently discussed topics related to vaccines are:\n",
        "\n",
        "\n",
        "1.   The importance of continuing safety measures even after getting vaccinated.\n",
        "2.   The effectiveness of vaccines against the Omicron variant.\n",
        "3.   Concerns about the safety and trustworthiness of vaccines from China and Russia.\n",
        "4.   The need to continue being cautious even after getting vaccinated.\n",
        "5.   Questions about the cost of vaccines.\n",
        "6.   The impact of vaccines on pregnancy.\n",
        "7.   Reports of severe side effects and deaths related to vaccines.\n",
        "8.   Confidence in the effectiveness of vaccines.\n",
        "9.   Worries about side effects and adverse reactions.\n",
        "10.   The duration of immunity provided by vaccines.\n",
        "\n",
        "\n",
        "\n",
        "\n",
        "\n",
        "\n",
        "\n",
        "\n",
        "\n",
        "\n",
        "\n",
        "\n",
        "\n"
      ],
      "metadata": {
        "id": "9RLGl5kXelEo"
      }
    },
    {
      "cell_type": "code",
      "execution_count": null,
      "metadata": {
        "colab": {
          "base_uri": "https://localhost:8080/"
        },
        "id": "I3SFcKTHl74l",
        "outputId": "44af5367-ead1-44ac-b0f9-8d529d1a0923"
      },
      "outputs": [
        {
          "output_type": "stream",
          "name": "stdout",
          "text": [
            "     label_idx  count                                        label\n",
            "176        170     17                   side effects booster shots\n",
            "177        120     16                                 need vaccine\n",
            "178        162     15  johnson johnson vaccine rare nerve syndrome\n",
            "179        148     14                                      vaccine\n",
            "180        132     13                          im going vaccinated\n"
          ]
        }
      ],
      "source": [
        "# Print the 10 lowest frequent labels and their counts\n",
        "print(label_freq.tail(5))"
      ]
    },
    {
      "cell_type": "markdown",
      "source": [
        "The top lowest frequent labels are- \n",
        "\"pfizer vaccine equally effective kids adults\"\n",
        "\"side effect vaccine\"\n",
        "\"vaccinated people need quarantine exposed covid19\"\n",
        "\"trust\"\n",
        "\"delta variant\"\n",
        "\"side effects booster shots\"\n",
        "\"need vaccine\"\n",
        "\"johnson johnson vaccine rare nerve syndrome\"\n",
        "\"vaccine\"\n",
        "\"im going vaccinated\""
      ],
      "metadata": {
        "id": "twwaV8ZTh09n"
      }
    },
    {
      "cell_type": "markdown",
      "metadata": {
        "id": "Ht3dcah1udO2"
      },
      "source": [
        "## **ii. Word Cloud**"
      ]
    },
    {
      "cell_type": "code",
      "execution_count": null,
      "metadata": {
        "colab": {
          "base_uri": "https://localhost:8080/",
          "height": 466
        },
        "id": "bBJ3aWiDqUMy",
        "outputId": "ec835af3-d922-4eaf-d932-0630805dc771"
      },
      "outputs": [
        {
          "output_type": "display_data",
          "data": {
            "text/plain": [
              "<Figure size 576x576 with 1 Axes>"
            ],
            "image/png": "[encoded data removed]"
          },
          "metadata": {
            "needs_background": "light"
          }
        }
      ],
      "source": [
        "# Create a string of all the labels\n",
        "labels = ' '.join(df['lem_sentence'].astype(str))\n",
        "\n",
        "# Create a word cloud of the label frequencies\n",
        "wordcloud = WordCloud(width=800, height=800, background_color='black', max_words=50).generate(labels)\n",
        "plt.figure(figsize=(8, 8))\n",
        "plt.imshow(wordcloud)\n",
        "plt.axis('off')\n",
        "plt.show()"
      ]
    },
    {
      "cell_type": "markdown",
      "source": [
        "From this word cloud, in sentence column, the words in biggest font is \"vaccine\". After that, the most frequent word seems to be \"covid\", \"side effect\", \"safe\", \"virus\", \"vaccinate\" etc. "
      ],
      "metadata": {
        "id": "mbpZAoGFjLUF"
      }
    },
    {
      "cell_type": "code",
      "execution_count": null,
      "metadata": {
        "colab": {
          "base_uri": "https://localhost:8080/",
          "height": 466
        },
        "id": "tRqNgf7ZAV1h",
        "outputId": "dbefe19f-e5d9-432c-d313-6174239d6495"
      },
      "outputs": [
        {
          "output_type": "display_data",
          "data": {
            "text/plain": [
              "<Figure size 576x576 with 1 Axes>"
            ],
            "image/png": "[encoded data removed]"
          },
          "metadata": {
            "needs_background": "light"
          }
        }
      ],
      "source": [
        "# Create a string of all the labels\n",
        "labels = ' '.join(df['lem_label'].astype(str))\n",
        "\n",
        "# Create a word cloud of the label frequencies\n",
        "wordcloud = WordCloud(width=800, height=800, background_color='black', max_words=50).generate(labels)\n",
        "plt.figure(figsize=(8, 8))\n",
        "plt.imshow(wordcloud)\n",
        "plt.axis('off')\n",
        "plt.show()"
      ]
    },
    {
      "cell_type": "markdown",
      "source": [
        "From this word cloud, in label column, the words in bigger fonts is \"vaccine\". \"covid19\", \"side effect\", \"booster\", \"shoot\", \"vaccinate\" etc."
      ],
      "metadata": {
        "id": "pcua0fh2k0fG"
      }
    },
    {
      "cell_type": "markdown",
      "metadata": {
        "id": "8WAf9WGCnenP"
      },
      "source": [
        "## **iii. N-gram analysis**"
      ]
    },
    {
      "cell_type": "markdown",
      "source": [
        "### **Bigram Analysis**"
      ],
      "metadata": {
        "id": "mgF1rXplyesc"
      }
    },
    {
      "cell_type": "code",
      "source": [
        "from collections import Counter\n",
        "\n",
        "def get_bigrams(data_column):\n",
        "    # Split the text into words\n",
        "    words = data_column.str.split()\n",
        "\n",
        "    # Initialize a counter for bigram frequencies\n",
        "    bigram_counts = Counter()\n",
        "\n",
        "    # Loop through each sentence and count bigrams\n",
        "    for sentence in words:\n",
        "        bigrams = zip(sentence, sentence[1:])\n",
        "        bigram_counts.update(bigrams)\n",
        "\n",
        "    # Return the top 10 bigrams and their frequency count\n",
        "    top_bigrams = bigram_counts.most_common(10)\n",
        "\n",
        "    return top_bigrams\n",
        "\n"
      ],
      "metadata": {
        "id": "Y5sCUiijvDKT"
      },
      "execution_count": null,
      "outputs": []
    },
    {
      "cell_type": "code",
      "source": [
        "top_bigrams = get_bigrams(df['lem_sentence'])\n",
        "print(top_bigrams)\n"
      ],
      "metadata": {
        "colab": {
          "base_uri": "https://localhost:8080/"
        },
        "id": "7DkSK36KvGls",
        "outputId": "c8368e2b-cde3-4403-e45a-65e634207ea7"
      },
      "execution_count": null,
      "outputs": [
        {
          "output_type": "stream",
          "name": "stdout",
          "text": [
            "[(('side', 'effect'), 426), (('covid', 'vaccine'), 226), (('get', 'vaccine'), 158), (('vaccine', 'work'), 142), (('effect', 'vaccine'), 136), (('ve', 'hear'), 129), (('vaccine', 'test'), 98), (('pfizer', 'vaccine'), 97), (('vaccine', 'safe'), 95), (('need', 'vaccine'), 94)]\n"
          ]
        }
      ]
    },
    {
      "cell_type": "markdown",
      "source": [
        "the bigram analysis shows the top 10 most frequent pairs of words (bigrams) in the text, along with the frequency of their occurrence. Based on the results provided, the following interpretations can be drawn:\n",
        "1. The most common bigram is \"side effect\" (occurring 426 times), indicating that concerns about vaccine side effects are a prevalent topic in the text.\n",
        "\n",
        "2. \"Covid vaccine\" is the second most frequent bigram, occurring 226 times, suggesting that the main focus of the text is on Covid-19 vaccination.\n",
        "3. \"Get vaccine\" is the third most frequent bigram, with a count of 158, indicating that the text likely discusses the importance of getting vaccinated.\n",
        "4. \"Vaccine work\" (occurring 142 times) suggests that the efficacy of vaccines is also an important topic in the text.\n",
        "5. \"Effect vaccine\" (occurring 136 times) is another bigram that indicates concerns about the potential side effects of vaccines.\n",
        "6. \"Ve hear\" (occurring 129 times) is an interesting bigram that does not provide a clear interpretation. Without further context, it is difficult to determine what this bigram represents.\n",
        "7. \"Vaccine test\" (occurring 98 times) may indicate that the text discusses the testing and development of vaccines.\n",
        "8. \"Pfizer vaccine\" (occurring 97 times) suggests that the text may specifically focus on the Pfizer Covid-19 vaccine.\n",
        "9. The bigram ('vaccine', 'safe') has a count of 95, which suggests that people are concerned about the safety of the COVID-19 vaccine.\n",
        "10. The bigram ('need', 'vaccine') has a count of 94, which suggests that people believe that getting the COVID-19 vaccine is necessary."
      ],
      "metadata": {
        "id": "8CecAC4vmlBn"
      }
    },
    {
      "cell_type": "markdown",
      "source": [
        "### **Trigram Analysis**"
      ],
      "metadata": {
        "id": "3_1LcXc_yjdM"
      }
    },
    {
      "cell_type": "code",
      "source": [
        "# trigram\n",
        "from collections import Counter\n",
        "\n",
        "def get_trigrams(data_column):\n",
        "    # Split the text into words\n",
        "    words = data_column.str.split()\n",
        "\n",
        "    # Initialize a counter for trigram frequencies\n",
        "    trigram_counts = Counter()\n",
        "\n",
        "    # Loop through each sentence and count trigrams\n",
        "    for sentence in words:\n",
        "        trigrams = zip(sentence, sentence[1:], sentence[2:])\n",
        "        trigram_counts.update(trigrams)\n",
        "\n",
        "    # Return the top 10 trigrams and their frequency count\n",
        "    top_trigrams = trigram_counts.most_common(10)\n",
        "\n",
        "    return top_trigrams\n"
      ],
      "metadata": {
        "id": "elC2HZwVyAMI"
      },
      "execution_count": null,
      "outputs": []
    },
    {
      "cell_type": "code",
      "source": [
        "top_trigrams = get_trigrams(df['lem_sentence'])\n",
        "print(top_trigrams)"
      ],
      "metadata": {
        "colab": {
          "base_uri": "https://localhost:8080/"
        },
        "id": "T7_5eFXwyIKS",
        "outputId": "af3c8215-d0bd-4b46-b11e-5f83ebab5e34"
      },
      "execution_count": null,
      "outputs": [
        {
          "output_type": "stream",
          "name": "stdout",
          "text": [
            "[(('side', 'effect', 'vaccine'), 91), (('ve', 'hear', 'vaccine'), 49), (('vaccine', 'side', 'effect'), 36), (('long', 'term', 'effect'), 29), (('viral', 'vector', 'vaccine'), 28), (('bad', 'side', 'effect'), 26), (('vaccine', 'help', 'new'), 26), (('vaccine', 'work', 'new'), 26), (('need', 'wear', 'mask'), 25), (('allergic', 'reaction', 'vaccine'), 22)]\n"
          ]
        }
      ]
    },
    {
      "cell_type": "markdown",
      "source": [
        "We can interpret a few things from this trigram analysis:\n",
        "\n",
        "1. The most frequent trigram is ('side', 'effect', 'vaccine') with a count of 91, which reinforces the idea that people are concerned about the potential side effects of the COVID-19 vaccine.\n",
        "2. The trigram ('ve', 'hear', 'vaccine') has a count of 49, which suggests that people are actively seeking information about the COVID-19 vaccine.\n",
        "3. The trigram ('vaccine', 'side', 'effect') has a count of 36, which is similar to the most frequent bigram ('side', 'effect') and reinforces the idea that people are concerned about the potential side effects of the COVID-19 vaccine.\n",
        "4. The trigram ('long', 'term', 'effect') has a count of 29, which suggests that people are interested in understanding the potential long-term effects of the COVID-19 vaccine.\n",
        "5. The trigram ('viral', 'vector', 'vaccine') has a count of 28, which suggests that people are interested in understanding the different types of COVID-19 vaccines available.\n",
        "6. The trigram ('bad', 'side', 'effect') has a count of 26, which reinforces the idea that people are concerned about the potential side effects of the COVID-19 vaccine.\n",
        "7. The trigrams ('vaccine', 'help', 'new') and ('vaccine', 'work', 'new') both have a count of 26, which suggests that people are interested in understanding how the COVID-19 vaccine can help prevent the spread of the virus.\n",
        "8. The trigram ('vaccine', 'work', 'new') has a count of 26, which suggests that people are interested in how the COVID-19 vaccine works and the new technologies behind it.\n",
        "9. The trigram ('need', 'wear', 'mask') has a count of 25, which suggests that people are discussing the ongoing need for preventative measures like mask-wearing even after receiving the COVID-19 vaccine.\n",
        "10. The trigram ('allergic', 'reaction', 'vaccine') has a count of 22, which suggests that people are concerned about the potential for allergic reactions to the COVID-19 vaccine."
      ],
      "metadata": {
        "id": "GZDbjw54otMe"
      }
    },
    {
      "cell_type": "markdown",
      "source": [
        "## **iv. Topic Modelling**"
      ],
      "metadata": {
        "id": "0LOOg26a80mm"
      }
    },
    {
      "cell_type": "code",
      "source": [
        "import gensim\n",
        "from gensim import corpora\n",
        "from nltk.tokenize import word_tokenize\n",
        "\n",
        "# Define a function to show topics\n",
        "def show_topic(df, num_topics):\n",
        "    # Tokenize the lemmatized sentences into words\n",
        "    texts = [word_tokenize(document) for document in df]\n",
        "\n",
        "    # Create a dictionary from the preprocessed texts\n",
        "    dictionary = corpora.Dictionary(texts)\n",
        "\n",
        "    # Create a bag-of-words representation of the texts\n",
        "    corpus = [dictionary.doc2bow(text) for text in texts]\n",
        "\n",
        "    # Perform LDA topic modeling on the corpus\n",
        "    lda_model = gensim.models.ldamodel.LdaModel(corpus=corpus,\n",
        "                                                id2word=dictionary,\n",
        "                                                num_topics=num_topics,\n",
        "                                                passes=10,\n",
        "                                                random_state=317)\n",
        "\n",
        "    # Print the topics and their associated words\n",
        "    print(lda_model.print_topics())\n",
        "\n",
        "\n"
      ],
      "metadata": {
        "id": "Xr0ZjMb980SA"
      },
      "execution_count": null,
      "outputs": []
    },
    {
      "cell_type": "code",
      "source": [
        "show_topic(df['lem_sentence'], 5)"
      ],
      "metadata": {
        "colab": {
          "base_uri": "https://localhost:8080/"
        },
        "id": "Chs6scV5-lAo",
        "outputId": "94a83813-6969-4047-c58b-e4581ff64e62"
      },
      "execution_count": null,
      "outputs": [
        {
          "output_type": "stream",
          "name": "stdout",
          "text": [
            "[(0, '0.133*\"vaccine\" + 0.052*\"virus\" + 0.030*\"test\" + 0.029*\"covid\" + 0.027*\"new\" + 0.023*\"work\" + 0.023*\"variant\" + 0.023*\"long\" + 0.022*\"effective\" + 0.017*\"vaccination\"'), (1, '0.133*\"vaccine\" + 0.074*\"people\" + 0.026*\"many\" + 0.020*\"covid\" + 0.018*\"wait\" + 0.017*\"want\" + 0.016*\"affect\" + 0.016*\"reaction\" + 0.016*\"see\" + 0.015*\"get\"'), (2, '0.094*\"vaccine\" + 0.084*\"effect\" + 0.055*\"side\" + 0.042*\"safe\" + 0.026*\"m\" + 0.026*\"go\" + 0.023*\"covid\" + 0.023*\"booster\" + 0.021*\"bad\" + 0.021*\"shoot\"'), (3, '0.122*\"vaccine\" + 0.048*\"vaccinate\" + 0.043*\"covid\" + 0.033*\"covid19\" + 0.031*\"get\" + 0.026*\"need\" + 0.019*\"make\" + 0.016*\"know\" + 0.015*\"protect\" + 0.015*\"sick\"'), (4, '0.163*\"vaccine\" + 0.036*\"ve\" + 0.033*\"pfizer\" + 0.032*\"hear\" + 0.020*\"government\" + 0.019*\"trust\" + 0.016*\"receive\" + 0.016*\"wear\" + 0.013*\"mask\" + 0.013*\"true\"')]\n"
          ]
        }
      ]
    },
    {
      "cell_type": "markdown",
      "source": [
        "### **Insights from this output:**\n",
        "\n",
        "### <u>**First topic:**</u>\n",
        "The top keywords are \"vaccine,\" \"virus,\" \"test,\" \"covid,\" \"new,\" \"work,\" \"variant,\" \"long,\" \"effective,\" and \"vaccination.\" \n",
        "1. The most dominant keyword in this topic is \"vaccine\", which has the highest probability of occurring in this topic. This indicates that the topic is likely focused on discussions related to vaccines, their development, effectiveness, and distribution.\n",
        "2. The presence of \"virus,\" \"test,\" and \"variant\" suggests that there is a focus on monitoring the spread and evolution of the virus.\n",
        "3. The term \"effective\" suggests that there is also discussion around the efficacy of various interventions, including vaccines and treatments, in combatting the virus.\n",
        "\n",
        "\n",
        "### <u>**Second topic:**</u>\n",
        "It looks like the top words that are associated with this topic are \"vaccine,\" \"people,\" \"many,\" \"COVID,\" \"wait,\" \"want,\" \"affect,\" \"reaction,\" \"see,\" and \"get.\"\n",
        "1. The presence of words like \"wait,\" \"affect,\" and \"reaction\" suggest that this topic may be related to people's concerns and uncertainties around the COVID-19 vaccine. The high frequency of the word \"vaccine\" also supports this interpretation. It's possible that this topic is capturing conversations around people who are hesitant to get vaccenated, either because they're worried about side effects or because they don't trust the vaccine.\n",
        "2. The words \"people,\" \"want,\" and \"get\" also support this interpretation, as they suggest that there is a desire among some individuals to receive the vaccine.\n",
        "\n",
        "\n",
        "### <u>**Third topic:**</u>\n",
        "1. Some of the most prominent words in this topic are \"vaccine,\" \"effect,\" and \"side.\" This suggests that people are likely discussing the effectiveness of vaccines, as well as any potential negative side effects they may have.\n",
        "2. The word \"safe\" also appears, which suggests that people may be concerned about the safety of vaccines. This is a common concern, especially given the speed at which COVID-19 vaccines were developed and approved.\n",
        "3. Other words, such as \"COVID,\" \"booster,\" and \"shoot,\" suggest that the discussion may be specifically related to COVID-19 vaccines and the need for booster shots.\n",
        "4. The word \"bad\" also appears, which could be an indication that some people are expressing negative opinions or experiences related to vaccines.\n",
        "\n",
        "### <u>**Fourth topic:**</u>\n",
        "It appears that the top keywords that are most associated with this particular topic are \"vaccine\", \"vaccinate\", \"COVID\", \"COVID19\", \"get\", \"need\", \"make\", \"know\", \"protect\", and \"sick\".\n",
        "1. The top two words in the result are \"vaccine\" and \"vaccinate\", indicating that this topic is highly focused on the importance of vaccination. It suggests that people are discussing the necessity and beneftts of getting vaccinated against COVID-19.\n",
        "2. COVID-19 Pandemic: The words \"covid\" and \"covid19\" appear in the top four words, indicating that the discussions are related to the ongoing pandemic. This topic is highly relevant and important given the current global situation.\n",
        "3. The keywords \"protect\" and \"sick\" could indicate that the topic is related to the benefits of vaccination, such as protecting oneself from illness.\n",
        "4. The presence of words such as \"get\", \"need\", \"make\", \"know\", \"protect\", and \"sick\" also suggests that the discussions are likely focused on the practical aspects of vaccination, such as why people need to get vaccinated, how to make vaccines more accessible, and how vaccines can protect individuals from getting sick.\n",
        "\n",
        "### <u>**Fifth topic:**</u>\n",
        "1. It indicates that the most dominant topic in the corpus is related to \"vaccine\". The weight of this topic is 0.163, which means that about 16.3% of the content in the corpus is related to this topic.\n",
        "2. The most common words associated with this topic are \"vaccine\", \"Pfizer\", \"hear\", \"government\", \"trust\", \"receive\", \"wear\", \"mask\", and \"true\". This suggests that the content of the corpus is likely discussing issues related to the COVID-19 vaccine, including the efficacy and safety of vaccines produced by Pfizer, the government's role in vaccine distribution and communication, and public trust in vaccines.\n",
        "3. The keywords \"receive,\" \"wear,\" and \"mask\" may also suggest that people are discussing the actions they are taking to protect themselves from COVID-19, such as receiving the vaccine, wearing masks, and following government guidelines.\n",
        "\n",
        "\n",
        "\n",
        "The topic modeling analysis of the corpus indicates that it primarily revolves around discussions related to the COVID-19 pandemic, with a specific focus on the topic of vaccines. The analysis reveals that there are several subtopics within the corpus, which include the efficacy, safety, and distribution of vaccines, as well as public trust and concerns around the COVID-19 vaccine. Additionally, the analysis suggests that there are discussions around the practical aspects of vaccination, such as why people need to get vaccinated, how to make vaccines more accessible, and how vaccines can protect individuals from getting sick. The presence of words related to protective measures, such as wearing masks, also suggests that people are discussing actions they can take to safeguard themselves from COVID-19. These findings provide valuable insights into the prevalent topics of discussion surrounding the COVID-19 pandemic and highlight the need for continued research and understanding of these important issues."
      ],
      "metadata": {
        "id": "9nfWGaysrmiK"
      }
    },
    {
      "cell_type": "markdown",
      "source": [
        "## **v. Sentiment Analysis**"
      ],
      "metadata": {
        "id": "rbx6ozxCLeKn"
      }
    },
    {
      "cell_type": "code",
      "source": [
        "from textblob import TextBlob\n",
        "\n",
        "# create a new column 'sentiment' with the polarity of each sentence\n",
        "df['sentiment'] = df['lem_sentence'].apply(lambda x: TextBlob(x).sentiment.polarity)\n",
        "\n",
        "'''\n",
        " 'sentiment' in the dataframe 'df' contains the polarity score of each sentence in the 'lem_sentence' column.\n",
        "'''\n",
        "\n",
        "# visualize the distribution of sentiment scores using a histogram\n",
        "import matplotlib.pyplot as plt\n",
        "\n",
        "plt.hist(df['sentiment'])\n",
        "plt.xlabel('Sentiment Score')\n",
        "plt.ylabel('Frequency')\n",
        "plt.title('Distribution of Sentiment Scores')\n",
        "plt.show()"
      ],
      "metadata": {
        "colab": {
          "base_uri": "https://localhost:8080/",
          "height": 295
        },
        "id": "1HlNYO1kLjoE",
        "outputId": "5135f3df-a472-4252-bf2b-cd74a2cf880f"
      },
      "execution_count": null,
      "outputs": [
        {
          "output_type": "display_data",
          "data": {
            "text/plain": [
              "<Figure size 432x288 with 1 Axes>"
            ],
            "image/png": "[encoded data removed]"
          },
          "metadata": {
            "needs_background": "light"
          }
        }
      ]
    },
    {
      "cell_type": "markdown",
      "source": [
        "TextBlob is used to calculate the polarity score of each sentence in the text corpus. The polarity score indicates whether a sentence expresses a positive, negative, or neutral sentiment. The resulting polarity scores are then visualized using a histogram to show the distribution of sentiment scores in the text corpus."
      ],
      "metadata": {
        "id": "A7uQG3gJ0tXC"
      }
    },
    {
      "cell_type": "code",
      "source": [
        "# Create an instance of the VADER sentiment analyzer\n",
        "analyzer = SentimentIntensityAnalyzer()\n",
        "\n",
        "# Apply the analyzer to the 'lem_sentence' column and get the compound score for each sentence\n",
        "df['sentiment_score'] = df['lem_sentence'].apply(lambda x: analyzer.polarity_scores(x)['compound'])\n",
        "\n",
        "# Define a function to map the compound score to a sentiment category\n",
        "def get_sentiment(score):\n",
        "    if score > 0:\n",
        "        return 'Positive'\n",
        "    elif score < 0:\n",
        "        return 'Negative'\n",
        "    else:\n",
        "        return 'Neutral'\n",
        "\n",
        "# Apply the function to the sentiment score column to get the sentiment category for each sentence\n",
        "df['sentiment_category'] = df['sentiment_score'].apply(lambda x: get_sentiment(x))\n",
        "\n",
        "# Visualize the distribution of sentiment categories\n",
        "sns.countplot(x='sentiment_category', data=df)\n",
        "plt.title('Sentiment Analysis')\n",
        "plt.xlabel('Sentiment Category')\n",
        "plt.ylabel('Count')\n",
        "plt.show()\n"
      ],
      "metadata": {
        "colab": {
          "base_uri": "https://localhost:8080/",
          "height": 295
        },
        "id": "Ylk_uZG8NsAZ",
        "outputId": "bf470d7f-d03c-4d09-e132-19fc24a5e07e"
      },
      "execution_count": null,
      "outputs": [
        {
          "output_type": "display_data",
          "data": {
            "text/plain": [
              "<Figure size 432x288 with 1 Axes>"
            ],
            "image/png": "[encoded data removed]"
          },
          "metadata": {
            "needs_background": "light"
          }
        }
      ]
    },
    {
      "cell_type": "code",
      "source": [
        "# Define a function to get the sentiment score of each sentence\n",
        "def get_sentiment_score(text):\n",
        "    return analyzer.polarity_scores(text)['compound']\n",
        "\n",
        "# Add a new column for the sentiment score\n",
        "df['sentiment_score'] = df['lem_sentence'].apply(get_sentiment_score)\n",
        "\n",
        "'''\n",
        "'sentiment_score' in 'df' contains the compound score of each sentence in the 'lem_sentence' column.\n",
        "'''\n",
        "\n",
        "df.head(5)"
      ],
      "metadata": {
        "colab": {
          "base_uri": "https://localhost:8080/",
          "height": 778
        },
        "id": "kN7XdKs7PVzV",
        "outputId": "75ccdb91-9285-453d-c795-4bbbc2f5c9e5"
      },
      "execution_count": null,
      "outputs": [
        {
          "output_type": "execute_result",
          "data": {
            "text/plain": [
              "                                            sentence  \\\n",
              "0      booster shots side effects worsen second shot   \n",
              "1                               vaccine side effects   \n",
              "2  booster vaccine leaves worse side effects firs...   \n",
              "3                                reinforcements safe   \n",
              "4    second dose covid19 vaccine higher side effects   \n",
              "\n",
              "                                         label  label_idx  \\\n",
              "0  booster shot side effects worse second shot        175   \n",
              "1  booster shot side effects worse second shot        175   \n",
              "2  booster shot side effects worse second shot        175   \n",
              "3  booster shot side effects worse second shot        175   \n",
              "4  booster shot side effects worse second shot        175   \n",
              "\n",
              "                                      token_sentence  \\\n",
              "0  [booster, shots, side, effects, worsen, second...   \n",
              "1                           [vaccine, side, effects]   \n",
              "2  [booster, vaccine, leaves, worse, side, effect...   \n",
              "3                             [reinforcements, safe]   \n",
              "4  [second, dose, covid19, vaccine, higher, side,...   \n",
              "\n",
              "                                         token_label  \\\n",
              "0  [booster, shot, side, effects, worse, second, ...   \n",
              "1  [booster, shot, side, effects, worse, second, ...   \n",
              "2  [booster, shot, side, effects, worse, second, ...   \n",
              "3  [booster, shot, side, effects, worse, second, ...   \n",
              "4  [booster, shot, side, effects, worse, second, ...   \n",
              "\n",
              "                                      lem_sentence  \\\n",
              "0      booster shot side effect worsen second shot   \n",
              "1                              vaccine side effect   \n",
              "2  vaccine leave bad side effect first second dose   \n",
              "3                               reinforcement safe   \n",
              "4          second covid19 vaccine high side effect   \n",
              "\n",
              "                                   lem_label  sentiment  sentiment_score  \\\n",
              "0  booster shoot side effect bad second shot       0.00          -0.5106   \n",
              "1  booster shoot side effect bad second shot       0.00           0.0000   \n",
              "2  booster shoot side effect bad second shot      -0.15          -0.5719   \n",
              "3  booster shoot side effect bad second shot       0.50           0.4404   \n",
              "4  booster shoot side effect bad second shot       0.08           0.0000   \n",
              "\n",
              "  sentiment_category  \n",
              "0           Negative  \n",
              "1            Neutral  \n",
              "2           Negative  \n",
              "3           Positive  \n",
              "4            Neutral  "
            ],
            "text/html": [
              "\n",
              "  <div id=\"df-ae66c4a9-9443-44be-8803-9a7effff4670\">\n",
              "    <div class=\"colab-df-container\">\n",
              "      <div>\n",
              "<style scoped>\n",
              "    .dataframe tbody tr th:only-of-type {\n",
              "        vertical-align: middle;\n",
              "    }\n",
              "\n",
              "    .dataframe tbody tr th {\n",
              "        vertical-align: top;\n",
              "    }\n",
              "\n",
              "    .dataframe thead th {\n",
              "        text-align: right;\n",
              "    }\n",
              "</style>\n",
              "<table border=\"1\" class=\"dataframe\">\n",
              "  <thead>\n",
              "    <tr style=\"text-align: right;\">\n",
              "      <th></th>\n",
              "      <th>sentence</th>\n",
              "      <th>label</th>\n",
              "      <th>label_idx</th>\n",
              "      <th>token_sentence</th>\n",
              "      <th>token_label</th>\n",
              "      <th>lem_sentence</th>\n",
              "      <th>lem_label</th>\n",
              "      <th>sentiment</th>\n",
              "      <th>sentiment_score</th>\n",
              "      <th>sentiment_category</th>\n",
              "    </tr>\n",
              "  </thead>\n",
              "  <tbody>\n",
              "    <tr>\n",
              "      <th>0</th>\n",
              "      <td>booster shots side effects worsen second shot</td>\n",
              "      <td>booster shot side effects worse second shot</td>\n",
              "      <td>175</td>\n",
              "      <td>[booster, shots, side, effects, worsen, second...</td>\n",
              "      <td>[booster, shot, side, effects, worse, second, ...</td>\n",
              "      <td>booster shot side effect worsen second shot</td>\n",
              "      <td>booster shoot side effect bad second shot</td>\n",
              "      <td>0.00</td>\n",
              "      <td>-0.5106</td>\n",
              "      <td>Negative</td>\n",
              "    </tr>\n",
              "    <tr>\n",
              "      <th>1</th>\n",
              "      <td>vaccine side effects</td>\n",
              "      <td>booster shot side effects worse second shot</td>\n",
              "      <td>175</td>\n",
              "      <td>[vaccine, side, effects]</td>\n",
              "      <td>[booster, shot, side, effects, worse, second, ...</td>\n",
              "      <td>vaccine side effect</td>\n",
              "      <td>booster shoot side effect bad second shot</td>\n",
              "      <td>0.00</td>\n",
              "      <td>0.0000</td>\n",
              "      <td>Neutral</td>\n",
              "    </tr>\n",
              "    <tr>\n",
              "      <th>2</th>\n",
              "      <td>booster vaccine leaves worse side effects firs...</td>\n",
              "      <td>booster shot side effects worse second shot</td>\n",
              "      <td>175</td>\n",
              "      <td>[booster, vaccine, leaves, worse, side, effect...</td>\n",
              "      <td>[booster, shot, side, effects, worse, second, ...</td>\n",
              "      <td>vaccine leave bad side effect first second dose</td>\n",
              "      <td>booster shoot side effect bad second shot</td>\n",
              "      <td>-0.15</td>\n",
              "      <td>-0.5719</td>\n",
              "      <td>Negative</td>\n",
              "    </tr>\n",
              "    <tr>\n",
              "      <th>3</th>\n",
              "      <td>reinforcements safe</td>\n",
              "      <td>booster shot side effects worse second shot</td>\n",
              "      <td>175</td>\n",
              "      <td>[reinforcements, safe]</td>\n",
              "      <td>[booster, shot, side, effects, worse, second, ...</td>\n",
              "      <td>reinforcement safe</td>\n",
              "      <td>booster shoot side effect bad second shot</td>\n",
              "      <td>0.50</td>\n",
              "      <td>0.4404</td>\n",
              "      <td>Positive</td>\n",
              "    </tr>\n",
              "    <tr>\n",
              "      <th>4</th>\n",
              "      <td>second dose covid19 vaccine higher side effects</td>\n",
              "      <td>booster shot side effects worse second shot</td>\n",
              "      <td>175</td>\n",
              "      <td>[second, dose, covid19, vaccine, higher, side,...</td>\n",
              "      <td>[booster, shot, side, effects, worse, second, ...</td>\n",
              "      <td>second covid19 vaccine high side effect</td>\n",
              "      <td>booster shoot side effect bad second shot</td>\n",
              "      <td>0.08</td>\n",
              "      <td>0.0000</td>\n",
              "      <td>Neutral</td>\n",
              "    </tr>\n",
              "  </tbody>\n",
              "</table>\n",
              "</div>\n",
              "      <button class=\"colab-df-convert\" onclick=\"convertToInteractive('df-ae66c4a9-9443-44be-8803-9a7effff4670')\"\n",
              "              title=\"Convert this dataframe to an interactive table.\"\n",
              "              style=\"display:none;\">\n",
              "        \n",
              "  <svg xmlns=\"http://www.w3.org/2000/svg\" height=\"24px\"viewBox=\"0 0 24 24\"\n",
              "       width=\"24px\">\n",
              "    <path d=\"M0 0h24v24H0V0z\" fill=\"none\"/>\n",
              "    <path d=\"M18.56 5.44l.94 2.06.94-2.06 2.06-.94-2.06-.94-.94-2.06-.94 2.06-2.06.94zm-11 1L8.5 8.5l.94-2.06 2.06-.94-2.06-.94L8.5 2.5l-.94 2.06-2.06.94zm10 10l.94 2.06.94-2.06 2.06-.94-2.06-.94-.94-2.06-.94 2.06-2.06.94z\"/><path d=\"M17.41 7.96l-1.37-1.37c-.4-.4-.92-.59-1.43-.59-.52 0-1.04.2-1.43.59L10.3 9.45l-7.72 7.72c-.78.78-.78 2.05 0 2.83L4 21.41c.39.39.9.59 1.41.59.51 0 1.02-.2 1.41-.59l7.78-7.78 2.81-2.81c.8-.78.8-2.07 0-2.86zM5.41 20L4 18.59l7.72-7.72 1.47 1.35L5.41 20z\"/>\n",
              "  </svg>\n",
              "      </button>\n",
              "      \n",
              "  <style>\n",
              "    .colab-df-container {\n",
              "      display:flex;\n",
              "      flex-wrap:wrap;\n",
              "      gap: 12px;\n",
              "    }\n",
              "\n",
              "    .colab-df-convert {\n",
              "      background-color: #E8F0FE;\n",
              "      border: none;\n",
              "      border-radius: 50%;\n",
              "      cursor: pointer;\n",
              "      display: none;\n",
              "      fill: #1967D2;\n",
              "      height: 32px;\n",
              "      padding: 0 0 0 0;\n",
              "      width: 32px;\n",
              "    }\n",
              "\n",
              "    .colab-df-convert:hover {\n",
              "      background-color: #E2EBFA;\n",
              "      box-shadow: 0px 1px 2px rgba(60, 64, 67, 0.3), 0px 1px 3px 1px rgba(60, 64, 67, 0.15);\n",
              "      fill: #174EA6;\n",
              "    }\n",
              "\n",
              "    [theme=dark] .colab-df-convert {\n",
              "      background-color: #3B4455;\n",
              "      fill: #D2E3FC;\n",
              "    }\n",
              "\n",
              "    [theme=dark] .colab-df-convert:hover {\n",
              "      background-color: #434B5C;\n",
              "      box-shadow: 0px 1px 3px 1px rgba(0, 0, 0, 0.15);\n",
              "      filter: drop-shadow(0px 1px 2px rgba(0, 0, 0, 0.3));\n",
              "      fill: #FFFFFF;\n",
              "    }\n",
              "  </style>\n",
              "\n",
              "      <script>\n",
              "        const buttonEl =\n",
              "          document.querySelector('#df-ae66c4a9-9443-44be-8803-9a7effff4670 button.colab-df-convert');\n",
              "        buttonEl.style.display =\n",
              "          google.colab.kernel.accessAllowed ? 'block' : 'none';\n",
              "\n",
              "        async function convertToInteractive(key) {\n",
              "          const element = document.querySelector('#df-ae66c4a9-9443-44be-8803-9a7effff4670');\n",
              "          const dataTable =\n",
              "            await google.colab.kernel.invokeFunction('convertToInteractive',\n",
              "                                                     [key], {});\n",
              "          if (!dataTable) return;\n",
              "\n",
              "          const docLinkHtml = 'Like what you see? Visit the ' +\n",
              "            '<a target=\"_blank\" href=https://colab.research.google.com/notebooks/data_table.ipynb>data table notebook</a>'\n",
              "            + ' to learn more about interactive tables.';\n",
              "          element.innerHTML = '';\n",
              "          dataTable['output_type'] = 'display_data';\n",
              "          await google.colab.output.renderOutput(dataTable, element);\n",
              "          const docLink = document.createElement('div');\n",
              "          docLink.innerHTML = docLinkHtml;\n",
              "          element.appendChild(docLink);\n",
              "        }\n",
              "      </script>\n",
              "    </div>\n",
              "  </div>\n",
              "  "
            ]
          },
          "metadata": {},
          "execution_count": 158
        }
      ]
    },
    {
      "cell_type": "markdown",
      "source": [
        "VADER sentiment analyzer is used to calculate a compound score for each sentence in the text corpus. The compound score is a metric that combines the positive, negative, and neutral scores produced by VADER into a single score that represents the overall sentiment of the sentence. The compound scores are then mapped to sentiment categories (positive, negative, or neutral) using a custom function."
      ],
      "metadata": {
        "id": "GweB3BTy1SAT"
      }
    },
    {
      "cell_type": "code",
      "source": [
        "# Count the number of rows containing 'positive' sentiment\n",
        "positive_count = df[df['sentiment_category'] == 'Positive'].shape[0]\n",
        "\n",
        "# Count the number of rows containing 'negative' sentiment\n",
        "negative_count = df[df['sentiment_category'] == 'Negative'].shape[0]\n",
        "\n",
        "# Count the number of rows containing 'neutral' sentiment\n",
        "neutral_count = df[df['sentiment_category'] == 'Neutral'].shape[0]\n",
        "\n",
        "print(f\"Positive sentiment count: {positive_count}\")\n",
        "print(f\"Negative sentiment count: {negative_count}\")\n",
        "print(f\"Neutral sentiment count: {neutral_count}\")"
      ],
      "metadata": {
        "colab": {
          "base_uri": "https://localhost:8080/"
        },
        "id": "58nDsOIVyLQD",
        "outputId": "b414fccc-9801-4ea9-b38a-a7c62a6b5677"
      },
      "execution_count": null,
      "outputs": [
        {
          "output_type": "stream",
          "name": "stdout",
          "text": [
            "Positive sentiment count: 2036\n",
            "Negative sentiment count: 1701\n",
            "Neutral sentiment count: 3596\n"
          ]
        }
      ]
    },
    {
      "cell_type": "markdown",
      "source": [
        "The resulting sentiment categories are then visualized using a countplot to show the distribution of sentiment categories in the text corpus. Finally, the analysis counts the number of sentences in the text corpus that belong to each sentiment category."
      ],
      "metadata": {
        "id": "SrigPsW11JJG"
      }
    },
    {
      "cell_type": "code",
      "source": [
        "# Print the top 10 positive sentiments\n",
        "print(\"Top 10 positive sentiments:\")\n",
        "print(df.sort_values('sentiment_score', ascending=False)[['lem_sentence', 'sentiment_score']].head(10))"
      ],
      "metadata": {
        "colab": {
          "base_uri": "https://localhost:8080/"
        },
        "id": "J-LUpcynQDrd",
        "outputId": "731d0ab3-d1c0-4cc5-ad2e-4323f4e69d12"
      },
      "execution_count": null,
      "outputs": [
        {
          "output_type": "stream",
          "name": "stdout",
          "text": [
            "Top 10 positive sentiments:\n",
            "                                           lem_sentence  sentiment_score\n",
            "2448  company profit whole pandemic trust vaccine sa...           0.9485\n",
            "7041  vaccination effective public health interventi...           0.9460\n",
            "7328  stay healthy free covid use safety measure soc...           0.9001\n",
            "2653    concern normal good trust efficacy vaccine hope           0.8442\n",
            "6712  stay safe jab easy work shop take social dista...           0.8402\n",
            "2245                 trust government much hope sincere           0.8360\n",
            "6403  trust pfizer vaccine hear develop think s safe...           0.8176\n",
            "3976           vaccine safe effective recommend vaccine           0.8176\n",
            "29             regular safety measure stay healthy good           0.8126\n",
            "128                           side effect great benefit           0.7964\n"
          ]
        }
      ]
    },
    {
      "cell_type": "markdown",
      "source": [
        "### **Insights from this output:**\n",
        "1. The top 10 positive sentiments all contain words that suggest optimism and positivity towards the COVID-19 vaccine. Words like \"trust,\" \"safe,\" \"effective,\" and \"recommend\" appear frequently, indicating that people are expressing confidence in the vaccine's ability to protect them from the virus.\n",
        "2. Some sentiments also mention the importance of taking safety measures, such as social distancing and regular health check-ups, which suggests that people are aware of the ongoing risk of the pandemic and are taking steps to protect themselves.\n",
        "3. The sentiment scores for the top 10 positive sentiments are all quite high, ranging from 0.7964 to 0.9485. This indicates that these sentiments are very positive in nature and are likely reflecting strong opinions or beliefs about the COVID-19 vaccine.\n",
        "4. The top positive sentiments suggest that people are feeling optimistic about the vaccine's potential to combat the pandemic and are expressing trust in its efficacy and safety. These sentiments are likely driven by the widespread distribution of the vaccine and the positive results seen in countries where vaccination rates are high."
      ],
      "metadata": {
        "id": "2-4q0q1U39ZS"
      }
    },
    {
      "cell_type": "code",
      "source": [
        "# Print the top 10 negative sentiments\n",
        "print(\"\\nTop 10 negative sentiments:\")\n",
        "print(df.sort_values('sentiment_score', ascending=True)[['lem_sentence', 'sentiment_score']].head(10))"
      ],
      "metadata": {
        "colab": {
          "base_uri": "https://localhost:8080/"
        },
        "id": "dlNpKPsF4Fj7",
        "outputId": "eb530d7e-217b-4f5c-fc75-31b32f526806"
      },
      "execution_count": null,
      "outputs": [
        {
          "output_type": "stream",
          "name": "stdout",
          "text": [
            "\n",
            "Top 10 negative sentiments:\n",
            "                                           lem_sentence  sentiment_score\n",
            "6094      die continue die serious case people die hour          -0.9186\n",
            "3585  many people die virus vaccine need bad effect ...          -0.9062\n",
            "5779  chance receive covid vaccine sick common flu r...          -0.8979\n",
            "4695  slow vaccination rate people fear death medium...          -0.8834\n",
            "7293  covid combination new disease political econom...          -0.8807\n",
            "5642  report people suffer severe vaccine side effec...          -0.8750\n",
            "6492  ve hear people suffer allergic reaction get va...          -0.8689\n",
            "579               ve hear pain killer stop vaccine work          -0.8689\n",
            "6331                  vaccine worry sick give bad covid          -0.8658\n",
            "4070             vaccine stop get infected stop get ill          -0.8555\n"
          ]
        }
      ]
    },
    {
      "cell_type": "markdown",
      "source": [
        "### **Insights from this output:**\n",
        "1. Several of the negative sentiments express fear of illness, death, or severe side effects related to the vaccine. For example, sentiment 6094 expresses the fear of people dying from the virus, while sentiment 3585 expresses concern about the potential negative effects of the vaccine on people's health.\n",
        "\n",
        "2. Sentiment 4695 suggests that the slow rate of vaccine rollout is causing concern and fear among people. This could be related to concerns about the continued spread of the virus and the impact it is having on people's lives.\n",
        "\n",
        "3. Sentiment 7293 suggests that political and economic factors are also contributing to negative attitudes towards the COVID-19 vaccine. This could be related to issues such as vaccine distribution, government policies, or the economic impact of the pandemic.\n",
        "\n",
        "4. Several of the negative sentiments express concerns about vaccine side effects. For example, sentiment 5642 suggests that people are worried about severe side effects related to the vaccine, while sentiment 6492 expresses concern about allergic reactions.\n",
        "\n",
        "5. Sentiment 579 expresses doubt about the effectiveness of the vaccine, specifically in relation to painkillers. This suggests that some people may be skeptical about the benefits of getting vaccinated."
      ],
      "metadata": {
        "id": "DsWJmO2N4aae"
      }
    },
    {
      "cell_type": "markdown",
      "source": [
        "### Similary, for lem_label:"
      ],
      "metadata": {
        "id": "-HzQQKW4RM8g"
      }
    },
    {
      "cell_type": "code",
      "source": [
        "from textblob import TextBlob\n",
        "\n",
        "# create a new column 'sentiment' with the polarity of each sentence\n",
        "df['label_sentiment'] = df['lem_label'].apply(lambda x: TextBlob(x).sentiment.polarity)\n",
        "\n",
        "# visualize the distribution of sentiment scores using a histogram\n",
        "import matplotlib.pyplot as plt\n",
        "\n",
        "plt.hist(df['sentiment'])\n",
        "plt.xlabel('Sentiment Score')\n",
        "plt.ylabel('Frequency')\n",
        "plt.title('Distribution of Sentiment Scores')\n",
        "plt.show()\n"
      ],
      "metadata": {
        "colab": {
          "base_uri": "https://localhost:8080/",
          "height": 295
        },
        "id": "ecJoTDIUOb4p",
        "outputId": "4ea30dac-45e3-4531-aab4-9d9bf99bfad1"
      },
      "execution_count": null,
      "outputs": [
        {
          "output_type": "display_data",
          "data": {
            "text/plain": [
              "<Figure size 432x288 with 1 Axes>"
            ],
            "image/png": "[encoded data removed]"
          },
          "metadata": {
            "needs_background": "light"
          }
        }
      ]
    },
    {
      "cell_type": "code",
      "source": [
        "from nltk.sentiment.vader import SentimentIntensityAnalyzer\n",
        "\n",
        "# Create an instance of the VADER sentiment analyzer\n",
        "analyzer = SentimentIntensityAnalyzer()\n",
        "\n",
        "# Apply the analyzer to the 'lem_sentence' column and get the compound score for each sentence\n",
        "df['label_sentiment_score'] = df['lem_label'].apply(lambda x: analyzer.polarity_scores(x)['compound'])\n",
        "\n",
        "# Define a function to map the compound score to a sentiment category\n",
        "def get_sentiment(score):\n",
        "    if score > 0:\n",
        "        return 'Positive'\n",
        "    elif score < 0:\n",
        "        return 'Negative'\n",
        "    else:\n",
        "        return 'Neutral'\n",
        "\n",
        "# Apply the function to the sentiment score column to get the sentiment category for each sentence\n",
        "df['label_sentiment_category'] = df['label_sentiment_score'].apply(lambda x: get_sentiment(x))\n",
        "\n",
        "# Visualize the distribution of sentiment categories\n",
        "sns.countplot(x='sentiment_category', data=df)\n",
        "plt.title('Sentiment Analysis')\n",
        "plt.xlabel('Sentiment Category')\n",
        "plt.ylabel('Count')\n",
        "plt.show()\n"
      ],
      "metadata": {
        "colab": {
          "base_uri": "https://localhost:8080/",
          "height": 295
        },
        "id": "i3lNmwTZOhY3",
        "outputId": "058bff63-c21d-4a27-fdea-cc2eb8c00685"
      },
      "execution_count": null,
      "outputs": [
        {
          "output_type": "display_data",
          "data": {
            "text/plain": [
              "<Figure size 432x288 with 1 Axes>"
            ],
            "image/png": "[encoded data removed]"
          },
          "metadata": {
            "needs_background": "light"
          }
        }
      ]
    },
    {
      "cell_type": "code",
      "source": [
        "# Define a function to get the sentiment score of each sentence\n",
        "def get_sentiment_score(text):\n",
        "    return analyzer.polarity_scores(text)['compound']\n",
        "\n",
        "# Add a new column for the sentiment score\n",
        "df['label_sentiment_score'] = df['lem_label'].apply(get_sentiment_score)\n",
        "\n",
        "df.head(3)"
      ],
      "metadata": {
        "colab": {
          "base_uri": "https://localhost:8080/",
          "height": 512
        },
        "id": "D7CDieZoPU-r",
        "outputId": "221f0c99-d5d5-4565-d095-389489125202"
      },
      "execution_count": null,
      "outputs": [
        {
          "output_type": "execute_result",
          "data": {
            "text/plain": [
              "                                            sentence  \\\n",
              "0      booster shots side effects worsen second shot   \n",
              "1                               vaccine side effects   \n",
              "2  booster vaccine leaves worse side effects firs...   \n",
              "\n",
              "                                         label  label_idx  \\\n",
              "0  booster shot side effects worse second shot        175   \n",
              "1  booster shot side effects worse second shot        175   \n",
              "2  booster shot side effects worse second shot        175   \n",
              "\n",
              "                                      token_sentence  \\\n",
              "0  [booster, shots, side, effects, worsen, second...   \n",
              "1                           [vaccine, side, effects]   \n",
              "2  [booster, vaccine, leaves, worse, side, effect...   \n",
              "\n",
              "                                         token_label  \\\n",
              "0  [booster, shot, side, effects, worse, second, ...   \n",
              "1  [booster, shot, side, effects, worse, second, ...   \n",
              "2  [booster, shot, side, effects, worse, second, ...   \n",
              "\n",
              "                                      lem_sentence  \\\n",
              "0      booster shot side effect worsen second shot   \n",
              "1                              vaccine side effect   \n",
              "2  vaccine leave bad side effect first second dose   \n",
              "\n",
              "                                   lem_label  sentiment  sentiment_score  \\\n",
              "0  booster shoot side effect bad second shot       0.00          -0.5106   \n",
              "1  booster shoot side effect bad second shot       0.00           0.0000   \n",
              "2  booster shoot side effect bad second shot      -0.15          -0.5719   \n",
              "\n",
              "  sentiment_category  label_sentiment  label_sentiment_score  \\\n",
              "0           Negative            -0.35                -0.7096   \n",
              "1            Neutral            -0.35                -0.7096   \n",
              "2           Negative            -0.35                -0.7096   \n",
              "\n",
              "  label_sentiment_category  \n",
              "0                 Negative  \n",
              "1                 Negative  \n",
              "2                 Negative  "
            ],
            "text/html": [
              "\n",
              "  <div id=\"df-63452622-8403-444c-9ea0-86d23c7fd87b\">\n",
              "    <div class=\"colab-df-container\">\n",
              "      <div>\n",
              "<style scoped>\n",
              "    .dataframe tbody tr th:only-of-type {\n",
              "        vertical-align: middle;\n",
              "    }\n",
              "\n",
              "    .dataframe tbody tr th {\n",
              "        vertical-align: top;\n",
              "    }\n",
              "\n",
              "    .dataframe thead th {\n",
              "        text-align: right;\n",
              "    }\n",
              "</style>\n",
              "<table border=\"1\" class=\"dataframe\">\n",
              "  <thead>\n",
              "    <tr style=\"text-align: right;\">\n",
              "      <th></th>\n",
              "      <th>sentence</th>\n",
              "      <th>label</th>\n",
              "      <th>label_idx</th>\n",
              "      <th>token_sentence</th>\n",
              "      <th>token_label</th>\n",
              "      <th>lem_sentence</th>\n",
              "      <th>lem_label</th>\n",
              "      <th>sentiment</th>\n",
              "      <th>sentiment_score</th>\n",
              "      <th>sentiment_category</th>\n",
              "      <th>label_sentiment</th>\n",
              "      <th>label_sentiment_score</th>\n",
              "      <th>label_sentiment_category</th>\n",
              "    </tr>\n",
              "  </thead>\n",
              "  <tbody>\n",
              "    <tr>\n",
              "      <th>0</th>\n",
              "      <td>booster shots side effects worsen second shot</td>\n",
              "      <td>booster shot side effects worse second shot</td>\n",
              "      <td>175</td>\n",
              "      <td>[booster, shots, side, effects, worsen, second...</td>\n",
              "      <td>[booster, shot, side, effects, worse, second, ...</td>\n",
              "      <td>booster shot side effect worsen second shot</td>\n",
              "      <td>booster shoot side effect bad second shot</td>\n",
              "      <td>0.00</td>\n",
              "      <td>-0.5106</td>\n",
              "      <td>Negative</td>\n",
              "      <td>-0.35</td>\n",
              "      <td>-0.7096</td>\n",
              "      <td>Negative</td>\n",
              "    </tr>\n",
              "    <tr>\n",
              "      <th>1</th>\n",
              "      <td>vaccine side effects</td>\n",
              "      <td>booster shot side effects worse second shot</td>\n",
              "      <td>175</td>\n",
              "      <td>[vaccine, side, effects]</td>\n",
              "      <td>[booster, shot, side, effects, worse, second, ...</td>\n",
              "      <td>vaccine side effect</td>\n",
              "      <td>booster shoot side effect bad second shot</td>\n",
              "      <td>0.00</td>\n",
              "      <td>0.0000</td>\n",
              "      <td>Neutral</td>\n",
              "      <td>-0.35</td>\n",
              "      <td>-0.7096</td>\n",
              "      <td>Negative</td>\n",
              "    </tr>\n",
              "    <tr>\n",
              "      <th>2</th>\n",
              "      <td>booster vaccine leaves worse side effects firs...</td>\n",
              "      <td>booster shot side effects worse second shot</td>\n",
              "      <td>175</td>\n",
              "      <td>[booster, vaccine, leaves, worse, side, effect...</td>\n",
              "      <td>[booster, shot, side, effects, worse, second, ...</td>\n",
              "      <td>vaccine leave bad side effect first second dose</td>\n",
              "      <td>booster shoot side effect bad second shot</td>\n",
              "      <td>-0.15</td>\n",
              "      <td>-0.5719</td>\n",
              "      <td>Negative</td>\n",
              "      <td>-0.35</td>\n",
              "      <td>-0.7096</td>\n",
              "      <td>Negative</td>\n",
              "    </tr>\n",
              "  </tbody>\n",
              "</table>\n",
              "</div>\n",
              "      <button class=\"colab-df-convert\" onclick=\"convertToInteractive('df-63452622-8403-444c-9ea0-86d23c7fd87b')\"\n",
              "              title=\"Convert this dataframe to an interactive table.\"\n",
              "              style=\"display:none;\">\n",
              "        \n",
              "  <svg xmlns=\"http://www.w3.org/2000/svg\" height=\"24px\"viewBox=\"0 0 24 24\"\n",
              "       width=\"24px\">\n",
              "    <path d=\"M0 0h24v24H0V0z\" fill=\"none\"/>\n",
              "    <path d=\"M18.56 5.44l.94 2.06.94-2.06 2.06-.94-2.06-.94-.94-2.06-.94 2.06-2.06.94zm-11 1L8.5 8.5l.94-2.06 2.06-.94-2.06-.94L8.5 2.5l-.94 2.06-2.06.94zm10 10l.94 2.06.94-2.06 2.06-.94-2.06-.94-.94-2.06-.94 2.06-2.06.94z\"/><path d=\"M17.41 7.96l-1.37-1.37c-.4-.4-.92-.59-1.43-.59-.52 0-1.04.2-1.43.59L10.3 9.45l-7.72 7.72c-.78.78-.78 2.05 0 2.83L4 21.41c.39.39.9.59 1.41.59.51 0 1.02-.2 1.41-.59l7.78-7.78 2.81-2.81c.8-.78.8-2.07 0-2.86zM5.41 20L4 18.59l7.72-7.72 1.47 1.35L5.41 20z\"/>\n",
              "  </svg>\n",
              "      </button>\n",
              "      \n",
              "  <style>\n",
              "    .colab-df-container {\n",
              "      display:flex;\n",
              "      flex-wrap:wrap;\n",
              "      gap: 12px;\n",
              "    }\n",
              "\n",
              "    .colab-df-convert {\n",
              "      background-color: #E8F0FE;\n",
              "      border: none;\n",
              "      border-radius: 50%;\n",
              "      cursor: pointer;\n",
              "      display: none;\n",
              "      fill: #1967D2;\n",
              "      height: 32px;\n",
              "      padding: 0 0 0 0;\n",
              "      width: 32px;\n",
              "    }\n",
              "\n",
              "    .colab-df-convert:hover {\n",
              "      background-color: #E2EBFA;\n",
              "      box-shadow: 0px 1px 2px rgba(60, 64, 67, 0.3), 0px 1px 3px 1px rgba(60, 64, 67, 0.15);\n",
              "      fill: #174EA6;\n",
              "    }\n",
              "\n",
              "    [theme=dark] .colab-df-convert {\n",
              "      background-color: #3B4455;\n",
              "      fill: #D2E3FC;\n",
              "    }\n",
              "\n",
              "    [theme=dark] .colab-df-convert:hover {\n",
              "      background-color: #434B5C;\n",
              "      box-shadow: 0px 1px 3px 1px rgba(0, 0, 0, 0.15);\n",
              "      filter: drop-shadow(0px 1px 2px rgba(0, 0, 0, 0.3));\n",
              "      fill: #FFFFFF;\n",
              "    }\n",
              "  </style>\n",
              "\n",
              "      <script>\n",
              "        const buttonEl =\n",
              "          document.querySelector('#df-63452622-8403-444c-9ea0-86d23c7fd87b button.colab-df-convert');\n",
              "        buttonEl.style.display =\n",
              "          google.colab.kernel.accessAllowed ? 'block' : 'none';\n",
              "\n",
              "        async function convertToInteractive(key) {\n",
              "          const element = document.querySelector('#df-63452622-8403-444c-9ea0-86d23c7fd87b');\n",
              "          const dataTable =\n",
              "            await google.colab.kernel.invokeFunction('convertToInteractive',\n",
              "                                                     [key], {});\n",
              "          if (!dataTable) return;\n",
              "\n",
              "          const docLinkHtml = 'Like what you see? Visit the ' +\n",
              "            '<a target=\"_blank\" href=https://colab.research.google.com/notebooks/data_table.ipynb>data table notebook</a>'\n",
              "            + ' to learn more about interactive tables.';\n",
              "          element.innerHTML = '';\n",
              "          dataTable['output_type'] = 'display_data';\n",
              "          await google.colab.output.renderOutput(dataTable, element);\n",
              "          const docLink = document.createElement('div');\n",
              "          docLink.innerHTML = docLinkHtml;\n",
              "          element.appendChild(docLink);\n",
              "        }\n",
              "      </script>\n",
              "    </div>\n",
              "  </div>\n",
              "  "
            ]
          },
          "metadata": {},
          "execution_count": 175
        }
      ]
    },
    {
      "cell_type": "code",
      "source": [
        "# Count the number of rows containing 'positive' sentiment\n",
        "positive_count = df[df['sentiment_category'] == 'Positive'].shape[0]\n",
        "\n",
        "# Count the number of rows containing 'negative' sentiment\n",
        "negative_count = df[df['sentiment_category'] == 'Negative'].shape[0]\n",
        "\n",
        "# Count the number of rows containing 'neutral' sentiment\n",
        "neutral_count = df[df['sentiment_category'] == 'Neutral'].shape[0]\n",
        "\n",
        "print(f\"Positive sentiment count: {positive_count}\")\n",
        "print(f\"Negative sentiment count: {negative_count}\")\n",
        "print(f\"Neutral sentiment count: {neutral_count}\")"
      ],
      "metadata": {
        "colab": {
          "base_uri": "https://localhost:8080/"
        },
        "id": "5Tu7tJeK5IFw",
        "outputId": "2d12eefe-702e-468a-c390-7a9c1cbf9fd0"
      },
      "execution_count": null,
      "outputs": [
        {
          "output_type": "stream",
          "name": "stdout",
          "text": [
            "Positive sentiment count: 2036\n",
            "Negative sentiment count: 1701\n",
            "Neutral sentiment count: 3596\n"
          ]
        }
      ]
    },
    {
      "cell_type": "markdown",
      "source": [
        "Based on the sentiment analysis graph for both of the columns, it appears that the text corpus contains more sentences with a neutral sentiment (3,596) than those with either a positive (2,036) or negative (1,701) sentiment. The reult suggests that the text may be fairly balanced or objective in nature, rather than expressing strong positive or negative emotions.\n",
        "\n",
        "\n",
        "One possible insight from the sentiment analysis is that there is a lot of discussion about the COVID-19 vaccine, which is likely contributing to the positive sentiments. People may be expressing optimism about the vaccine's effectiveness and the potential for it to bring an end to the pandemic.\n",
        "\n",
        "\n",
        "At the same time, the presence of negative and neutral sentiments suggests that there are still concerns and uncertainties around the vaccine as well. These could include concerns about side effects or efficacy, as well as more general concerns about the ongoing impact of the pandemic on people's lives.\n",
        "\n",
        "\n",
        "The smaller number of negative sentiments could indicate that concerns and fears about the vaccine are not as widespread as might be expected, or that people are expressing their concerns in more nuanced or neutral ways.\n",
        "\n",
        "\n",
        "Overall, the sentiment analysis provides some context for the topic modeling results, suggesting that there is a complex mix of emotions and opinions around the COVID-19 vaccine and related issues, with a general tendency towards positivity but still significant concerns and uncertainties as well. This insight can be useful for healthcare professionals, public health officials, and policy makers in designing effective communication and outreach strategies to increase vaccination rates and address any remaining concerns or misconceptions."
      ],
      "metadata": {
        "id": "RC4Dfq6T5X-R"
      }
    },
    {
      "cell_type": "code",
      "source": [
        "# Print the top 10 positive sentiments\n",
        "print(\"Top 10 positive sentiments:\")\n",
        "print(df.sort_values('sentiment_score', ascending=False)[['lem_label', 'sentiment_score']].head(10))"
      ],
      "metadata": {
        "colab": {
          "base_uri": "https://localhost:8080/"
        },
        "id": "rulCEbt-RLXb",
        "outputId": "d753a001-91ac-45a7-aa55-bfa15f6dbadd"
      },
      "execution_count": null,
      "outputs": [
        {
          "output_type": "stream",
          "name": "stdout",
          "text": [
            "Top 10 positive sentiments:\n",
            "                                lem_label  sentiment_score\n",
            "2448        trust company produce vaccine           0.9485\n",
            "7041                    vaccine mandatory           0.9460\n",
            "7328  regular safety measure stay healthy           0.9001\n",
            "2653             m concerned vaccine sick           0.8442\n",
            "6712                stay safe m vaccinate           0.8402\n",
            "2245                sure trust government           0.8360\n",
            "6403                  choose vaccine want           0.8176\n",
            "3976                 tell covid19 vaccine           0.8176\n",
            "29    regular safety measure stay healthy           0.8126\n",
            "128             covid vaccine bad disease           0.7964\n"
          ]
        }
      ]
    },
    {
      "cell_type": "markdown",
      "source": [
        "### **Insights from this output:**\n",
        "1. The top positive sentiment is about trust in the company producing the vaccine, indicating that people feel positively about the vaccine's efficacy and safety.\n",
        "\n",
        "2. Another positive sentiment is about vaccine mandates, suggesting that people feel positively about policies that require vaccination.\n",
        "\n",
        "3. People also seem to feel positively about the idea of following regular safety measures to stay healthy, which could include wearing masks, social distancing, and practicing good hygiene.\n",
        "\n",
        "4. Some positive sentiments express people's intention to get vaccinated, indicating a desire to protect themselves from COVID-19.\n",
        "\n",
        "5. The sentiment \"sure trust government\" suggests that some people feel positively about their government's handling of the vaccine distribution and communication."
      ],
      "metadata": {
        "id": "jdmbdwUu6OmD"
      }
    },
    {
      "cell_type": "code",
      "source": [
        "# Print the top 10 negative sentiments\n",
        "print(\"\\nTop 5 negative sentiments:\")\n",
        "print(df.sort_values('sentiment_score', ascending=True)[['lem_label', 'sentiment_score']].head(5))"
      ],
      "metadata": {
        "colab": {
          "base_uri": "https://localhost:8080/"
        },
        "id": "V93RV7YJ5-bC",
        "outputId": "67875d5b-857e-4766-da3e-fcf797141376"
      },
      "execution_count": null,
      "outputs": [
        {
          "output_type": "stream",
          "name": "stdout",
          "text": [
            "\n",
            "Top 5 negative sentiments:\n",
            "                                         lem_label  sentiment_score\n",
            "6094  many report severe side effect death vaccine          -0.9186\n",
            "3585                        mortality rate vaccine          -0.9062\n",
            "5779               need covid vaccine immunize flu          -0.8979\n",
            "4695                 covid19 vaccination rate slow          -0.8834\n",
            "7293                                 dangerous say          -0.8807\n"
          ]
        }
      ]
    },
    {
      "cell_type": "markdown",
      "source": [
        "### **Insights from this output:**\n",
        "1. The sentiment analysis shows that the top five negative sentiments in the corpus are related to side effects and mortality rates associated with the COVID-19 vaccine, the slow vaccination rate, and the need to get vaccinated against COVID-19 to protect against the flu.\n",
        "2. These negative sentiments suggest that people may be expressing concerns about the safety and efficacy of the COVID-19 vaccine. The mention of severe side effects and death is particularly concerning, as it may reflect fears about adverse reactions to the vaccine. The mention of mortality rates may also suggest that people are concerned about the overall impact of the pandemic on public health.\n",
        "3. The slow vaccination rate could reflect frustration with the pace of vaccine distribution, and a sense that more needs to be done to get people vaccinated quickly. The need to get vaccinated against COVID-19 to protect against the flu may indicate a lack of awareness or understanding about the differences between these two viruses and the vaccines that are available to protect against them.\n"
      ],
      "metadata": {
        "id": "dNL7fp6V68Qu"
      }
    },
    {
      "cell_type": "markdown",
      "source": [
        "## **vi. Concordance Analysis**\n",
        "\\\n",
        "Concordance is a useful tool for exploring patterns and relationships within a text corpus. In the context of the COVID-19 vaccine dataset, concordance can help identify frequently occurring words or phrases and provide insight into people's concerns and questions regarding the vaccine."
      ],
      "metadata": {
        "id": "lAl7DMfyZsjO"
      }
    },
    {
      "cell_type": "code",
      "source": [
        "from nltk.text import Text\n",
        "\n",
        "# Create a list of lemmatized sentences\n",
        "lem_sentences = df['lem_sentence'].tolist()\n",
        "\n",
        "# Create a Text object\n",
        "text = Text([word for sent in lem_sentences for word in sent.split()])"
      ],
      "metadata": {
        "id": "zkAY-OQxZwka"
      },
      "execution_count": null,
      "outputs": []
    },
    {
      "cell_type": "code",
      "source": [
        "# Perform concordance analysis for a word\n",
        "text.concordance('vaccine')"
      ],
      "metadata": {
        "id": "3I8D5vrybIyI",
        "colab": {
          "base_uri": "https://localhost:8080/"
        },
        "outputId": "95052ea1-8b4f-4c62-f98b-6907a34260f9"
      },
      "execution_count": null,
      "outputs": [
        {
          "output_type": "stream",
          "name": "stdout",
          "text": [
            "Displaying 25 of 4353 matches:\n",
            "shot side effect worsen second shot vaccine side effect vaccine leave bad side \n",
            "sen second shot vaccine side effect vaccine leave bad side effect first second \n",
            "e reinforcement safe second covid19 vaccine high side effect side effect bad fi\n",
            "nd injection few effect side effect vaccine vaccine cause side effect people si\n",
            "tion few effect side effect vaccine vaccine cause side effect people side effec\n",
            "ct bad second shot risk get booster vaccine reinforcement soft dose covid high \n",
            "ver second shot booster go feel bad vaccine bad first second dose leave strong \n",
            "econd dose leave strong side effect vaccine bad side effect stay careful standa\n",
            "vid enough follow hygiene rule need vaccine regular safety measure keep healthy\n",
            "nt spread covid wear mask stay home vaccine know vaccine recommend child many v\n",
            "id wear mask stay home vaccine know vaccine recommend child many vaccination gi\n",
            "ion give child child die administer vaccine vaccine safe young child vaccine sa\n",
            " child child die administer vaccine vaccine safe young child vaccine safe other\n",
            "er vaccine vaccine safe young child vaccine safe other young child vaccine dang\n",
            "hild vaccine safe other young child vaccine dangerous old child other vaccine s\n",
            "d vaccine dangerous old child other vaccine safe young child other side effect \n",
            "young child other side effect covid vaccine bring child specific vaccine safer \n",
            " covid vaccine bring child specific vaccine safer young child child safe other \n",
            "afe other child differ safety child vaccine covid give baby safe vaccine suited\n",
            " child vaccine covid give baby safe vaccine suited child many laboratory recomm\n",
            " shoot bad second side effect first vaccine effect bad second second vaccine sh\n",
            "st vaccine effect bad second second vaccine shot seem reaction stay schedule wo\n",
            "y schedule work prepare side effect vaccine bad second dose true second shot vi\n",
            "cond shot side effect bad one first vaccine shot one side effect second dose va\n",
            "ne shot one side effect second dose vaccine second shot affect people need work\n"
          ]
        }
      ]
    },
    {
      "cell_type": "markdown",
      "source": [
        "By analyzing the concordance output, one can gain insight into the main themes or topics related to a specific word, such as \"vaccine.\" For instance, upon searching for this word, the output would reveal mentions of vaccine ***side effects, vaccine safety, vaccine administration, vaccine doses, and vaccine recommendations***. This can help in identifying and understanding the key topics or themes surrounding the concept of vaccines in the given text."
      ],
      "metadata": {
        "id": "DMfNv5gQa0xy"
      }
    },
    {
      "cell_type": "code",
      "source": [
        "# Perform concordance analysis for a word\n",
        "text.concordance('covid')"
      ],
      "metadata": {
        "id": "1aW7vwDWbLD9",
        "colab": {
          "base_uri": "https://localhost:8080/"
        },
        "outputId": "8643ba26-7c81-4ce1-d24c-7fb84ef6e7b4"
      },
      "execution_count": null,
      "outputs": [
        {
          "output_type": "stream",
          "name": "stdout",
          "text": [
            "Displaying 25 of 873 matches:\n",
            "ster vaccine reinforcement soft dose covid high fever second shot booster go fe\n",
            "ety measure stay healthy stop spread covid practice social distancing wear mask\n",
            "id19 safety measure sufficient avoid covid enough follow hygiene rule need vacc\n",
            "deline keep safe wash hand keep safe covid regular measure keep safe action kee\n",
            "ng measure sufficient prevent spread covid wear mask stay home vaccine know vac\n",
            "e safe young child other side effect covid vaccine bring child specific vaccine\n",
            "er child differ safety child vaccine covid give baby safe vaccine suited child \n",
            "radict vaccine medication avoid take covid safe people medical condition medica\n",
            "diction vaccine contraindication get covid vaccine woman affect vaccine man sex\n",
            "ffect bad disease vaccine sicker get covid doubt vaccine bad virus medicine cur\n",
            "ine bad covid19 situation worsen bad covid think take vaccine dangerous disease\n",
            " disease wan safe side effect affect covid vaccine cold kill side effect bad co\n",
            "id vaccine cold kill side effect bad covid bad disease vaccine do well virus ba\n",
            "ad disease vaccine do well virus bad covid vaccine bad disease vaccine bad viru\n",
            "id19 vaccine bad disease vaccine bad covid vaccine result disaster m young fit \n",
            "ease vaccine bad side effect symptom covid m concern vaccine harmful good conce\n",
            " bad disease vaccine kill people bad covid virus make illness bad cure bad dise\n",
            "ine sick die become invalid reaction covid vaccine enough study indicate longte\n",
            "ggerate think rating covid19 believe covid dangerous making blow proportion see\n",
            " proportion seem believe covid19 bad covid bad flu past time pandemic strong co\n",
            "manity think people sick kind reason covid bad virus treat sick covid19 dangero\n",
            "d virus treat sick covid19 dangerous covid m sure covid bad say covid disease a\n",
            " sick covid19 dangerous covid m sure covid bad say covid disease affect old peo\n",
            "dangerous covid m sure covid bad say covid disease affect old people people suf\n",
            "eople suffer covid19 die majority go covid bad seem dangerous say think country\n"
          ]
        }
      ]
    },
    {
      "cell_type": "markdown",
      "source": [
        "Upon analyzing the concordance output, it can be observed that the text includes mentions of ***vaccine doses, vaccine side effects, vaccine safety, vaccine contraindication, vaccine recommendations, and COVID-19's danger***. The mentions of vaccine doses and vaccine administration suggest that people may be discussing their vaccination experiences, while the mentions of vaccine safety and vaccine contraindication indicate people's concerns regarding vaccine safety. Furthermore, the mentions of COVID-19's danger suggest that people are aware of the severity of the disease. This concordance analysis can provide an idea of the topics related to vaccines and COVID-19 that are being discussed by people."
      ],
      "metadata": {
        "id": "bs9arN5_b0q0"
      }
    },
    {
      "cell_type": "markdown",
      "source": [
        "# **6. Modelling, Evaluation and Deployment**\n",
        "As the current analysis pertains solely to data analysis, it does not include sections on modelling, evaluation, or deployment."
      ],
      "metadata": {
        "id": "8wroF-EmMg2x"
      }
    },
    {
      "cell_type": "markdown",
      "source": [
        "# **7. Conclution**\n",
        "\n",
        "This report aimed to explore, analyze, manipulate, visualize, and interpret the VIRA Conversation Corpus using Python and following the CRISP-DM method. The objective was to derive insights from the datasets and craft a clear, engaging, and informative narrative, with a specific focus on identifying common user intents in conversing about COVID-19 vaccines and detecting levels of user trust in the VIRA chatbot. The insights derived from the analysis provided valuable information for health organizations, policymakers, and stakeholders to address vaccine hesitancy and strategies to promote vaccine acceptance.\n",
        "\n",
        "Regarding our business questions, we found that the most frequent words and the topic modeling analysis of the corpus indicated that discussions primarily revolve around the COVID-19 pandemic, with a specific focus on vaccines. The subtopics include the efficacy, safety, and distribution of vaccines, public trust and concerns around the COVID-19 vaccine, as well as practical aspects of vaccination, such as making vaccines more accessible and protecting individuals from getting sick. However, we also found that the top 10 positive sentiments suggest that people are feeling optimistic about the vaccine's potential to combat the pandemic and are expressing trust in its efficacy and safety.\n",
        "\n",
        "The sentiment analysis revealed that the majority of the sentiments expressed about the COVID-19 vaccine were positive or neutral. People expressed optimism and positivity towards the vaccine and expressed confidence in its ability to protect them from the virus. The sentiments were likely driven by the widespread distribution of the vaccine and the positive results seen in countries with high vaccination rates.\n",
        "\n",
        "The stakeholders of the Intent dataset include healthcare professionals, public health officials, researchers, policymakers, and vaccine manufacturers, who can use the insights from this analysis to gain a better understanding of the public's concerns, questions, and intentions related to COVID-19 vaccines. The findings of this report provide valuable insights that can help stakeholders design effective strategies for addressing these concerns and providing accurate information to the public, ultimately leading to higher rates of vaccination and the end of the pandemic.\n",
        "\n",
        "Overall, this report provides a comprehensive analysis of the VIRA Conversation Corpus and provides valuable insights into the most common user intents related to COVID-19 vaccines and the sentiment towards them. The findings can inform ongoing research, public health policies, and vaccine development efforts, ultimately contributing to the global effort to combat the COVID-19 pandemic."
      ],
      "metadata": {
        "id": "5GIkNY9DNObT"
      }
    },
    {
      "cell_type": "markdown",
      "source": [
        "# **Reference:**"
      ],
      "metadata": {
        "id": "P334cJG1J8uA"
      }
    },
    {
      "cell_type": "markdown",
      "source": [
        "1. Gretz, S., Toledo, A., Friedman, R., Lahav, D., Weeks, R., Bar-Zeev, N., Sedoc, J., Sangha, P., Katz, Y., & Slonim, N. (2022). Benchmark Data and Evaluation Framework for Intent Discovery Around COVID-19 Vaccine Hesitancy. https://doi.org/10.48550/arxiv.2205.11966\n",
        "2. Stack Overflow. (2019). Why are Google Colab shell commands not working? Retrieved March 29, 2023, from https://stackoverflow.com/questions/56081324/why-are-google-colab-shell-commands-not-working\n",
        "3. Chapman, P., Clinton, J., Kerber, R., Khabaza, T., Reinartz, T., Shearer, C., & Wirth, R. (2021). CRISP-DM 2.0: A comprehensive data mining methodology and process model. DataScience PM. Retrieved March 29, 2023, from https://www.datascience-pm.com/crisp-dm-2/"
      ],
      "metadata": {
        "id": "WE6OuPDhKqAh"
      }
    },
    {
      "cell_type": "code",
      "source": [
        "%cd /content/gdrive/MyDrive/Colab/ANLP/AT1_PartB\n"
      ],
      "metadata": {
        "colab": {
          "base_uri": "https://localhost:8080/"
        },
        "id": "QUbwB-YNWx8v",
        "outputId": "c718706b-19d3-4e69-c6ab-0c996404adab"
      },
      "execution_count": null,
      "outputs": [
        {
          "output_type": "stream",
          "name": "stdout",
          "text": [
            "/content/gdrive/MyDrive/Colab/ANLP/AT1_PartB\n"
          ]
        }
      ]
    },
    {
      "cell_type": "code",
      "source": [
        "!pip install nbconvert"
      ],
      "metadata": {
        "colab": {
          "base_uri": "https://localhost:8080/"
        },
        "id": "me5HQherWvpT",
        "outputId": "6aaf5d04-6e49-4f9a-d0c5-86637f6014be"
      },
      "execution_count": null,
      "outputs": [
        {
          "output_type": "stream",
          "name": "stdout",
          "text": [
            "Looking in indexes: https://pypi.org/simple, https://us-python.pkg.dev/colab-wheels/public/simple/\n",
            "Requirement already satisfied: nbconvert in /usr/local/lib/python3.9/dist-packages (6.5.4)\n",
            "Requirement already satisfied: entrypoints>=0.2.2 in /usr/local/lib/python3.9/dist-packages (from nbconvert) (0.4)\n",
            "Requirement already satisfied: beautifulsoup4 in /usr/local/lib/python3.9/dist-packages (from nbconvert) (4.11.2)\n",
            "Requirement already satisfied: jinja2>=3.0 in /usr/local/lib/python3.9/dist-packages (from nbconvert) (3.1.2)\n",
            "Requirement already satisfied: lxml in /usr/local/lib/python3.9/dist-packages (from nbconvert) (4.9.2)\n",
            "Requirement already satisfied: traitlets>=5.0 in /usr/local/lib/python3.9/dist-packages (from nbconvert) (5.7.1)\n",
            "Requirement already satisfied: mistune<2,>=0.8.1 in /usr/local/lib/python3.9/dist-packages (from nbconvert) (0.8.4)\n",
            "Requirement already satisfied: jupyter-core>=4.7 in /usr/local/lib/python3.9/dist-packages (from nbconvert) (5.3.0)\n",
            "Requirement already satisfied: defusedxml in /usr/local/lib/python3.9/dist-packages (from nbconvert) (0.7.1)\n",
            "Requirement already satisfied: tinycss2 in /usr/local/lib/python3.9/dist-packages (from nbconvert) (1.2.1)\n",
            "Requirement already satisfied: nbclient>=0.5.0 in /usr/local/lib/python3.9/dist-packages (from nbconvert) (0.7.2)\n",
            "Requirement already satisfied: bleach in /usr/local/lib/python3.9/dist-packages (from nbconvert) (6.0.0)\n",
            "Requirement already satisfied: pandocfilters>=1.4.1 in /usr/local/lib/python3.9/dist-packages (from nbconvert) (1.5.0)\n",
            "Requirement already satisfied: nbformat>=5.1 in /usr/local/lib/python3.9/dist-packages (from nbconvert) (5.8.0)\n",
            "Requirement already satisfied: pygments>=2.4.1 in /usr/local/lib/python3.9/dist-packages (from nbconvert) (2.14.0)\n",
            "Requirement already satisfied: packaging in /usr/local/lib/python3.9/dist-packages (from nbconvert) (23.0)\n",
            "Requirement already satisfied: jupyterlab-pygments in /usr/local/lib/python3.9/dist-packages (from nbconvert) (0.2.2)\n",
            "Requirement already satisfied: MarkupSafe>=2.0 in /usr/local/lib/python3.9/dist-packages (from nbconvert) (2.1.2)\n",
            "Requirement already satisfied: platformdirs>=2.5 in /usr/local/lib/python3.9/dist-packages (from jupyter-core>=4.7->nbconvert) (3.1.1)\n",
            "Requirement already satisfied: jupyter-client>=6.1.12 in /usr/local/lib/python3.9/dist-packages (from nbclient>=0.5.0->nbconvert) (6.1.12)\n",
            "Requirement already satisfied: jsonschema>=2.6 in /usr/local/lib/python3.9/dist-packages (from nbformat>=5.1->nbconvert) (4.3.3)\n",
            "Requirement already satisfied: fastjsonschema in /usr/local/lib/python3.9/dist-packages (from nbformat>=5.1->nbconvert) (2.16.3)\n",
            "Requirement already satisfied: soupsieve>1.2 in /usr/local/lib/python3.9/dist-packages (from beautifulsoup4->nbconvert) (2.4)\n",
            "Requirement already satisfied: webencodings in /usr/local/lib/python3.9/dist-packages (from bleach->nbconvert) (0.5.1)\n",
            "Requirement already satisfied: six>=1.9.0 in /usr/local/lib/python3.9/dist-packages (from bleach->nbconvert) (1.16.0)\n",
            "Requirement already satisfied: attrs>=17.4.0 in /usr/local/lib/python3.9/dist-packages (from jsonschema>=2.6->nbformat>=5.1->nbconvert) (22.2.0)\n",
            "Requirement already satisfied: pyrsistent!=0.17.0,!=0.17.1,!=0.17.2,>=0.14.0 in /usr/local/lib/python3.9/dist-packages (from jsonschema>=2.6->nbformat>=5.1->nbconvert) (0.19.3)\n",
            "Requirement already satisfied: python-dateutil>=2.1 in /usr/local/lib/python3.9/dist-packages (from jupyter-client>=6.1.12->nbclient>=0.5.0->nbconvert) (2.8.2)\n",
            "Requirement already satisfied: tornado>=4.1 in /usr/local/lib/python3.9/dist-packages (from jupyter-client>=6.1.12->nbclient>=0.5.0->nbconvert) (6.2)\n",
            "Requirement already satisfied: pyzmq>=13 in /usr/local/lib/python3.9/dist-packages (from jupyter-client>=6.1.12->nbclient>=0.5.0->nbconvert) (23.2.1)\n"
          ]
        }
      ]
    }
  ],
  "metadata": {
    "colab": {
      "provenance": [],
      "collapsed_sections": [
        "frxffvrj0rcH",
        "W8kjEpAj0rZM"
      ],
      "toc_visible": true,
      "include_colab_link": true
    },
    "kernelspec": {
      "display_name": "Python 3",
      "name": "python3"
    },
    "language_info": {
      "name": "python"
    },
    "accelerator": "GPU",
    "gpuClass": "standard"
  },
  "nbformat": 4,
  "nbformat_minor": 0
}